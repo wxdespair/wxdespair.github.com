{
 "cells": [
  {
   "cell_type": "markdown",
   "metadata": {
    "heading_collapsed": true
   },
   "source": [
    "## IPython Shell 基础"
   ]
  },
  {
   "cell_type": "markdown",
   "metadata": {
    "hidden": true
   },
   "source": [
    "IPython shell 是 Python 的一个**高级交互解释器**，在**原始 Python 解释器**的基础上增加很多功能，可能帮助用户更加高效地进行 Python 交互式编程。 "
   ]
  },
  {
   "cell_type": "markdown",
   "metadata": {
    "heading_collapsed": true
   },
   "source": [
    "## 启动 IPthon Shell"
   ]
  },
  {
   "cell_type": "markdown",
   "metadata": {
    "heading_collapsed": true,
    "hidden": true
   },
   "source": [
    "### Windows "
   ]
  },
  {
   "cell_type": "markdown",
   "metadata": {
    "hidden": true
   },
   "source": [
    "在cmd中直接输入ipython进入"
   ]
  },
  {
   "cell_type": "markdown",
   "metadata": {
    "heading_collapsed": true,
    "hidden": true
   },
   "source": [
    "### Ubuntu Linux"
   ]
  },
  {
   "cell_type": "markdown",
   "metadata": {
    "hidden": true
   },
   "source": [
    "`Ctrl+Alt+T` 组合键打开命令行界面，输入命令**ipython**. "
   ]
  },
  {
   "cell_type": "markdown",
   "metadata": {
    "heading_collapsed": true
   },
   "source": [
    "## 帮助与文档 "
   ]
  },
  {
   "cell_type": "markdown",
   "metadata": {
    "hidden": true
   },
   "source": [
    "** Tab 补全**\n",
    "\n",
    "* 变量名补全\n",
    "* 函数名补全\n",
    "* 类属性方法补全\n",
    "* 模块补全"
   ]
  },
  {
   "cell_type": "markdown",
   "metadata": {
    "hidden": true
   },
   "source": [
    "**`?`**\n",
    "\n",
    "* 显示对象的概要信息"
   ]
  },
  {
   "cell_type": "markdown",
   "metadata": {
    "hidden": true
   },
   "source": [
    "** `??`**\n",
    "\n",
    "* 显示对象的源代码"
   ]
  },
  {
   "cell_type": "markdown",
   "metadata": {
    "heading_collapsed": true
   },
   "source": [
    "## 快捷键"
   ]
  },
  {
   "cell_type": "markdown",
   "metadata": {
    "heading_collapsed": true,
    "hidden": true
   },
   "source": [
    "### 导航快捷键"
   ]
  },
  {
   "cell_type": "markdown",
   "metadata": {
    "hidden": true
   },
   "source": [
    "* Ctrl+a 光标移动到本行开始\n",
    "* Ctrl+e 光标移动到本行结束 \n",
    "* Ctrl+b 光标回退一个字符\n",
    "* Ctrl+f 光标前进一个字符"
   ]
  },
  {
   "cell_type": "markdown",
   "metadata": {
    "heading_collapsed": true,
    "hidden": true
   },
   "source": [
    "### 文本输入快捷键"
   ]
  },
  {
   "cell_type": "markdown",
   "metadata": {
    "hidden": true
   },
   "source": [
    "* Backspace 删除前一个字符\n",
    "* Ctrl+d    删除后一个字符\n",
    "* Ctrl+k    从光标开始剪切至行的末尾\n",
    "* Ctrl+u    从行的开头剪切至光标\n",
    "* Ctrl+y    粘贴之前剪切的文本\n",
    "* Ctrl+t    交换前两个字符"
   ]
  },
  {
   "cell_type": "markdown",
   "metadata": {
    "heading_collapsed": true,
    "hidden": true
   },
   "source": [
    "### 历史命令快捷键"
   ]
  },
  {
   "cell_type": "markdown",
   "metadata": {
    "hidden": true
   },
   "source": [
    "* Ctrl+p 获取前一个历史命令\n",
    "* Ctrl+n 获取后一个历史命令\n",
    "* Ctrl+r 对历史命令进行反向搜索"
   ]
  },
  {
   "cell_type": "markdown",
   "metadata": {
    "heading_collapsed": true,
    "hidden": true
   },
   "source": [
    "### 其他快捷键"
   ]
  },
  {
   "cell_type": "markdown",
   "metadata": {
    "hidden": true
   },
   "source": [
    "* Ctrl+l 清除终端屏幕的内容\n",
    "* Ctrl+c 中断当前 Python 的命令\n",
    "* Ctrl+d 退出 IPython 的会话"
   ]
  },
  {
   "cell_type": "markdown",
   "metadata": {
    "heading_collapsed": true
   },
   "source": [
    "## 魔法命令"
   ]
  },
  {
   "cell_type": "markdown",
   "metadata": {
    "hidden": true
   },
   "source": [
    "**魔法命令(magic command)** 是在普通 Python 语法基础上的增强功能，分为:\n",
    "\n",
    "* **行魔法(line magic)：** 以一个 `%` 开始\n",
    "* **单元魔法(cell magic)：** 以两个 `%%` 开始"
   ]
  },
  {
   "cell_type": "markdown",
   "metadata": {
    "heading_collapsed": true,
    "hidden": true
   },
   "source": [
    "### 粘贴代码块"
   ]
  },
  {
   "cell_type": "markdown",
   "metadata": {
    "hidden": true
   },
   "source": [
    "** `%paste`**\n",
    "\n",
    "```\n",
    ">>> def add(x, y):\n",
    "...     return x+y\n",
    "...\n",
    "```"
   ]
  },
  {
   "cell_type": "markdown",
   "metadata": {
    "hidden": true
   },
   "source": [
    "**`%cpaste`** 交互式粘贴"
   ]
  },
  {
   "cell_type": "markdown",
   "metadata": {
    "heading_collapsed": true,
    "hidden": true
   },
   "source": [
    "### 计算代码运行时间： `%timeit` 和 `%%timeit`"
   ]
  },
  {
   "cell_type": "markdown",
   "metadata": {
    "hidden": true
   },
   "source": [
    "* `%timeit` 是行魔法\n",
    "* `%%timeit` 是单元魔法\n",
    "* 列表综合(list comprehension) 与 `for` 循环的时间比较 \n",
    "```\n",
    "%timeit L = [n**2 for n in range(1000)]\n",
    "```"
   ]
  },
  {
   "cell_type": "markdown",
   "metadata": {
    "heading_collapsed": true,
    "hidden": true
   },
   "source": [
    "### 常用命令"
   ]
  },
  {
   "cell_type": "markdown",
   "metadata": {
    "hidden": true
   },
   "source": [
    "  | 常用命令          | 简单说明                                   |\n",
    "  | ----------------- | ------------------------------------------ |\n",
    "  | %magic            | 显示所有魔术命令                           |\n",
    "  | %hist             | IPython命令的输入历史                      |\n",
    "  | %pdb              | 异常后自动进入调试器                       |\n",
    "  | %reset            | 删除当前命名空间中的全部变量或名称         |\n",
    "  | %who              | 显示IPython当前命名空间中已经定义的变量    |\n",
    "  | %time statement   | 给出代码的执行时间，statement 表示一段代码 |\n",
    "  | %timeit statement | 多次执行代码，计算综合平均执行时间         |\n",
    "  |%lsmagic| |\n",
    "  |%run|执行外部代码|"
   ]
  }
 ],
 "metadata": {
  "kernelspec": {
   "display_name": "Python 3",
   "language": "python",
   "name": "python3"
  },
  "language_info": {
   "codemirror_mode": {
    "name": "ipython",
    "version": 3
   },
   "file_extension": ".py",
   "mimetype": "text/x-python",
   "name": "python",
   "nbconvert_exporter": "python",
   "pygments_lexer": "ipython3",
   "version": "3.8.3"
  },
  "latex_envs": {
   "LaTeX_envs_menu_present": true,
   "autoclose": false,
   "autocomplete": true,
   "bibliofile": "biblio.bib",
   "cite_by": "apalike",
   "current_citInitial": 1,
   "eqLabelWithNumbers": true,
   "eqNumInitial": 1,
   "hotkeys": {
    "equation": "Ctrl-E",
    "itemize": "Ctrl-I"
   },
   "labels_anchors": false,
   "latex_user_defs": false,
   "report_style_numbering": false,
   "user_envs_cfg": false
  },
  "toc": {
   "base_numbering": 1,
   "nav_menu": {},
   "number_sections": false,
   "sideBar": true,
   "skip_h1_title": false,
   "title_cell": "Table of Contents",
   "title_sidebar": "Contents",
   "toc_cell": false,
   "toc_position": {},
   "toc_section_display": true,
   "toc_window_display": false
  }
 },
 "nbformat": 4,
 "nbformat_minor": 2
}
