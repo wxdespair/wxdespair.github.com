{
 "cells": [
  {
   "cell_type": "markdown",
   "metadata": {},
   "source": [
    "## Jupyter 基础"
   ]
  },
  {
   "cell_type": "markdown",
   "metadata": {},
   "source": [
    "Jupyter Notebook 是**交互**使用 Python 的图形用户界面，支持python代码块、Markdown语法块。\n",
    "\n",
    "* 用处：\n",
    "    * 整理知识，学习笔记\n",
    "    * 发布日记，杂文，所见所想\n",
    "    * 撰写发布技术文稿（代码支持，文档中的代码可直接运行）\n",
    "    * 撰写漂亮的数学公式（LaTeX 公式支持）"
   ]
  },
  {
   "cell_type": "markdown",
   "metadata": {},
   "source": [
    "### 什么是 Markdown\n",
    "\n",
    "Markdown 是一种方便记忆、书写的纯文本标记语言，用户可以使用这些标记符号以最小的输入代价生成极富表现力的文档：譬如您正在阅读的这份文档。它使用简单的符号标记不同的标题，分割不同的段落，**粗体** 或者 *斜体* 某些文字，更棒的是，它还可以\n",
    "\n",
    "#### 1. 制作一份待办事宜 Todo 列表\n",
    "\n",
    "- [ ] 支持以 PDF 格式导出文稿\n",
    "- [ ] 改进 Cmd 渲染算法，使用局部渲染技术提高渲染效率\n",
    "\n",
    "- [x] 新增 Todo 列表功能\n",
    "- [x] 修复 LaTex 公式渲染问题\n",
    "- [x] 新增 LaTex 公式编号功能\n",
    "\n",
    "#### 2. [更多语法的跳转链接](https://www.zybuluo.com/mdeditor?url=https://www.zybuluo.com/static/editor/md-help.markdown)"
   ]
  },
  {
   "cell_type": "markdown",
   "metadata": {},
   "source": [
    "1. 如果要输入数学表达式，只需在表达式两边分别添加符号 $,只分别添加一个表示**行内公式**，添加两个表示添加**行间（类似于块级元素）公式**\n",
    "1. 两个行内元素间也可以添加空行来换行\n",
    "1. 美元符号之间的公式需要遵循Latex语法命令\n",
    "1. 在文本两端添加**（中间的文本）**表示其中间的文本会**加粗**显示 \n",
    "1. Shift + Enter   ->  运行\n",
    "1. Shift + Ctrl + -   ->  在下方添加Markdown语法块（需要在编辑状态）"
   ]
  },
  {
   "cell_type": "markdown",
   "metadata": {},
   "source": [
    "行内公式 $f(x) = x^2 + x + 1$\n",
    "\n",
    "行间公式：\n",
    "\n",
    "$$E=mc^2$$\n",
    "\n",
    "$$\\sum_{i=1}^n a_i=0$$\n",
    "\n",
    "$$f(x_1,x_x,\\ldots,x_n) = x_1^2 + x_2^2 + \\cdots + x_n^2 $$\n",
    "\n",
    "$$\\sum^{j-1}_{k=0}{\\widehat{\\gamma}_{kj} z_k}$$"
   ]
  },
  {
   "cell_type": "markdown",
   "metadata": {},
   "source": [
    "## Jupyter的快捷键\n",
    "**命令模式快捷键（按ESC或点击编辑框外的空白处，知道这个框图变为蓝色）**\n",
    "* 转入编辑模式，<span style=\"color:blue\">enter</span>\n",
    "* 运行cell，并将光标移动到下一个cell，<span style=\"color:blue\">shift+enter</span>\n",
    "* 运行cell，<span style=\"color:blue\">ctrl+enter</span>\n",
    "* 向上增加空白cell，<span style=\"color:blue\">A</span>\n",
    "* 向下增加空白cell，<span style=\"color:blue\">B</span>\n",
    "* 删除本cell，<span style=\"color:blue\">DD</span>\n",
    "* 剪切本cell，<span style=\"color:blue\">X</span>\n",
    "* 粘贴本cell，<span style=\"color:blue\">V</span>\n",
    "* 将cell转为代码模式，<span style=\"color:blue\">Y</span>\n",
    "* 将cell转为Markdown模式，<span style=\"color:blue\">M</span>\n",
    "* 合并选中的cells，<span style=\"color:blue\">shift+M</span>\n",
    "* 打开/关闭行号，<span style=\"color:blue\">L</span>\n",
    "* 恢复删除的最后一个cell，<span style=\"color:blue\">Z</span> （只有最后一个）\n",
    "* 选中代码整体左移/右移，<span style=\"color:blue\">ctrl+[]</span><br>\n",
    "\n",
    "**编辑模式快捷键（按enter进入）**\n",
    "* 快捷键注释 <span style=\"color:blue\">ctrl+/</span>\n",
    "* 代码补全或缩进 <span style=\"color:blue\">Tab</span>\n",
    "* 提示 <span style=\"color:blue\">shift+Tab</span>\n",
    "* 缩进/解除缩进 <span style=\"color:blue\">ctrl+]/ctrl+[]</span>\n",
    "* 全选 <span style=\"color:blue\">ctrl+A</span>\n",
    "* 还原 <span style=\"color:blue\">ctrl+Z</span>\n",
    "* 跳到单元开头/末尾/末尾 <span style=\"color:blue\">ctrl+Up/End/Down</span>\n",
    "* 跳到左/右边一个字首 <span style=\"color:blue\">ctrl+Left/Right</span>"
   ]
  },
  {
   "cell_type": "markdown",
   "metadata": {},
   "source": [
    "## Jupyter的部分使用技巧"
   ]
  },
  {
   "cell_type": "markdown",
   "metadata": {},
   "source": [
    "[也是一部分的传送门](http://news.eeworld.com.cn/mp/QbitAI/a58625.jspx)"
   ]
  },
  {
   "cell_type": "markdown",
   "metadata": {},
   "source": [
    "技巧列表：<br>\n",
    "* jupyter 加载/创建本地文件\n",
    "* jupyter 内嵌网页或PDF；渲染HTML代码\n",
    "* jupyter 突出显示笔记\n",
    "* jupyter 运行shell命令\n",
    "* jupyter 代码块显示所有输出\n",
    "* jupyter 使得DataFrame变量显示更多的行或列"
   ]
  },
  {
   "cell_type": "markdown",
   "metadata": {},
   "source": [
    "### jupyter 加载/创建本地文件\n",
    "> 加载：<br>\n",
    "> 运行本地文件，在不加载代码的情况下显示运行结果<br>\n",
    "    > %run file_path <br><br>\n",
    "> 将本地文件加载到jupyter <br>\n",
    "    > %load file_path <br><br>\n",
    "    > (第二种方式由于是直接将代码加载到了jupyter中成为可执行状态，所以在运行完后会自动变为注释，而不影响后面代码的运行。且可以通过url来执行网络上的py文件) <br><br><br>\n",
    "> 创建：<br>\n",
    "> 在jupyter直接创建本地文件 <br>\n",
    "    > %%writefile file_path <br>\n",
    "    > (将文件内容写在这里)(执行后会返回文件名)"
   ]
  },
  {
   "cell_type": "code",
   "execution_count": 37,
   "metadata": {},
   "outputs": [
    {
     "name": "stdout",
     "output_type": "stream",
     "text": [
      "Writing test_py.py\n"
     ]
    }
   ],
   "source": [
    "%%writefile test_py.py\n",
    "hello = 232\n",
    "world = '哈哈'\n",
    "for i in range(10):\n",
    "    print(i,hello,world)"
   ]
  },
  {
   "cell_type": "code",
   "execution_count": null,
   "metadata": {},
   "outputs": [],
   "source": [
    "'''\n",
    "%load ./test_py.py                   \n",
    "for i in range(10):\n",
    "    print(hello,world)\n",
    "'''"
   ]
  },
  {
   "cell_type": "markdown",
   "metadata": {},
   "source": [
    "上面是未运行的状态，运行两次之后会变成下面这样： $\\Downarrow$"
   ]
  },
  {
   "cell_type": "code",
   "execution_count": 7,
   "metadata": {},
   "outputs": [
    {
     "name": "stdout",
     "output_type": "stream",
     "text": [
      "232 哈哈\n",
      "232 哈哈\n",
      "232 哈哈\n",
      "232 哈哈\n",
      "232 哈哈\n",
      "232 哈哈\n",
      "232 哈哈\n",
      "232 哈哈\n",
      "232 哈哈\n",
      "232 哈哈\n"
     ]
    }
   ],
   "source": [
    "# %load ./test_py.py                   \n",
    "hello = 232\n",
    "world = '哈哈'\n",
    "for i in range(10):\n",
    "    print(hello,world)"
   ]
  },
  {
   "cell_type": "markdown",
   "metadata": {},
   "source": [
    "而选择第一种方式运行则会这样：$\\Downarrow$"
   ]
  },
  {
   "cell_type": "code",
   "execution_count": 6,
   "metadata": {
    "scrolled": true
   },
   "outputs": [
    {
     "name": "stdout",
     "output_type": "stream",
     "text": [
      "0 232 哈哈\n",
      "1 232 哈哈\n",
      "2 232 哈哈\n",
      "3 232 哈哈\n",
      "4 232 哈哈\n",
      "5 232 哈哈\n",
      "6 232 哈哈\n",
      "7 232 哈哈\n",
      "8 232 哈哈\n",
      "9 232 哈哈\n"
     ]
    }
   ],
   "source": [
    "%run test_py.py"
   ]
  },
  {
   "cell_type": "markdown",
   "metadata": {},
   "source": [
    "### jupyter 内嵌网页或PDF；渲染HTML代码 <br>\n",
    "> 利用IPython库的display模块实现内嵌与渲染"
   ]
  },
  {
   "cell_type": "markdown",
   "metadata": {},
   "source": [
    "内嵌网页或PDF： $\\Downarrow$"
   ]
  },
  {
   "cell_type": "code",
   "execution_count": 14,
   "metadata": {
    "collapsed": true
   },
   "outputs": [
    {
     "data": {
      "text/html": [
       "\n",
       "        <iframe\n",
       "            width=\"800\"\n",
       "            height=\"500\"\n",
       "            src=\"https://www.baidu.com/\"\n",
       "            frameborder=\"0\"\n",
       "            allowfullscreen\n",
       "        ></iframe>\n",
       "        "
      ],
      "text/plain": [
       "<IPython.lib.display.IFrame at 0x6fe19a0>"
      ]
     },
     "execution_count": 14,
     "metadata": {},
     "output_type": "execute_result"
    }
   ],
   "source": [
    "from IPython.display import IFrame\n",
    "IFrame(src='https://www.baidu.com/',width=800,height=500)"
   ]
  },
  {
   "cell_type": "code",
   "execution_count": 28,
   "metadata": {
    "collapsed": true
   },
   "outputs": [
    {
     "data": {
      "text/html": [
       "\n",
       "        <iframe\n",
       "            width=\"800\"\n",
       "            height=\"600\"\n",
       "            src=\"symbols.pdf\"\n",
       "            frameborder=\"0\"\n",
       "            allowfullscreen\n",
       "        ></iframe>\n",
       "        "
      ],
      "text/plain": [
       "<IPython.lib.display.IFrame at 0x6fe1c40>"
      ]
     },
     "execution_count": 28,
     "metadata": {},
     "output_type": "execute_result"
    }
   ],
   "source": [
    "from IPython.display import IFrame\n",
    "IFrame(src='symbols.pdf',width=800,height=600)"
   ]
  },
  {
   "cell_type": "markdown",
   "metadata": {},
   "source": [
    "渲染HTML代码，这与内嵌整个网页是不同的，单独渲染HTML代码可以嵌入网页的某个特定功能，比如嵌入网易云音乐的外链播放器；<br>\n",
    "    又比如自定义笔记格式： $\\Downarrow$"
   ]
  },
  {
   "cell_type": "code",
   "execution_count": 44,
   "metadata": {
    "scrolled": true
   },
   "outputs": [
    {
     "data": {
      "text/html": [
       "<iframe frameborder=\"no\" border=\"0\" marginwidth=\"0\" marginheight=\"0\" width=330 height=86 src=\"//music.163.com/outchain/player?type=2&id=1428681645&auto=1&height=66\"></iframe>"
      ],
      "text/plain": [
       "<IPython.core.display.HTML object>"
      ]
     },
     "execution_count": 44,
     "metadata": {},
     "output_type": "execute_result"
    }
   ],
   "source": [
    "from IPython.display import HTML\n",
    "HTML('<iframe frameborder=\"no\" border=\"0\" marginwidth=\"0\" marginheight=\"0\" width=330 height=86 src=\"//music.163.com/outchain/player?type=2&id=1428681645&auto=1&height=66\"></iframe>')"
   ]
  },
  {
   "cell_type": "code",
   "execution_count": 35,
   "metadata": {},
   "outputs": [
    {
     "data": {
      "text/html": [
       "<div>\n",
       "    <h1>笔记标题</h1>\n",
       "    <p>这是一段可自定义的笔记，它的格式可以根据HTML代码调用的css等做到完全自定义。\n",
       "    你可以选择一张好看的图片来作为这段笔记的背景，也可以更醒目的插入链接，等等等等。</p>\n",
       "    <p><a href=\"https://cn.bing.com/\">这是一个通往必应主页的跳转链接...</a></p>\n",
       "    </div>"
      ],
      "text/plain": [
       "<IPython.core.display.HTML object>"
      ]
     },
     "execution_count": 35,
     "metadata": {},
     "output_type": "execute_result"
    }
   ],
   "source": [
    "HTML(\"\"\"<div>\n",
    "    <h1>笔记标题</h1>\n",
    "    <p>这是一段可自定义的笔记，它的格式可以根据HTML代码调用的css等做到完全自定义。\n",
    "    你可以选择一张好看的图片来作为这段笔记的背景，也可以更醒目的插入链接，等等等等。</p>\n",
    "    <p><a href=\"https://cn.bing.com/\">这是一个通往必应主页的跳转链接...</a></p>\n",
    "    </div>\"\"\")"
   ]
  },
  {
   "cell_type": "markdown",
   "metadata": {},
   "source": [
    "### jupyter 突出显示笔记 <br>\n",
    "> 可以通过上面渲染HTML的方式来突出显示笔记，不过这是显示在代码块中的；<br>\n",
    "> 而另一种方式就是直接使用Markdown。"
   ]
  },
  {
   "cell_type": "markdown",
   "metadata": {},
   "source": [
    "Markdown本身即支持HTML标签，可以方便的突出显示笔记，且又有很多内置的样式可以直接使用：$\\Downarrow$"
   ]
  },
  {
   "cell_type": "markdown",
   "metadata": {},
   "source": [
    "<div class=\"alert alert-block alert-info\">\n",
    "<b>提示:</b> 可以使用蓝色框(警报信息)作为提示和笔记。\n",
    "如果它是一张便条，你不必在上面加上“便条”这个词。\n",
    "</div>\n",
    "\n",
    "<div class=\"alert alert-block alert-warning\">\n",
    "<b>例如:</b> 黄色方框通常用于包含额外的示例或数学公式。\n",
    "</div>\n",
    "\n",
    "<div class=\"alert alert-block alert-success\">\n",
    "只有在必要时才使用绿框，比如显示相关内容的链接。\n",
    "</div>\n",
    "\n",
    "<div class=\"alert alert-block alert-danger\">\n",
    "避免红框很好，但是可以用来提醒用户不要删除代码的一些重要部分等等。\n",
    "</div>"
   ]
  },
  {
   "cell_type": "markdown",
   "metadata": {},
   "source": [
    "### jupyter 运行shell命令 <br>\n",
    "(其实这算是IPython的技巧，不过在jupyter中亦支持) <br>\n",
    "> 在要运行的shell命令前加 <b>!</b> <br>\n",
    "> (同时这样运行，可以将这句命令当作一个变量，其变量值就是命令的返回值，只不过会自动转化一些格式)"
   ]
  },
  {
   "cell_type": "code",
   "execution_count": 30,
   "metadata": {},
   "outputs": [
    {
     "name": "stdout",
     "output_type": "stream",
     "text": [
      " 驱动器 C 中的卷是 Windows-SSD\n",
      " 卷的序列号是 5058-D3F5\n",
      "\n",
      " C:\\Users\\wxdespair\\Documents\\Document\\books\\book_test0\\programming_language\\Python\\几个基本库的使用\\jupyter 的目录\n",
      "\n",
      "2020/07/05  16:01    <DIR>          .\n",
      "2020/07/05  16:01    <DIR>          ..\n",
      "2020/07/05  15:34    <DIR>          .ipynb_checkpoints\n",
      "2019/11/01  07:11            16,423 0.3-Jupyter Notebook 基础.ipynb\n",
      "2020/07/05  16:01            16,512 jupyter_using_about.ipynb\n",
      "2020/07/05  15:22            30,103 jupyter使用技巧.ipynb\n",
      "2020/07/05  12:35             5,345 Python文件笔记000.ipynb\n",
      "2020/02/03  13:03           261,478 symbols.pdf\n",
      "               5 个文件        329,861 字节\n",
      "               3 个目录 47,168,827,392 可用字节\n"
     ]
    }
   ],
   "source": [
    "!dir"
   ]
  },
  {
   "cell_type": "code",
   "execution_count": 31,
   "metadata": {},
   "outputs": [
    {
     "name": "stdout",
     "output_type": "stream",
     "text": [
      "[' 驱动器 C 中的卷是 Windows-SSD', ' 卷的序列号是 5058-D3F5', '', ' C:\\\\Users\\\\wxdespair\\\\Documents\\\\Document\\\\books\\\\book_test0\\\\programming_language\\\\Python\\\\几个基本库的使用\\\\jupyter 的目录', '', '2020/07/05  16:03    <DIR>          .', '2020/07/05  16:03    <DIR>          ..', '2020/07/05  15:34    <DIR>          .ipynb_checkpoints', '2019/11/01  07:11            16,423 0.3-Jupyter Notebook 基础.ipynb', '2020/07/05  16:03             9,629 jupyter_using_about.ipynb', '2020/07/05  15:22            30,103 jupyter使用技巧.ipynb', '2020/07/05  12:35             5,345 Python文件笔记000.ipynb', '2020/02/03  13:03           261,478 symbols.pdf', '               5 个文件        322,978 字节', '               3 个目录 47,169,323,008 可用字节']\n"
     ]
    }
   ],
   "source": [
    "x = !dir\n",
    "print(x)"
   ]
  },
  {
   "cell_type": "markdown",
   "metadata": {},
   "source": [
    "### jupyter 代码块显示所有输出 <br>\n",
    "> 同样利用IPython库来实现，不过使用的是另外一个模块，core。"
   ]
  },
  {
   "cell_type": "code",
   "execution_count": 40,
   "metadata": {},
   "outputs": [
    {
     "data": {
      "text/html": [
       "<div>\n",
       "<style scoped>\n",
       "    .dataframe tbody tr th:only-of-type {\n",
       "        vertical-align: middle;\n",
       "    }\n",
       "\n",
       "    .dataframe tbody tr th {\n",
       "        vertical-align: top;\n",
       "    }\n",
       "\n",
       "    .dataframe thead th {\n",
       "        text-align: right;\n",
       "    }\n",
       "</style>\n",
       "<table border=\"1\" class=\"dataframe\">\n",
       "  <thead>\n",
       "    <tr style=\"text-align: right;\">\n",
       "      <th></th>\n",
       "      <th>0</th>\n",
       "      <th>1</th>\n",
       "      <th>2</th>\n",
       "      <th>3</th>\n",
       "      <th>4</th>\n",
       "    </tr>\n",
       "  </thead>\n",
       "  <tbody>\n",
       "    <tr>\n",
       "      <th>0</th>\n",
       "      <td>-0.793499</td>\n",
       "      <td>-1.073017</td>\n",
       "      <td>1.477567</td>\n",
       "      <td>-0.080095</td>\n",
       "      <td>-1.346156</td>\n",
       "    </tr>\n",
       "    <tr>\n",
       "      <th>1</th>\n",
       "      <td>-0.331027</td>\n",
       "      <td>0.223282</td>\n",
       "      <td>0.617696</td>\n",
       "      <td>-1.113206</td>\n",
       "      <td>-0.921368</td>\n",
       "    </tr>\n",
       "    <tr>\n",
       "      <th>2</th>\n",
       "      <td>-1.138084</td>\n",
       "      <td>0.573051</td>\n",
       "      <td>-1.280358</td>\n",
       "      <td>-2.247937</td>\n",
       "      <td>0.034491</td>\n",
       "    </tr>\n",
       "  </tbody>\n",
       "</table>\n",
       "</div>"
      ],
      "text/plain": [
       "          0         1         2         3         4\n",
       "0 -0.793499 -1.073017  1.477567 -0.080095 -1.346156\n",
       "1 -0.331027  0.223282  0.617696 -1.113206 -0.921368\n",
       "2 -1.138084  0.573051 -1.280358 -2.247937  0.034491"
      ]
     },
     "execution_count": 40,
     "metadata": {},
     "output_type": "execute_result"
    },
    {
     "name": "stdout",
     "output_type": "stream",
     "text": [
      "<class 'pandas.core.frame.DataFrame'>\n",
      "RangeIndex: 3 entries, 0 to 2\n",
      "Data columns (total 5 columns):\n",
      " #   Column  Non-Null Count  Dtype  \n",
      "---  ------  --------------  -----  \n",
      " 0   0       3 non-null      float64\n",
      " 1   1       3 non-null      float64\n",
      " 2   2       3 non-null      float64\n",
      " 3   3       3 non-null      float64\n",
      " 4   4       3 non-null      float64\n",
      "dtypes: float64(5)\n",
      "memory usage: 184.0 bytes\n"
     ]
    }
   ],
   "source": [
    "from IPython.core.interactiveshell import InteractiveShell\n",
    "InteractiveShell.ast_node_interactivity = \"all\" \n",
    "\n",
    "import numpy as np\n",
    "import pandas as pd\n",
    "df = pd.DataFrame(np.random.randn(3, 5))\n",
    "df\n",
    "df.info()"
   ]
  },
  {
   "cell_type": "markdown",
   "metadata": {},
   "source": [
    "### jupyter 使得DataFrame变量显示更多的行或列 <br>\n",
    "> 在jupyter中，DataFrame变量经常会因为行太多或列太多而被简略显示，这可以通过调整参数来调整。"
   ]
  },
  {
   "cell_type": "markdown",
   "metadata": {},
   "source": [
    "正常情况下，过多的列会被省略号代替：$\\Downarrow$"
   ]
  },
  {
   "cell_type": "code",
   "execution_count": 41,
   "metadata": {},
   "outputs": [
    {
     "data": {
      "text/html": [
       "<div>\n",
       "<style scoped>\n",
       "    .dataframe tbody tr th:only-of-type {\n",
       "        vertical-align: middle;\n",
       "    }\n",
       "\n",
       "    .dataframe tbody tr th {\n",
       "        vertical-align: top;\n",
       "    }\n",
       "\n",
       "    .dataframe thead th {\n",
       "        text-align: right;\n",
       "    }\n",
       "</style>\n",
       "<table border=\"1\" class=\"dataframe\">\n",
       "  <thead>\n",
       "    <tr style=\"text-align: right;\">\n",
       "      <th></th>\n",
       "      <th>0</th>\n",
       "      <th>1</th>\n",
       "      <th>2</th>\n",
       "      <th>3</th>\n",
       "      <th>4</th>\n",
       "      <th>5</th>\n",
       "      <th>6</th>\n",
       "      <th>7</th>\n",
       "      <th>8</th>\n",
       "      <th>9</th>\n",
       "      <th>...</th>\n",
       "      <th>20</th>\n",
       "      <th>21</th>\n",
       "      <th>22</th>\n",
       "      <th>23</th>\n",
       "      <th>24</th>\n",
       "      <th>25</th>\n",
       "      <th>26</th>\n",
       "      <th>27</th>\n",
       "      <th>28</th>\n",
       "      <th>29</th>\n",
       "    </tr>\n",
       "  </thead>\n",
       "  <tbody>\n",
       "    <tr>\n",
       "      <th>0</th>\n",
       "      <td>-0.375577</td>\n",
       "      <td>0.651210</td>\n",
       "      <td>-0.621757</td>\n",
       "      <td>1.337657</td>\n",
       "      <td>0.162416</td>\n",
       "      <td>0.897493</td>\n",
       "      <td>0.944560</td>\n",
       "      <td>-0.647979</td>\n",
       "      <td>-0.858355</td>\n",
       "      <td>-1.036094</td>\n",
       "      <td>...</td>\n",
       "      <td>-1.301651</td>\n",
       "      <td>-0.866277</td>\n",
       "      <td>0.397120</td>\n",
       "      <td>-0.425064</td>\n",
       "      <td>0.147203</td>\n",
       "      <td>0.998310</td>\n",
       "      <td>-0.628917</td>\n",
       "      <td>0.040149</td>\n",
       "      <td>2.357225</td>\n",
       "      <td>1.049551</td>\n",
       "    </tr>\n",
       "    <tr>\n",
       "      <th>1</th>\n",
       "      <td>-1.662175</td>\n",
       "      <td>1.738117</td>\n",
       "      <td>-0.040473</td>\n",
       "      <td>-0.889217</td>\n",
       "      <td>-1.205679</td>\n",
       "      <td>-0.753659</td>\n",
       "      <td>-0.636740</td>\n",
       "      <td>-2.120538</td>\n",
       "      <td>0.625649</td>\n",
       "      <td>-1.409021</td>\n",
       "      <td>...</td>\n",
       "      <td>-0.925172</td>\n",
       "      <td>0.519372</td>\n",
       "      <td>-0.602617</td>\n",
       "      <td>0.591354</td>\n",
       "      <td>-0.109452</td>\n",
       "      <td>-0.416030</td>\n",
       "      <td>-0.287723</td>\n",
       "      <td>-0.280754</td>\n",
       "      <td>-1.387362</td>\n",
       "      <td>-1.579878</td>\n",
       "    </tr>\n",
       "    <tr>\n",
       "      <th>2</th>\n",
       "      <td>-0.031900</td>\n",
       "      <td>-1.679538</td>\n",
       "      <td>-0.853097</td>\n",
       "      <td>0.657797</td>\n",
       "      <td>1.398348</td>\n",
       "      <td>0.839534</td>\n",
       "      <td>-0.081530</td>\n",
       "      <td>-0.653258</td>\n",
       "      <td>-1.244314</td>\n",
       "      <td>-0.823427</td>\n",
       "      <td>...</td>\n",
       "      <td>0.223810</td>\n",
       "      <td>-0.887946</td>\n",
       "      <td>-0.247741</td>\n",
       "      <td>0.498811</td>\n",
       "      <td>-0.349011</td>\n",
       "      <td>-0.658866</td>\n",
       "      <td>-0.002695</td>\n",
       "      <td>1.299068</td>\n",
       "      <td>0.501533</td>\n",
       "      <td>-2.156339</td>\n",
       "    </tr>\n",
       "    <tr>\n",
       "      <th>3</th>\n",
       "      <td>-0.869291</td>\n",
       "      <td>1.244342</td>\n",
       "      <td>-0.024435</td>\n",
       "      <td>0.466818</td>\n",
       "      <td>-0.604231</td>\n",
       "      <td>-0.870820</td>\n",
       "      <td>0.942135</td>\n",
       "      <td>-0.980134</td>\n",
       "      <td>-1.659157</td>\n",
       "      <td>-1.521310</td>\n",
       "      <td>...</td>\n",
       "      <td>-0.290566</td>\n",
       "      <td>1.052657</td>\n",
       "      <td>-0.430455</td>\n",
       "      <td>-1.499280</td>\n",
       "      <td>-0.109982</td>\n",
       "      <td>-1.581571</td>\n",
       "      <td>-0.237632</td>\n",
       "      <td>1.115808</td>\n",
       "      <td>-0.037131</td>\n",
       "      <td>-1.047979</td>\n",
       "    </tr>\n",
       "    <tr>\n",
       "      <th>4</th>\n",
       "      <td>0.156842</td>\n",
       "      <td>-0.178113</td>\n",
       "      <td>-1.139799</td>\n",
       "      <td>0.430333</td>\n",
       "      <td>-1.594801</td>\n",
       "      <td>-0.332412</td>\n",
       "      <td>-0.744046</td>\n",
       "      <td>-1.599022</td>\n",
       "      <td>0.915638</td>\n",
       "      <td>-1.982578</td>\n",
       "      <td>...</td>\n",
       "      <td>0.194314</td>\n",
       "      <td>0.270183</td>\n",
       "      <td>-0.164501</td>\n",
       "      <td>-0.873187</td>\n",
       "      <td>-0.052174</td>\n",
       "      <td>-1.005682</td>\n",
       "      <td>-0.250457</td>\n",
       "      <td>0.155144</td>\n",
       "      <td>0.657696</td>\n",
       "      <td>-1.871639</td>\n",
       "    </tr>\n",
       "  </tbody>\n",
       "</table>\n",
       "<p>5 rows × 30 columns</p>\n",
       "</div>"
      ],
      "text/plain": [
       "         0         1         2         3         4         5         6   \\\n",
       "0 -0.375577  0.651210 -0.621757  1.337657  0.162416  0.897493  0.944560   \n",
       "1 -1.662175  1.738117 -0.040473 -0.889217 -1.205679 -0.753659 -0.636740   \n",
       "2 -0.031900 -1.679538 -0.853097  0.657797  1.398348  0.839534 -0.081530   \n",
       "3 -0.869291  1.244342 -0.024435  0.466818 -0.604231 -0.870820  0.942135   \n",
       "4  0.156842 -0.178113 -1.139799  0.430333 -1.594801 -0.332412 -0.744046   \n",
       "\n",
       "         7         8         9   ...        20        21        22        23  \\\n",
       "0 -0.647979 -0.858355 -1.036094  ... -1.301651 -0.866277  0.397120 -0.425064   \n",
       "1 -2.120538  0.625649 -1.409021  ... -0.925172  0.519372 -0.602617  0.591354   \n",
       "2 -0.653258 -1.244314 -0.823427  ...  0.223810 -0.887946 -0.247741  0.498811   \n",
       "3 -0.980134 -1.659157 -1.521310  ... -0.290566  1.052657 -0.430455 -1.499280   \n",
       "4 -1.599022  0.915638 -1.982578  ...  0.194314  0.270183 -0.164501 -0.873187   \n",
       "\n",
       "         24        25        26        27        28        29  \n",
       "0  0.147203  0.998310 -0.628917  0.040149  2.357225  1.049551  \n",
       "1 -0.109452 -0.416030 -0.287723 -0.280754 -1.387362 -1.579878  \n",
       "2 -0.349011 -0.658866 -0.002695  1.299068  0.501533 -2.156339  \n",
       "3 -0.109982 -1.581571 -0.237632  1.115808 -0.037131 -1.047979  \n",
       "4 -0.052174 -1.005682 -0.250457  0.155144  0.657696 -1.871639  \n",
       "\n",
       "[5 rows x 30 columns]"
      ]
     },
     "execution_count": 41,
     "metadata": {},
     "output_type": "execute_result"
    }
   ],
   "source": [
    "import pandas as pd\n",
    "df = pd.DataFrame(np.random.randn(5, 30))\n",
    "df"
   ]
  },
  {
   "cell_type": "markdown",
   "metadata": {},
   "source": [
    "而调整过后即可显示所有列：$\\Downarrow$"
   ]
  },
  {
   "cell_type": "code",
   "execution_count": 42,
   "metadata": {},
   "outputs": [
    {
     "data": {
      "text/html": [
       "<div>\n",
       "<style scoped>\n",
       "    .dataframe tbody tr th:only-of-type {\n",
       "        vertical-align: middle;\n",
       "    }\n",
       "\n",
       "    .dataframe tbody tr th {\n",
       "        vertical-align: top;\n",
       "    }\n",
       "\n",
       "    .dataframe thead th {\n",
       "        text-align: right;\n",
       "    }\n",
       "</style>\n",
       "<table border=\"1\" class=\"dataframe\">\n",
       "  <thead>\n",
       "    <tr style=\"text-align: right;\">\n",
       "      <th></th>\n",
       "      <th>0</th>\n",
       "      <th>1</th>\n",
       "      <th>2</th>\n",
       "      <th>3</th>\n",
       "      <th>4</th>\n",
       "      <th>5</th>\n",
       "      <th>6</th>\n",
       "      <th>7</th>\n",
       "      <th>8</th>\n",
       "      <th>9</th>\n",
       "      <th>10</th>\n",
       "      <th>11</th>\n",
       "      <th>12</th>\n",
       "      <th>13</th>\n",
       "      <th>14</th>\n",
       "      <th>15</th>\n",
       "      <th>16</th>\n",
       "      <th>17</th>\n",
       "      <th>18</th>\n",
       "      <th>19</th>\n",
       "      <th>20</th>\n",
       "      <th>21</th>\n",
       "      <th>22</th>\n",
       "      <th>23</th>\n",
       "      <th>24</th>\n",
       "      <th>25</th>\n",
       "      <th>26</th>\n",
       "      <th>27</th>\n",
       "      <th>28</th>\n",
       "      <th>29</th>\n",
       "    </tr>\n",
       "  </thead>\n",
       "  <tbody>\n",
       "    <tr>\n",
       "      <th>0</th>\n",
       "      <td>-0.245044</td>\n",
       "      <td>-0.073608</td>\n",
       "      <td>1.582559</td>\n",
       "      <td>1.425543</td>\n",
       "      <td>-0.064391</td>\n",
       "      <td>-1.250637</td>\n",
       "      <td>2.403622</td>\n",
       "      <td>-0.050266</td>\n",
       "      <td>0.489528</td>\n",
       "      <td>-0.937316</td>\n",
       "      <td>-0.809400</td>\n",
       "      <td>-0.054195</td>\n",
       "      <td>0.504836</td>\n",
       "      <td>0.725263</td>\n",
       "      <td>-0.448442</td>\n",
       "      <td>0.728042</td>\n",
       "      <td>-0.634113</td>\n",
       "      <td>1.194176</td>\n",
       "      <td>-0.106869</td>\n",
       "      <td>0.347348</td>\n",
       "      <td>-1.453909</td>\n",
       "      <td>-0.835804</td>\n",
       "      <td>1.603435</td>\n",
       "      <td>-1.269320</td>\n",
       "      <td>-0.597936</td>\n",
       "      <td>-0.153407</td>\n",
       "      <td>1.494229</td>\n",
       "      <td>-0.603819</td>\n",
       "      <td>-0.332717</td>\n",
       "      <td>0.561390</td>\n",
       "    </tr>\n",
       "    <tr>\n",
       "      <th>1</th>\n",
       "      <td>0.145073</td>\n",
       "      <td>-1.318661</td>\n",
       "      <td>0.551833</td>\n",
       "      <td>-0.240760</td>\n",
       "      <td>-0.671624</td>\n",
       "      <td>0.249391</td>\n",
       "      <td>-0.810407</td>\n",
       "      <td>0.028128</td>\n",
       "      <td>-0.644084</td>\n",
       "      <td>-0.598655</td>\n",
       "      <td>0.201452</td>\n",
       "      <td>1.134490</td>\n",
       "      <td>0.287750</td>\n",
       "      <td>0.097986</td>\n",
       "      <td>0.406183</td>\n",
       "      <td>-0.215242</td>\n",
       "      <td>-0.847254</td>\n",
       "      <td>-0.763447</td>\n",
       "      <td>1.125198</td>\n",
       "      <td>-0.100349</td>\n",
       "      <td>0.734281</td>\n",
       "      <td>0.264285</td>\n",
       "      <td>0.482128</td>\n",
       "      <td>-1.748325</td>\n",
       "      <td>-0.620475</td>\n",
       "      <td>1.056722</td>\n",
       "      <td>-0.324672</td>\n",
       "      <td>-0.187917</td>\n",
       "      <td>-0.146254</td>\n",
       "      <td>-0.737690</td>\n",
       "    </tr>\n",
       "    <tr>\n",
       "      <th>2</th>\n",
       "      <td>-0.374088</td>\n",
       "      <td>0.574561</td>\n",
       "      <td>-0.979007</td>\n",
       "      <td>-0.344660</td>\n",
       "      <td>-0.928099</td>\n",
       "      <td>-0.170464</td>\n",
       "      <td>1.379698</td>\n",
       "      <td>0.488231</td>\n",
       "      <td>-1.882866</td>\n",
       "      <td>-0.165003</td>\n",
       "      <td>-0.647157</td>\n",
       "      <td>0.361797</td>\n",
       "      <td>0.482553</td>\n",
       "      <td>-1.325115</td>\n",
       "      <td>-1.025375</td>\n",
       "      <td>1.316635</td>\n",
       "      <td>0.224900</td>\n",
       "      <td>0.347144</td>\n",
       "      <td>-1.579745</td>\n",
       "      <td>0.515054</td>\n",
       "      <td>0.803857</td>\n",
       "      <td>-0.227203</td>\n",
       "      <td>-1.208708</td>\n",
       "      <td>1.183263</td>\n",
       "      <td>0.410858</td>\n",
       "      <td>-1.032802</td>\n",
       "      <td>-2.470082</td>\n",
       "      <td>0.914561</td>\n",
       "      <td>-0.674387</td>\n",
       "      <td>-0.213935</td>\n",
       "    </tr>\n",
       "    <tr>\n",
       "      <th>3</th>\n",
       "      <td>0.695042</td>\n",
       "      <td>-0.800313</td>\n",
       "      <td>-0.557586</td>\n",
       "      <td>0.132356</td>\n",
       "      <td>-0.408898</td>\n",
       "      <td>0.959786</td>\n",
       "      <td>-0.820532</td>\n",
       "      <td>0.465908</td>\n",
       "      <td>-0.598216</td>\n",
       "      <td>-0.374561</td>\n",
       "      <td>-1.040102</td>\n",
       "      <td>-0.635907</td>\n",
       "      <td>-1.967997</td>\n",
       "      <td>1.759234</td>\n",
       "      <td>-0.901531</td>\n",
       "      <td>-0.726820</td>\n",
       "      <td>-1.728275</td>\n",
       "      <td>-0.453838</td>\n",
       "      <td>-2.104639</td>\n",
       "      <td>0.511716</td>\n",
       "      <td>0.463862</td>\n",
       "      <td>1.012519</td>\n",
       "      <td>-1.160189</td>\n",
       "      <td>0.786416</td>\n",
       "      <td>0.072066</td>\n",
       "      <td>0.117821</td>\n",
       "      <td>0.429369</td>\n",
       "      <td>1.249367</td>\n",
       "      <td>1.202832</td>\n",
       "      <td>-0.867948</td>\n",
       "    </tr>\n",
       "    <tr>\n",
       "      <th>4</th>\n",
       "      <td>0.195785</td>\n",
       "      <td>0.578704</td>\n",
       "      <td>-0.284116</td>\n",
       "      <td>0.632555</td>\n",
       "      <td>0.711348</td>\n",
       "      <td>-0.390305</td>\n",
       "      <td>0.856972</td>\n",
       "      <td>-1.415799</td>\n",
       "      <td>0.742301</td>\n",
       "      <td>0.601295</td>\n",
       "      <td>-0.077508</td>\n",
       "      <td>-1.443404</td>\n",
       "      <td>0.546177</td>\n",
       "      <td>-0.601492</td>\n",
       "      <td>-0.403271</td>\n",
       "      <td>-0.311106</td>\n",
       "      <td>-1.195382</td>\n",
       "      <td>-2.628436</td>\n",
       "      <td>0.204709</td>\n",
       "      <td>-1.408121</td>\n",
       "      <td>-0.069433</td>\n",
       "      <td>0.225371</td>\n",
       "      <td>0.183722</td>\n",
       "      <td>0.775617</td>\n",
       "      <td>-0.019194</td>\n",
       "      <td>-0.773788</td>\n",
       "      <td>-0.827957</td>\n",
       "      <td>0.437685</td>\n",
       "      <td>-0.128360</td>\n",
       "      <td>0.502350</td>\n",
       "    </tr>\n",
       "  </tbody>\n",
       "</table>\n",
       "</div>"
      ],
      "text/plain": [
       "          0         1         2         3         4         5         6  \\\n",
       "0 -0.245044 -0.073608  1.582559  1.425543 -0.064391 -1.250637  2.403622   \n",
       "1  0.145073 -1.318661  0.551833 -0.240760 -0.671624  0.249391 -0.810407   \n",
       "2 -0.374088  0.574561 -0.979007 -0.344660 -0.928099 -0.170464  1.379698   \n",
       "3  0.695042 -0.800313 -0.557586  0.132356 -0.408898  0.959786 -0.820532   \n",
       "4  0.195785  0.578704 -0.284116  0.632555  0.711348 -0.390305  0.856972   \n",
       "\n",
       "          7         8         9        10        11        12        13  \\\n",
       "0 -0.050266  0.489528 -0.937316 -0.809400 -0.054195  0.504836  0.725263   \n",
       "1  0.028128 -0.644084 -0.598655  0.201452  1.134490  0.287750  0.097986   \n",
       "2  0.488231 -1.882866 -0.165003 -0.647157  0.361797  0.482553 -1.325115   \n",
       "3  0.465908 -0.598216 -0.374561 -1.040102 -0.635907 -1.967997  1.759234   \n",
       "4 -1.415799  0.742301  0.601295 -0.077508 -1.443404  0.546177 -0.601492   \n",
       "\n",
       "         14        15        16        17        18        19        20  \\\n",
       "0 -0.448442  0.728042 -0.634113  1.194176 -0.106869  0.347348 -1.453909   \n",
       "1  0.406183 -0.215242 -0.847254 -0.763447  1.125198 -0.100349  0.734281   \n",
       "2 -1.025375  1.316635  0.224900  0.347144 -1.579745  0.515054  0.803857   \n",
       "3 -0.901531 -0.726820 -1.728275 -0.453838 -2.104639  0.511716  0.463862   \n",
       "4 -0.403271 -0.311106 -1.195382 -2.628436  0.204709 -1.408121 -0.069433   \n",
       "\n",
       "         21        22        23        24        25        26        27  \\\n",
       "0 -0.835804  1.603435 -1.269320 -0.597936 -0.153407  1.494229 -0.603819   \n",
       "1  0.264285  0.482128 -1.748325 -0.620475  1.056722 -0.324672 -0.187917   \n",
       "2 -0.227203 -1.208708  1.183263  0.410858 -1.032802 -2.470082  0.914561   \n",
       "3  1.012519 -1.160189  0.786416  0.072066  0.117821  0.429369  1.249367   \n",
       "4  0.225371  0.183722  0.775617 -0.019194 -0.773788 -0.827957  0.437685   \n",
       "\n",
       "         28        29  \n",
       "0 -0.332717  0.561390  \n",
       "1 -0.146254 -0.737690  \n",
       "2 -0.674387 -0.213935  \n",
       "3  1.202832 -0.867948  \n",
       "4 -0.128360  0.502350  "
      ]
     },
     "execution_count": 42,
     "metadata": {},
     "output_type": "execute_result"
    }
   ],
   "source": [
    "pd.set_option('display.max_rows', 500)\n",
    "pd.set_option('display.max_columns', 500)\n",
    "df = pd.DataFrame(np.random.randn(5, 30))\n",
    "df"
   ]
  },
  {
   "cell_type": "code",
   "execution_count": null,
   "metadata": {},
   "outputs": [],
   "source": []
  },
  {
   "cell_type": "code",
   "execution_count": null,
   "metadata": {},
   "outputs": [],
   "source": []
  },
  {
   "cell_type": "code",
   "execution_count": null,
   "metadata": {},
   "outputs": [],
   "source": []
  },
  {
   "cell_type": "code",
   "execution_count": null,
   "metadata": {},
   "outputs": [],
   "source": []
  }
 ],
 "metadata": {
  "kernelspec": {
   "display_name": "Python 3",
   "language": "python",
   "name": "python3"
  },
  "language_info": {
   "codemirror_mode": {
    "name": "ipython",
    "version": 3
   },
   "file_extension": ".py",
   "mimetype": "text/x-python",
   "name": "python",
   "nbconvert_exporter": "python",
   "pygments_lexer": "ipython3",
   "version": "3.8.3"
  }
 },
 "nbformat": 4,
 "nbformat_minor": 4
}
