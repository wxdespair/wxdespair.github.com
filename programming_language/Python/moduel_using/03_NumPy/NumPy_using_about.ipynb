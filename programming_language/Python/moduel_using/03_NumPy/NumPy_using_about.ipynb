{
 "cells": [
  {
   "cell_type": "markdown",
   "metadata": {
    "heading_collapsed": true
   },
   "source": [
    "## 对 NumPy 的简单认识"
   ]
  },
  {
   "cell_type": "markdown",
   "metadata": {
    "hidden": true
   },
   "source": [
    "Numpy 是 Numerical Python 的简称,一个开源的Python科学计算基础库，它是目前 Python 数值计算中最为重要的基础软件包. 大多数 Python 大数据和科学计算软件包都提供了基于 Numpy 的计算函数功能, 并将 Numpy 的数组对象作为数据交换的通用形式.\n",
    "\n",
    "* https://numpy.org/\n",
    "* 它的底层是由 c 来完成的。\n",
    "* 拥有一个强大的N维数组对象 ndarray 。\n",
    "* 广播函数功能。\n",
    "* 整合C/C++/Fortran代码的工具。\n",
    "* 线性代数、傅里叶变换、随机数生成等功能。"
   ]
  },
  {
   "cell_type": "markdown",
   "metadata": {
    "hidden": true
   },
   "source": [
    "有很多语言或其他库，都运用了列优先的原则，但在numpy中，都是行优先"
   ]
  },
  {
   "cell_type": "markdown",
   "metadata": {
    "hidden": true
   },
   "source": [
    "Python 是一种解释性的动态类型语言, 可自动化进行程序内存的分配和回收. 这大大减轻了用户编程的负担, 并带来了极大的编程灵活性."
   ]
  },
  {
   "cell_type": "markdown",
   "metadata": {
    "heading_collapsed": true,
    "hidden": true
   },
   "source": [
    "###  C 和 Python 的不同"
   ]
  },
  {
   "cell_type": "markdown",
   "metadata": {
    "hidden": true
   },
   "source": [
    "```C\n",
    "/* C code */\n",
    "int result = 0;\n",
    "for(int i=0; i<100; i++){\n",
    "    result += i;\n",
    "}\n",
    "```"
   ]
  },
  {
   "cell_type": "markdown",
   "metadata": {
    "hidden": true
   },
   "source": [
    "```python\n",
    "# Python code\n",
    "result = 0\n",
    "for i in range(100):\n",
    "    result += i\n",
    "```"
   ]
  },
  {
   "cell_type": "markdown",
   "metadata": {
    "hidden": true
   },
   "source": [
    "* Python 是一种动态类型的语言. \n",
    "* C 是一种静态类型的语言, 变量类型确定后就不能再改变。"
   ]
  },
  {
   "cell_type": "markdown",
   "metadata": {
    "hidden": true
   },
   "source": [
    "Python 可以这样写:\n",
    "\n",
    "```python\n",
    "# Python code\n",
    "x = 4\n",
    "x = \"four\"\n",
    "```"
   ]
  },
  {
   "cell_type": "markdown",
   "metadata": {
    "hidden": true
   },
   "source": [
    "但在 C 中, 下面类似的家法是错误的!\n",
    "\n",
    "```C\n",
    "/* C code */\n",
    "int x = 4;\n",
    "x = \"four\";  // FAILS\n",
    "```"
   ]
  },
  {
   "cell_type": "markdown",
   "metadata": {
    "heading_collapsed": true,
    "hidden": true
   },
   "source": [
    "### Python 中的整数不仅仅是一个整数"
   ]
  },
  {
   "cell_type": "markdown",
   "metadata": {
    "hidden": true
   },
   "source": [
    "标准的 Python 是由 C 语言实现的, 它的整数对象除了要表示的整数, 还存储了很多其它信息, 它的具体实现代码如下.\n",
    "\n",
    "```C\n",
    "struct _longobject {\n",
    "    long ob_refcnt; // 引用计数器, 辅且 Python 解释器分配和回收内存.\n",
    "    PyTypeObject *ob_type; // 变量类型.\n",
    "    size_t ob_size; // 数组 ob_digit 的长度\n",
    "    long ob_digit[1]; // Python 变量实际表示的整数\n",
    "};\n",
    "```"
   ]
  },
  {
   "cell_type": "markdown",
   "metadata": {
    "hidden": true
   },
   "source": [
    "![Integer Memory Layout](figures/cint_vs_pyint.png)"
   ]
  },
  {
   "cell_type": "markdown",
   "metadata": {
    "heading_collapsed": true,
    "hidden": true
   },
   "source": [
    "### Python 中的列表与 Numpy 数组"
   ]
  },
  {
   "cell_type": "code",
   "execution_count": 2,
   "metadata": {
    "hidden": true
   },
   "outputs": [],
   "source": [
    "import numpy as np\n",
    "a = np.array([1, 2, 3, 4, 5, 6, 7, 8])# 建立一个长度为　８　的数组\n",
    "i = [1, 2, 3 ,4, 5, 6, 7, 8]"
   ]
  },
  {
   "cell_type": "markdown",
   "metadata": {
    "hidden": true
   },
   "source": [
    "![Array Memory Layout](figures/array_vs_list.png)"
   ]
  },
  {
   "cell_type": "markdown",
   "metadata": {
    "hidden": true
   },
   "source": [
    "Python 列表对象和 Numpy 数组对象有不同之处是什么?\n",
    "\n",
    "* Numpy 数组对象包含了一个指向一块连续内存的指针, 数据就存储在这块内存中. 数据的类型信息包含在数组的属性中. 这样**不灵活**, 但数据的存储和操作更高效.\n",
    "* Python 列表对象包含一组指针, 每个指针又指向一个 Python 的对象, 这些对象又各自包含自己的数据和类型信息, 这样带来极大的**灵活性**, 但在数据存储和操作上**损失了效率**."
   ]
  },
  {
   "cell_type": "markdown",
   "metadata": {
    "hidden": true
   },
   "source": [
    "**注意：**\n",
    "* 事物的尺度和规模\n",
    "* 不同尺度和规模下，理解处理问题的策略和方法都会不同．"
   ]
  },
  {
   "cell_type": "markdown",
   "metadata": {
    "hidden": true
   },
   "source": [
    "例：计算 $A^2+B^3$ 其中，A 和 B 是一维数组"
   ]
  },
  {
   "cell_type": "markdown",
   "metadata": {
    "cell_style": "split",
    "hidden": true
   },
   "source": [
    "* 未使用 ndarray 数组\n",
    "\n",
    "```python\n",
    "def pySum():\n",
    "    a = [0, 1, 2, 3, 4]\n",
    "    b = [9, 8, 7, 6, 5]\n",
    "    c = []\n",
    "    for i in range(len(a)):\n",
    "        c.append(a[i]**2 + b[i]**3)\n",
    "    return c\n",
    "print(pySum())\n",
    "```"
   ]
  },
  {
   "cell_type": "markdown",
   "metadata": {
    "cell_style": "split",
    "hidden": true
   },
   "source": [
    "* 使用 ndarray 数组\n",
    "\n",
    "```python\n",
    "import numpy as np \n",
    "def npSum():\n",
    "    a = np.array([0, 1, 2, 3, 4])\n",
    "    b = np.array([9, 8, 7, 6, 5])\n",
    "    c = a**2 + b**3\n",
    "    return c\n",
    "print(npSum())\n",
    "```"
   ]
  },
  {
   "cell_type": "markdown",
   "metadata": {
    "hidden": true
   },
   "source": [
    "两者的答案都是 <pre>[729 513 347 225 141]</pre>\n",
    "\n",
    "数组对象可以去掉元素间运算所需的循环，使一维向量更像单个数据。设置专门的数组对象，经过优化，还可以提高这类应用的运算速度。在一般的科学计算中，一个维度的所有数据往往是相同类型的，数组对象有助于节省运算和存储空间。"
   ]
  },
  {
   "cell_type": "markdown",
   "metadata": {
    "heading_collapsed": true,
    "hidden": true
   },
   "source": [
    "### 数据的维度"
   ]
  },
  {
   "cell_type": "markdown",
   "metadata": {
    "hidden": true
   },
   "source": [
    "* 一维数据：由对等关系的有序或无序数据构成，采用线性式组织。对应列表（有序）、数组和集合（无序）等概念。\n",
    "* 二维数据：由多个一维数据构成，是一维数据的集合。表格是典型的二维数据，其中，表头是否属于数据的一部分取决于表格定义。利用多维列表表示。\n",
    "* 多维数据：由一维或二维数据在新维度上扩展形成。利用多维列表表示。\n",
    "* 高维数据：仅利用最基本的二元关系展示数据间的复杂结构。利用字典或数据表示格式表示，例如键值对。现在公认的三种数据表示格式主要有：JSON、XML、YAML。"
   ]
  },
  {
   "cell_type": "markdown",
   "metadata": {
    "hidden": true
   },
   "source": [
    "列表和数组都是一组数据的有序结构，区别最大在于列表中的数据类型可以不同，但数组中的数据类型要相同。"
   ]
  },
  {
   "cell_type": "markdown",
   "metadata": {
    "heading_collapsed": true,
    "hidden": true
   },
   "source": [
    "### numpy中的函数的类型被称为 Universal Function ，简称为 ufunc"
   ]
  },
  {
   "cell_type": "code",
   "execution_count": 161,
   "metadata": {
    "hidden": true
   },
   "outputs": [
    {
     "data": {
      "text/plain": [
       "<ufunc 'log'>"
      ]
     },
     "execution_count": 161,
     "metadata": {},
     "output_type": "execute_result"
    }
   ],
   "source": [
    "np.log "
   ]
  },
  {
   "cell_type": "markdown",
   "metadata": {
    "heading_collapsed": true,
    "hidden": true
   },
   "source": [
    "### 关于nan和inf"
   ]
  },
  {
   "cell_type": "markdown",
   "metadata": {
    "hidden": true
   },
   "source": [
    "* nan（not a number）表示不是一个数字\n",
    "* inf（infinity）表示正无穷，n/0在python中会报错，但在numpy中会返回inf，(相应的负无穷为 -inf)\n",
    "* 二者都是浮点型变量"
   ]
  },
  {
   "cell_type": "code",
   "execution_count": 3,
   "metadata": {
    "hidden": true
   },
   "outputs": [
    {
     "name": "stdout",
     "output_type": "stream",
     "text": [
      "False\n",
      "nan\n",
      "10\n",
      "nan\n",
      "10.0\n",
      "[False False  True False False]\n"
     ]
    },
    {
     "data": {
      "text/plain": [
       "1"
      ]
     },
     "execution_count": 3,
     "metadata": {},
     "output_type": "execute_result"
    }
   ],
   "source": [
    "import numpy as np\n",
    "print(np.nan == np.nan)                 # 不是数字，不可比较\n",
    "print(np.nan + 6)                       # nan和任何数值计算结果都为nan\n",
    "print(np.sum([1, 9]))\n",
    "print(np.sum([1, np.nan, 9]))           # 为nan\n",
    "print(np.nansum([1, np.nan, 9]))        # 该函数可以跳过nan，计算其他数值的结果\n",
    "print(np.isnan([1, 2, np.nan, 4, 5]))   # 判断数组中的各元素值是否为nan\n",
    "np.count_nonzero(np.array([1, 2, np.nan, 4, 5]) != np.array([1, 2, np.nan, 4, 5]))  # 计算数组中nan的个数"
   ]
  },
  {
   "cell_type": "code",
   "execution_count": 4,
   "metadata": {
    "hidden": true
   },
   "outputs": [
    {
     "data": {
      "text/plain": [
       "array([nan])"
      ]
     },
     "execution_count": 4,
     "metadata": {},
     "output_type": "execute_result"
    }
   ],
   "source": [
    "np.array([1, 2, np.nan, 4, 5])[np.isnan(np.array([1, 2, np.nan, 4, 5]))]"
   ]
  },
  {
   "cell_type": "code",
   "execution_count": null,
   "metadata": {
    "hidden": true
   },
   "outputs": [],
   "source": []
  },
  {
   "cell_type": "markdown",
   "metadata": {
    "heading_collapsed": true
   },
   "source": [
    "## NumPy 的 ndarray 类"
   ]
  },
  {
   "cell_type": "markdown",
   "metadata": {
    "hidden": true
   },
   "source": [
    "Numpy 提供一个多维数组对象 ndarray, 它是同种类型数据的一个有序集合。(有时也直接写作array对象)"
   ]
  },
  {
   "cell_type": "markdown",
   "metadata": {
    "hidden": true
   },
   "source": [
    "ndarray 由两部分构成：\n",
    "\n",
    "* 实际的数据\n",
    "* 描述这些数据的元数据（数据维度、数据类型等）\n",
    "\n",
    "一般要求所有元素数据类型相同（同质），数组下标从 0 开始。\n",
    "\n",
    "np.array() 生成一个 ndarray 数组，ndarray 在程序中的别名就是：array 。np.array() 输出成 [] 形式，元素由空格分隔。\n",
    "\n",
    "数组有两个重要的属性，轴（axis）：保存数据的维度，与秩（rank）：轴的数量，即数组有多少维。"
   ]
  },
  {
   "cell_type": "code",
   "execution_count": 3,
   "metadata": {
    "hidden": true
   },
   "outputs": [
    {
     "name": "stdout",
     "output_type": "stream",
     "text": [
      "a 的对象类型为： <class 'numpy.ndarray'>\n"
     ]
    },
    {
     "data": {
      "text/plain": [
       "array([[0, 1],\n",
       "       [2, 3]])"
      ]
     },
     "execution_count": 3,
     "metadata": {},
     "output_type": "execute_result"
    }
   ],
   "source": [
    "import numpy as np                     # 导入 numpy \n",
    "a = np.array([[0, 1], [2, 3]])         # 利用python的列表创建一个二维数组\n",
    "print(\"a 的对象类型为：\", type(a)) \n",
    "a"
   ]
  },
  {
   "cell_type": "markdown",
   "metadata": {
    "hidden": true
   },
   "source": [
    "在计算机内存中， 上面的二维数组 a 是以一行接一行的方式存储在一块连续的内存当中，这种存储方式称为行优先(row-major) 存储。"
   ]
  },
  {
   "cell_type": "code",
   "execution_count": 8,
   "metadata": {
    "hidden": true
   },
   "outputs": [
    {
     "data": {
      "text/plain": [
       "'0 1 2 3'"
      ]
     },
     "execution_count": 8,
     "metadata": {},
     "output_type": "execute_result"
    }
   ],
   "source": [
    "' '.join(str(x) for x in a.flat) # 输出的是'0 1 2 3'，而不是'0 2 1 3' 。"
   ]
  },
  {
   "cell_type": "markdown",
   "metadata": {
    "heading_collapsed": true,
    "hidden": true
   },
   "source": [
    "### 多维数组的属性"
   ]
  },
  {
   "cell_type": "markdown",
   "metadata": {
    "hidden": true
   },
   "source": [
    "- .dtype    \n",
    "    * ndarray对象的元素类型\n",
    "* .shape    \n",
    "    * ndarray对象的尺度，对于矩阵，n行m列\n",
    "* .size    \n",
    "    * ndarray对象元素的个数，相当于 .shape 中 n*m 的值\n",
    "* .ndim    \n",
    "    * 秩，即轴的数量或维度的数量\n",
    "* .itemsize    \n",
    "    * ndarray对象中每个元素的大小，以字节为单位    \n",
    "* .nbytes\n",
    "    * 整个数组所占的大小，以字节为单位\n",
    "* .T   \n",
    "    * 返回ndarray对象的转置\n",
    "    * .transpose()\n",
    "    * .swapaxes(1,0) (二维数组换轴)\n",
    "* .strides\n",
    "    * 即步幅属性"
   ]
  },
  {
   "cell_type": "markdown",
   "metadata": {
    "heading_collapsed": true,
    "hidden": true
   },
   "source": [
    "#### array 多维数组的数据类型 (`.dtype` 属性)"
   ]
  },
  {
   "cell_type": "markdown",
   "metadata": {
    "hidden": true
   },
   "source": [
    "多维数组是用来存储同种类型数据的，同种类型的数据占用内存的大小是固定的。 多维数组中的数据类型规定了数组中每个数据占用内存的大小。就比如 `int64` 表明数组中的每个数据占用 8 个字节(共 64 位)。\n",
    "\n",
    "Python语法仅支持整数、浮点数和复数3种类型，但科学计算涉及数据较多，对存储和性能都有较高要求，所以需要NumPy对元素类型精细定义，来合理使用存储空间并优化性能，这也有助于使用者对程序规模有合理的评估。\n",
    "\n",
    "ndarray数组可以由非同质对象构成，非同质ndarray元素的数据类型为对象类型（object），但这种类型无法发挥NumPy的优势，尽量避免使用。"
   ]
  },
  {
   "cell_type": "markdown",
   "metadata": {
    "hidden": true
   },
   "source": [
    "|类型| 类型代码 | 描述 |\n",
    "|:--| :-- |:--|\n",
    "|int8,   uint8| i1, u1 | 有符号和无符号的 8 位整数\n",
    "|int16, uint16| i2, u2 | 有符号和无符号的 16 位整数\n",
    "|int32, uint32| i4, u4 | 有符号和无符号的 32 位整数\n",
    "|int64, uint64| i8, u8 | 有符号和无符号的 64 位整数\n",
    "|int,     uint|        | 有符号和无符号的 64 位整数\n",
    "|float16      | f2     | 半浮点精度\n",
    "|float32      | f4或 f  | 标准单浮点精度， 兼容 C 语言 float\n",
    "|float64      | f8或 d  | 标准双浮点精度， 兼容 C 语言 double 和 Python float\n",
    "|float128     | f16或 g | 拓展精度浮点数\n",
    "|complex64     | c8     |  基于 32 位浮点数的复数\n",
    "|complex128    | c16     |  基于 64 位浮点数的复数\n",
    "|complex256    | c32     |  基于 128 位浮点数的复数\n",
    "|bool          | ?       |  布尔值，存储 True 或 False\n",
    "|oject        | o       |  Python object 类型\n",
    "|string       | S       | 修正的 ASC II 字符串类型， 例如 `S10` 表示长度为 10 的字符串类型\n",
    "|unicode_     | U       | 修正的 Unicode 类型，例如 `U10` 表示一个长度为 10 Unicode 类型"
   ]
  },
  {
   "cell_type": "markdown",
   "metadata": {
    "hidden": true
   },
   "source": [
    "* bool    布尔类型，True或False\n",
    "* intc    与C语言中的int类型一致，一般是int32或int64，（具体的int32或int64可以指定，默认类型由系统所影响）\n",
    "* intp    用于索引的整数，与C语言中size_t一致，int32或int64\n",
    "* int8    字节长度的整数，取值：[-128 , 127]\n",
    "* int16    16位长度的整数，取值：[-32768 , 32767]\n",
    "* int32    32位长度的整数，取值：[-2^31 , 2^31-1]\n",
    "* int64    64位长度的整数，取值：[-2^63 , 2^63-1]\n",
    "* uint8    8位无符号整数，取值：[0 , 255]\n",
    "* uint16    16位无符号整数，取值：[0 , 65535]\n",
    "* uint32    32位无符号整数，取值：[0 , 2^32-1]\n",
    "* uint64    64位无符号整数，取值：[0 , 2^64-1]\n",
    "* float16    16位半精度浮点数，1位符号位，5位指数，10位尾数\n",
    "* float32    32位半精度浮点数，1位符号位，8位指数，23位尾数\n",
    "* float64    64位半精度浮点数，1位符号位，11位指数，52位尾数\n",
    "* complex64    复数类型，实部和虚部都是32位浮点数，（实部(.real) + 虚部(.imag)）\n",
    "* complex128    复数类型，实部和虚部都是64位浮点数\n"
   ]
  },
  {
   "cell_type": "code",
   "execution_count": 9,
   "metadata": {
    "hidden": true
   },
   "outputs": [
    {
     "name": "stdout",
     "output_type": "stream",
     "text": [
      "[False  True]\n",
      "bool\n"
     ]
    }
   ],
   "source": [
    "test_0 = np.array([0, 1], dtype='?')\n",
    "print(test_0)\n",
    "print(test_0.dtype)"
   ]
  },
  {
   "cell_type": "code",
   "execution_count": 10,
   "metadata": {
    "hidden": true
   },
   "outputs": [
    {
     "name": "stdout",
     "output_type": "stream",
     "text": [
      "[3. 4.]\n",
      "float64\n"
     ]
    }
   ],
   "source": [
    "test_1 = np.array([3, 4], dtype=np.float)\n",
    "print(test_1)\n",
    "print(test_1.dtype)"
   ]
  },
  {
   "cell_type": "code",
   "execution_count": 18,
   "metadata": {
    "hidden": true
   },
   "outputs": [
    {
     "data": {
      "text/plain": [
       "dtype('int32')"
      ]
     },
     "execution_count": 18,
     "metadata": {},
     "output_type": "execute_result"
    }
   ],
   "source": [
    "test_2 = np.array([10, 11, 12, 13.0],dtype='int32')   # 可由dtype参数直接在创建array时指定数据类型 \n",
    "test_2.dtype"
   ]
  },
  {
   "cell_type": "code",
   "execution_count": 17,
   "metadata": {
    "hidden": true
   },
   "outputs": [
    {
     "data": {
      "text/plain": [
       "array([[1, 2, 3, 4],\n",
       "       [2, 3, 4, 5]])"
      ]
     },
     "execution_count": 17,
     "metadata": {},
     "output_type": "execute_result"
    }
   ],
   "source": [
    "test_3 = np.array([[1, 2, 3, 4], [2, 3, 4, 5]])\n",
    "test_3       # 数组的类型在不是默认类型时才会显示出来"
   ]
  },
  {
   "cell_type": "markdown",
   "metadata": {
    "heading_collapsed": true,
    "hidden": true
   },
   "source": [
    "#### `.shape` 属性"
   ]
  },
  {
   "cell_type": "markdown",
   "metadata": {
    "hidden": true
   },
   "source": [
    "* 它是一个 `tuple` 数组。\n",
    "* 它的长度为多维数组的维数，即轴的个数。\n",
    "* `shape[i]` 存储的是第 `i` 轴的长度， 当然 `0 <= i< len(shape)`。"
   ]
  },
  {
   "cell_type": "code",
   "execution_count": 27,
   "metadata": {
    "hidden": true
   },
   "outputs": [
    {
     "name": "stdout",
     "output_type": "stream",
     "text": [
      "test_0 的 shape 属性为： (2,)\n",
      "test_1 的 shape 属性为： (4,)\n",
      "test_2 的 shape 属性为： (2, 4)\n",
      "test_2 的 0 轴的长度为： 2\n",
      "test_2 的 1 轴的长度为： 4\n"
     ]
    }
   ],
   "source": [
    "test_0 = np.array([0, 1])\n",
    "test_1 = np.array([3, 4, 4, 1])\n",
    "test_2 = np.array([[1, 2, 3, 4], [2, 3, 4, 5]])\n",
    "print(\"test_0 的 shape 属性为：\", test_0.shape)\n",
    "print(\"test_1 的 shape 属性为：\", test_1.shape)\n",
    "print(\"test_2 的 shape 属性为：\", test_2.shape)\n",
    "print(\"test_2 的 0 轴的长度为：\", test_2.shape[0])\n",
    "print(\"test_2 的 1 轴的长度为：\", test_2.shape[1])"
   ]
  },
  {
   "cell_type": "markdown",
   "metadata": {
    "hidden": true
   },
   "source": [
    "size\n",
    "ndarray对象元素的个数，相当于 .shape 中 n*m 的值\n",
    "\n",
    ".ndim\n",
    "秩，即轴的数量或维度的数量\n",
    "\n",
    ".itemsize\n",
    "ndarray对象中每个元素的大小，以字节为单位\n",
    "\n",
    ".T\n",
    "返回ndarray对象的转置\n",
    "\n",
    ".strides\n",
    "即步幅属性"
   ]
  },
  {
   "cell_type": "markdown",
   "metadata": {
    "heading_collapsed": true,
    "hidden": true
   },
   "source": [
    "#### `.size` 属性"
   ]
  },
  {
   "cell_type": "markdown",
   "metadata": {
    "hidden": true
   },
   "source": [
    "* 它是一个 整数值。\n",
    "* ndarray对象元素的个数，相当于 .shape 中 n*m 的值。"
   ]
  },
  {
   "cell_type": "code",
   "execution_count": 49,
   "metadata": {
    "hidden": true
   },
   "outputs": [
    {
     "name": "stdout",
     "output_type": "stream",
     "text": [
      "[0 1]\n",
      "test_0 的 size 属性为： 2\n",
      "test_0 的 shape 属性为： (2,)\n",
      "[3 4 4 1]\n",
      "test_1 的 size 属性为： 4\n",
      "test_1 的 shape 属性为： (4,)\n",
      "[[1 2 3 4]\n",
      " [2 3 4 5]]\n",
      "test_2 的 size 属性为： 8\n",
      "test_2 的 shape 属性为： (2, 4)\n"
     ]
    }
   ],
   "source": [
    "print(test_0)\n",
    "print(\"test_0 的 size 属性为：\", test_0.size)\n",
    "print(\"test_0 的 shape 属性为：\", test_0.shape)\n",
    "print(test_1)\n",
    "print(\"test_1 的 size 属性为：\", test_1.size)\n",
    "print(\"test_1 的 shape 属性为：\", test_1.shape)\n",
    "print(test_2)\n",
    "print(\"test_2 的 size 属性为：\", test_2.size)\n",
    "print(\"test_2 的 shape 属性为：\", test_2.shape)"
   ]
  },
  {
   "cell_type": "markdown",
   "metadata": {
    "heading_collapsed": true,
    "hidden": true
   },
   "source": [
    "#### `.ndim` 属性"
   ]
  },
  {
   "cell_type": "markdown",
   "metadata": {
    "hidden": true
   },
   "source": [
    "* 轴的数量，即array的维度\n",
    "    * 轴 (axis) 是 Numpy 多维数组对象涉及到的一个重要概念。\n",
    "    * 1 维数组有 1 个轴， 2 维数组有两个轴， n 维数组有 n 个轴, 即数组有 n 个轴就是 n 维数组。\n",
    "    * 数组的轴是有顺序的，编号从 0 开始。\n",
    "    * 数组的每一轴都是有长度的。"
   ]
  },
  {
   "cell_type": "markdown",
   "metadata": {
    "hidden": true
   },
   "source": [
    "![](./figures/axis.jpg)"
   ]
  },
  {
   "cell_type": "code",
   "execution_count": 43,
   "metadata": {
    "hidden": true
   },
   "outputs": [
    {
     "name": "stdout",
     "output_type": "stream",
     "text": [
      "[0 1]\n",
      "[[1 2 3 4]\n",
      " [2 3 4 5]]\n",
      "test_0 的 ndim 属性为： 1\n",
      "test_2 的 ndim 属性为： 2\n"
     ]
    }
   ],
   "source": [
    "print(test_0)\n",
    "print(test_2)\n",
    "print(\"test_0 的 ndim 属性为：\", test_0.ndim)\n",
    "print(\"test_2 的 ndim 属性为：\", test_2.ndim)"
   ]
  },
  {
   "cell_type": "code",
   "execution_count": 44,
   "metadata": {
    "hidden": true
   },
   "outputs": [
    {
     "name": "stdout",
     "output_type": "stream",
     "text": [
      "test_2 的 ndim 属性为： 2\n",
      "test_2 的 shape 属性为： (2, 4)\n",
      "test_2 的 0 轴的长度为： 2\n",
      "test_2 的 1 轴的长度为： 4\n"
     ]
    }
   ],
   "source": [
    "print(\"test_2 的 ndim 属性为：\", test_2.ndim)\n",
    "print(\"test_2 的 shape 属性为：\", test_2.shape)\n",
    "print(\"test_2 的 0 轴的长度为：\", test_2.shape[0])\n",
    "print(\"test_2 的 1 轴的长度为：\", test_2.shape[1])"
   ]
  },
  {
   "cell_type": "markdown",
   "metadata": {
    "heading_collapsed": true,
    "hidden": true
   },
   "source": [
    "#### `.itemsize` 属性"
   ]
  },
  {
   "cell_type": "code",
   "execution_count": 47,
   "metadata": {
    "hidden": true
   },
   "outputs": [
    {
     "name": "stdout",
     "output_type": "stream",
     "text": [
      "[0 1]\n",
      "[3 4 4 1]\n",
      "[[1 2 3 4]\n",
      " [2 3 4 5]]\n",
      "test_0 的 dtype 属性为： int32\n",
      "test_0 的 itemsize 属性为： 4\n",
      "test_1 的 dtype 属性为： int32\n",
      "test_1 的 itemsize 属性为： 4\n",
      "test_2 的 dtype 属性为： int32\n",
      "test_2 的 itemsize 属性为： 4\n",
      "test_0 的 nbytes 属性为： 8\n",
      "test_1 的 nbytes 属性为： 16\n",
      "test_2 的 nbytes 属性为： 32\n"
     ]
    }
   ],
   "source": [
    "print(test_0)\n",
    "print(test_1)\n",
    "print(test_2)\n",
    "print(\"test_0 的 dtype 属性为：\", test_0.dtype)\n",
    "print(\"test_0 的 itemsize 属性为：\", test_0.itemsize)\n",
    "print(\"test_1 的 dtype 属性为：\", test_1.dtype)\n",
    "print(\"test_1 的 itemsize 属性为：\", test_1.itemsize)\n",
    "print(\"test_2 的 dtype 属性为：\", test_2.dtype)\n",
    "print(\"test_2 的 itemsize 属性为：\", test_2.itemsize)"
   ]
  },
  {
   "cell_type": "markdown",
   "metadata": {
    "heading_collapsed": true,
    "hidden": true
   },
   "source": [
    "#### `.nbytes` 属性"
   ]
  },
  {
   "cell_type": "code",
   "execution_count": 50,
   "metadata": {
    "hidden": true
   },
   "outputs": [
    {
     "name": "stdout",
     "output_type": "stream",
     "text": [
      "[0 1]\n",
      "[3 4 4 1]\n",
      "[[1 2 3 4]\n",
      " [2 3 4 5]]\n",
      "test_0 的 dtype 属性为： int32\n",
      "test_0 的 itemsize 属性为： 4\n",
      "test_1 的 dtype 属性为： int32\n",
      "test_1 的 itemsize 属性为： 4\n",
      "test_2 的 dtype 属性为： int32\n",
      "test_2 的 itemsize 属性为： 4 \n",
      "\n",
      "test_0 的 nbytes 属性为： 8\n",
      "test_1 的 nbytes 属性为： 16\n",
      "test_2 的 nbytes 属性为： 32\n"
     ]
    }
   ],
   "source": [
    "print(test_0)\n",
    "print(test_1)\n",
    "print(test_2)\n",
    "print(\"test_0 的 dtype 属性为：\", test_0.dtype)\n",
    "print(\"test_0 的 itemsize 属性为：\", test_0.itemsize)\n",
    "print(\"test_1 的 dtype 属性为：\", test_1.dtype)\n",
    "print(\"test_1 的 itemsize 属性为：\", test_1.itemsize)\n",
    "print(\"test_2 的 dtype 属性为：\", test_2.dtype)\n",
    "print(\"test_2 的 itemsize 属性为：\", test_2.itemsize,'\\n')\n",
    "\n",
    "\n",
    "print(\"test_0 的 nbytes 属性为：\", test_0.nbytes)\n",
    "print(\"test_1 的 nbytes 属性为：\", test_1.nbytes)\n",
    "print(\"test_2 的 nbytes 属性为：\", test_2.nbytes)"
   ]
  },
  {
   "cell_type": "markdown",
   "metadata": {
    "heading_collapsed": true,
    "hidden": true
   },
   "source": [
    "#### `.T` 属性"
   ]
  },
  {
   "cell_type": "markdown",
   "metadata": {
    "hidden": true
   },
   "source": [
    "* 对数组进行转置\n",
    "* 对一维数组转置在numpy下无意义，也不会转为多维的数组，因为这里是数组而不是矩阵"
   ]
  },
  {
   "cell_type": "code",
   "execution_count": 63,
   "metadata": {
    "hidden": true
   },
   "outputs": [
    {
     "name": "stdout",
     "output_type": "stream",
     "text": [
      "[3 4 4 1]\n",
      "[3 4 4 1] \n",
      "\n",
      "[[1 2 3 4]\n",
      " [2 3 4 5]]\n",
      "[[1 2]\n",
      " [2 3]\n",
      " [3 4]\n",
      " [4 5]]\n",
      "[[1 2]\n",
      " [2 3]\n",
      " [3 4]\n",
      " [4 5]]\n",
      "[[1 2]\n",
      " [2 3]\n",
      " [3 4]\n",
      " [4 5]]\n"
     ]
    }
   ],
   "source": [
    "print(test_1)\n",
    "print(test_1.T,'\\n')\n",
    "print(test_2)\n",
    "print(test_2.T)\n",
    "print(test_2.transpose())\n",
    "print(test_2.swapaxes(1,0))"
   ]
  },
  {
   "cell_type": "markdown",
   "metadata": {
    "heading_collapsed": true,
    "hidden": true
   },
   "source": [
    "#### `.strides` 属性"
   ]
  },
  {
   "cell_type": "markdown",
   "metadata": {
    "hidden": true
   },
   "source": [
    "* 步幅属性\n",
    "* 它是一个 `tuple` 数组。\n",
    "* 它的长度也为数组的维数，即轴的个数。\n",
    "* `strides[i]` 存储的是沿 `axis=i` 轴上前进一步，需要跨过多少个**字节数**。\n",
    "* 画图解释属性的意义。"
   ]
  },
  {
   "cell_type": "code",
   "execution_count": 29,
   "metadata": {
    "hidden": true,
    "scrolled": false
   },
   "outputs": [
    {
     "name": "stdout",
     "output_type": "stream",
     "text": [
      "[0 1]\n",
      "test_0 的 strides 属性为： (4,)\n"
     ]
    }
   ],
   "source": [
    "print(test_0)\n",
    "print(\"test_0 的 strides 属性为：\", test_0.strides)"
   ]
  },
  {
   "cell_type": "code",
   "execution_count": 39,
   "metadata": {
    "hidden": true
   },
   "outputs": [
    {
     "name": "stdout",
     "output_type": "stream",
     "text": [
      "[[1 2 3 4]\n",
      " [2 3 4 5]]\n",
      "test_2 的 strides 属性为： (16, 4)\n"
     ]
    },
    {
     "data": {
      "text/plain": [
       "'1 2 3 4 2 3 4 5'"
      ]
     },
     "execution_count": 39,
     "metadata": {},
     "output_type": "execute_result"
    }
   ],
   "source": [
    "print(test_2)\n",
    "print(\"test_2 的 strides 属性为：\", test_2.strides)\n",
    "' '.join(str(x) for x in test_2.flat)"
   ]
  },
  {
   "cell_type": "code",
   "execution_count": 38,
   "metadata": {
    "hidden": true,
    "scrolled": true
   },
   "outputs": [
    {
     "name": "stdout",
     "output_type": "stream",
     "text": [
      "[[1 2 3]\n",
      " [4 5 6]]\n",
      "test_3[0, 1] 5\n"
     ]
    }
   ],
   "source": [
    "test_3 = np.array([[1,2,3],[4,5,6]])\n",
    "print(test_3)\n",
    "print(\"test_3[0, 1]\", test_3[1, 1])"
   ]
  },
  {
   "cell_type": "markdown",
   "metadata": {
    "heading_collapsed": true,
    "hidden": true
   },
   "source": [
    "#### 其他不太常用的属性"
   ]
  },
  {
   "cell_type": "markdown",
   "metadata": {
    "hidden": true
   },
   "source": [
    "flags 属性默认是字典类型，它包含了数组是否含有数据信息等内容"
   ]
  },
  {
   "cell_type": "code",
   "execution_count": 135,
   "metadata": {
    "hidden": true,
    "scrolled": true
   },
   "outputs": [
    {
     "name": "stdout",
     "output_type": "stream",
     "text": [
      "[0 1] \n",
      "\n",
      "  C_CONTIGUOUS : True\n",
      "  F_CONTIGUOUS : True\n",
      "  OWNDATA : True\n",
      "  WRITEABLE : True\n",
      "  ALIGNED : True\n",
      "  WRITEBACKIFCOPY : False\n",
      "  UPDATEIFCOPY : False\n",
      "\n"
     ]
    }
   ],
   "source": [
    "print(test_0,'\\n')\n",
    "print(test_0.flags)"
   ]
  },
  {
   "cell_type": "markdown",
   "metadata": {
    "hidden": true
   },
   "source": [
    "data 包含实际数组元素的缓冲区，由于一般通过数组的索引获取元素，所以通常不需要使用这个属性。"
   ]
  },
  {
   "cell_type": "code",
   "execution_count": 136,
   "metadata": {
    "hidden": true
   },
   "outputs": [
    {
     "name": "stdout",
     "output_type": "stream",
     "text": [
      "[0 1] \n",
      "\n",
      "<memory at 0x05F2E208>\n"
     ]
    }
   ],
   "source": [
    "print(test_0,'\\n')\n",
    "print(test_0.data)"
   ]
  },
  {
   "cell_type": "markdown",
   "metadata": {
    "heading_collapsed": true,
    "hidden": true
   },
   "source": [
    "### array 数组的创建"
   ]
  },
  {
   "cell_type": "markdown",
   "metadata": {
    "hidden": true
   },
   "source": [
    "* 从 Python 中的列表、元组等类型创建\n",
    "* 使用 NumPy 中函数创建 ndarray 数组\n",
    "* 从字节流（raw bytes）中创建\n",
    "* 从文件中读取特定格式来创建\n",
    "* 对原有的ndarray数组，进行维度变换和元素类型的变换而得到新数组"
   ]
  },
  {
   "cell_type": "markdown",
   "metadata": {
    "hidden": true
   },
   "source": [
    "![](./figures/numpy-matrix-ones-zeros-random.png)"
   ]
  },
  {
   "cell_type": "markdown",
   "metadata": {
    "heading_collapsed": true,
    "hidden": true
   },
   "source": [
    "#### 从 Python 中的列表、元组等类型创建"
   ]
  },
  {
   "cell_type": "markdown",
   "metadata": {
    "hidden": true
   },
   "source": [
    "* x = np.array(list / tuple) \n",
    "* x = np.array(list / tuple, dtype=np.float32) 可以由dtype指定数据类型，如果不指定，NumPy将根据数据情况关联一个dtype类型\n",
    "* ndarray数组也可以转换为列表，使用 .tolist() 方法，"
   ]
  },
  {
   "cell_type": "code",
   "execution_count": 83,
   "metadata": {
    "hidden": true
   },
   "outputs": [
    {
     "name": "stdout",
     "output_type": "stream",
     "text": [
      "[[0 1]\n",
      " [2 3]\n",
      " [4 5]\n",
      " [6 7]] \n",
      "\n",
      "[[0, 1], [2, 3], [4, 5], [6, 7]]\n"
     ]
    }
   ],
   "source": [
    "test_7 = np.arange(8).reshape(4,2)\n",
    "print(test_7,'\\n')\n",
    "print(test_7.tolist())"
   ]
  },
  {
   "cell_type": "markdown",
   "metadata": {
    "heading_collapsed": true,
    "hidden": true
   },
   "source": [
    "#### 使用 NumPy 中函数创建 ndarray 数组"
   ]
  },
  {
   "cell_type": "markdown",
   "metadata": {
    "hidden": true
   },
   "source": [
    "|        函数         |                         说明                         |\n",
    "| :-----------------: | :--------------------------------------------------: |\n",
    "|    np.arange(n)     |    类似range()函数，返回ndarray类型，元素从0到n-1    |\n",
    "|   np.ones(shape)    |  根据shape生成一个元素全为 1 的数组，shape指定形状   |\n",
    "|   np.zeros(shape)   |  根据shape生成一个元素全为 0 的数组，shape指定形状   |\n",
    "| np.full(shape,val)  |      根据shape生成一个数组，每个元素的值都是val      |\n",
    "|      np.eye(n)      | 创建一个正方的 n\\*n 单位矩阵，主对角线为 1 ，其余为 0 |\n",
    "|   np.ones_like(a)   |         根据a的形状生成一个元素全为 1 的数组         |\n",
    "|  np.zeros_like(a)   |         根据a的形状生成一个元素全为 0 的数组         |\n",
    "| np.full_like(a.val) |      根据a的形状生成一个数组，每个元素值都是val      |\n",
    "|    np.linspace()    |        根据起始数据等间距地填充数据，形成数组        |\n",
    "|  np.concatenate()   |           将两个或多个数合并成一个新的数组           |\n",
    "|   np.empty(shape)   | 根据shape生成一个元素都接近 0 是数组，shape指定形状  |\n",
    "|   np.empty_like(a)   | 仿照原有的数组，建立一个新的原形状的数组，但里面的数据是无用的垃圾数据，每次执行后的结果都可能不一样  |\n",
    "|   np.transpose(a)   |                 返回数组a的转置数组                  |"
   ]
  },
  {
   "cell_type": "code",
   "execution_count": 149,
   "metadata": {
    "hidden": true
   },
   "outputs": [
    {
     "name": "stdout",
     "output_type": "stream",
     "text": [
      "[ 1.  4.  7. 10.]\n",
      "[1.   3.25 5.5  7.75]\n",
      "[ 1.    4.    7.   10.    1.    3.25  5.5   7.75]\n"
     ]
    }
   ],
   "source": [
    "test_4 = np.linspace(1, 10, 4)\n",
    "test_5 = np.linspace(1, 10, 4, endpoint=False)\n",
    "# endpoint=false表示不包含末值，默认true\n",
    "test_6 = np.concatenate((test_4, test_5,))\n",
    "print(test_4)\n",
    "print(test_5)\n",
    "print(test_6)"
   ]
  },
  {
   "cell_type": "markdown",
   "metadata": {
    "heading_collapsed": true,
    "hidden": true
   },
   "source": [
    "#### 从字节流（raw bytes）中创建"
   ]
  },
  {
   "cell_type": "markdown",
   "metadata": {
    "heading_collapsed": true,
    "hidden": true
   },
   "source": [
    "#### 从文件中读取特定格式来创建"
   ]
  },
  {
   "cell_type": "markdown",
   "metadata": {
    "heading_collapsed": true,
    "hidden": true
   },
   "source": [
    "#### 对原有的ndarray数组，进行维度变换和元素类型的变换而得到新数组"
   ]
  },
  {
   "cell_type": "markdown",
   "metadata": {
    "hidden": true
   },
   "source": [
    "| 方法 | 说明 |\n",
    "| :--: | :----: |\n",
    "| .reshape(shape) | 不改变数组元素，返回一个shape形状的数组，原数组不变 |\n",
    "| .resize(shape) | 与上个函数功能一致，但修改原数组 |\n",
    "| .swapaxes(ax1,ax2) | 将数组n个维度中两个维度进行调换 |\n",
    "| .flatten() | Udine数组进行降维，返回折叠后的一维数组，原数组不变 |\n",
    "| .astype() | b = a.astype(np.float) ，将b保存为一个从 a 得到的float类型的数组 |"
   ]
  },
  {
   "cell_type": "markdown",
   "metadata": {
    "heading_collapsed": true,
    "hidden": true
   },
   "source": [
    "### array 数组的操作 "
   ]
  },
  {
   "cell_type": "markdown",
   "metadata": {
    "hidden": true
   },
   "source": [
    "* 主要说明元素的调用与修改，即元素索引\n",
    "    * 基础索引(basic indexing)\n",
    "    * 布尔索引 (bool indexing)\n",
    "    * 切片索引(slicing indexing)\n",
    "    * 花式索引(fancy indexing)"
   ]
  },
  {
   "cell_type": "markdown",
   "metadata": {
    "hidden": true
   },
   "source": [
    "索引到的数组子集不直接含有数据内容，如果直接对其进行修改，会影响原数组的数据，如果要做到不影响，要使用 copy 方法"
   ]
  },
  {
   "cell_type": "markdown",
   "metadata": {
    "heading_collapsed": true,
    "hidden": true
   },
   "source": [
    "#### 基础索引(basic indexing)\n",
    "\n",
    "* 同list的元素调用 "
   ]
  },
  {
   "cell_type": "markdown",
   "metadata": {
    "hidden": true
   },
   "source": [
    "![](./figures/numpy-array-slice.png)\n",
    "\n",
    "![](./figures/numpy-matrix-indexing.png)"
   ]
  },
  {
   "cell_type": "markdown",
   "metadata": {
    "hidden": true
   },
   "source": [
    "一维数组"
   ]
  },
  {
   "cell_type": "code",
   "execution_count": 95,
   "metadata": {
    "hidden": true
   },
   "outputs": [
    {
     "name": "stdout",
     "output_type": "stream",
     "text": [
      "array数组为： [ 0  1  2  3  4  5  6  7  8  9 10 11]\n",
      "array数组的第3个元素为： 3\n"
     ]
    }
   ],
   "source": [
    "test_8 = np.arange(12)\n",
    "print('array数组为：',test_8)\n",
    "print('array数组的第3个元素为：',test_8[3])"
   ]
  },
  {
   "cell_type": "markdown",
   "metadata": {
    "hidden": true
   },
   "source": [
    "二维数组"
   ]
  },
  {
   "cell_type": "code",
   "execution_count": 139,
   "metadata": {
    "hidden": true,
    "scrolled": true
   },
   "outputs": [
    {
     "name": "stdout",
     "output_type": "stream",
     "text": [
      "array数组为：\n",
      " [[ 0  1  2  3]\n",
      " [ 4  5  6  7]\n",
      " [ 8  9 10 11]]\n",
      "array数组的第2行元素为： [ 8  9 10 11]\n",
      "array数组的第2行第3个元素为： 11\n",
      "array数组的第2行第3个元素为： 11\n",
      "两种访问二维数组内数据元素的方式，但在使用numpy数组时推荐前者，后者可能会出现意想不到的错误。\n",
      "这同样印证了numpy库的行优先法则，优先索引行，这样可以简单的推导到更多维的数组。\n"
     ]
    }
   ],
   "source": [
    "test_9 = np.arange(12).reshape(3,4)\n",
    "print('array数组为：\\n',test_9)\n",
    "print('array数组的第2行元素为：',test_9[2])\n",
    "print('array数组的第2行第3个元素为：',test_9[2,3])\n",
    "print('array数组的第2行第3个元素为：',test_9[2][3]) \n",
    "print('两种访问二维数组内数据元素的方式，但在使用numpy数组时推荐前者，后者可能会出现意想不到的错误。')\n",
    "print('这同样印证了numpy库的行优先法则，优先索引行，这样可以简单的推导到更多维的数组。')"
   ]
  },
  {
   "cell_type": "markdown",
   "metadata": {
    "heading_collapsed": true,
    "hidden": true
   },
   "source": [
    "#### 布尔索引 (bool indexing)"
   ]
  },
  {
   "cell_type": "markdown",
   "metadata": {
    "hidden": true
   },
   "source": [
    "* 将一个布尔类型的数组或列表作为索引值\n",
    "* 这样可以控制数组数据的显隐，实现调用，但要注意要与原数组有相同结构的布尔值"
   ]
  },
  {
   "cell_type": "code",
   "execution_count": 110,
   "metadata": {
    "hidden": true
   },
   "outputs": [
    {
     "name": "stdout",
     "output_type": "stream",
     "text": [
      "[0.03089104 0.54581921 0.54212024 0.47804595 0.62736365 0.20188228\n",
      " 0.80186034 0.39181029 0.56432767 0.20027486] \n",
      "\n",
      "flag 的类型为： <class 'numpy.ndarray'>\n",
      "flag 存储的数据类型为： bool\n",
      "布尔索引返回一个根据布尔数组对应True位置的数组： [0.54581921 0.54212024 0.62736365 0.80186034 0.56432767]\n",
      "利用布尔索引批量修改满足某一条件的元素：\n",
      " [0.03089104 1.         1.         0.47804595 1.         0.20188228\n",
      " 1.         0.39181029 1.         0.20027486]\n"
     ]
    }
   ],
   "source": [
    "a = np.random.rand(10)   # 生成一个长度为 10 的一维随机数组，每个元素的取值都在 [0, 1] 区间中。\n",
    "print(a,'\\n')\n",
    "flag = a > 0.5 \n",
    "print('flag 的类型为：', type(flag))\n",
    "print('flag 存储的数据类型为：', flag.dtype)\n",
    "print('布尔索引返回一个根据布尔数组对应True位置的数组：',a[flag])\n",
    "\n",
    "a[flag] = 1\n",
    "print('利用布尔索引批量修改满足某一条件的元素：\\n',a)"
   ]
  },
  {
   "cell_type": "markdown",
   "metadata": {
    "heading_collapsed": true,
    "hidden": true
   },
   "source": [
    "#### 切片索引(slicing indexing)"
   ]
  },
  {
   "cell_type": "markdown",
   "metadata": {
    "hidden": true
   },
   "source": [
    "* 调用数组得到数组的子集\n",
    "* 切片的格式：起始编号:终止编号（不含）:步长\n",
    "    * 可以省略部分参数，如果只包含一个引号，即省略步长，默认步长为1\n",
    "    * 如果参数位置为空，例如：7::2，即使用该参数位置的默认参数值，起始为0，终止为-1"
   ]
  },
  {
   "cell_type": "markdown",
   "metadata": {
    "hidden": true
   },
   "source": [
    "一维数组"
   ]
  },
  {
   "cell_type": "code",
   "execution_count": 127,
   "metadata": {
    "hidden": true
   },
   "outputs": [
    {
     "name": "stdout",
     "output_type": "stream",
     "text": [
      "array数组为： [ 0  1  2  3  4  5  6  7  8  9 10 11]\n",
      "array数组的从第2到第9(不包括第9)的元素为： [2 3 4 5 6 7 8]\n",
      "array数组的从第2到第9(不包括第9)且步长为2的元素为： [2 4 6 8]\n",
      "如果在切片中出现负数作为参数值，则其绝对值就是从整个数组倒过来查找的元素，-1即为最后一个元素。\n"
     ]
    }
   ],
   "source": [
    "test_10 = np.arange(12)\n",
    "print('array数组为：',test_10)\n",
    "print('array数组的从第2到第9(不包括第9)的元素为：',test_10[2:9])\n",
    "print('array数组的从第2到第9(不包括第9)且步长为2的元素为：',test_10[2:9:2]) \n",
    "print('如果在切片中出现负数作为参数值，则其绝对值就是从整个数组倒过来查找的元素，-1即为最后一个元素。')"
   ]
  },
  {
   "cell_type": "markdown",
   "metadata": {
    "hidden": true
   },
   "source": [
    "二维数组\n",
    "\n",
    "* 选取一个维度用 :\n",
    "* 每个维度切片方法与一维数组相同\n",
    "* 每个维度可以使用步长跳跃切片"
   ]
  },
  {
   "cell_type": "code",
   "execution_count": 131,
   "metadata": {
    "hidden": true
   },
   "outputs": [
    {
     "name": "stdout",
     "output_type": "stream",
     "text": [
      "array数组为：\n",
      " [[ 0  1  2  3]\n",
      " [ 4  5  6  7]\n",
      " [ 8  9 10 11]]\n",
      "array数组的从第1行到第2行(不包括第2行)的元素为： [[4 5 6 7]]\n",
      "array数组的从第1行到第2行(不包括第2行)且在第1列到第3列(不包括第3列)的元素为：\n",
      " [[5 6]]\n",
      "下面是几个切片索引的例子，不说明切片:\n",
      " [3 4] \n",
      "\n",
      " [[44 45]\n",
      " [54 55]] \n",
      "\n",
      " [ 2 12 22 32 42 52] \n",
      "\n",
      " [[20 22 24]\n",
      " [40 42 44]]\n"
     ]
    }
   ],
   "source": [
    "test_11 = np.arange(12).reshape(3,4) \n",
    "print('array数组为：\\n',test_11)\n",
    "print('array数组的从第1行到第2行(不包括第2行)的元素为：',test_11[1:2])\n",
    "print('array数组的从第1行到第2行(不包括第2行)且在第1列到第3列(不包括第3列)的元素为：\\n',test_11[1:2,1:3]) \n",
    "\n",
    "e = np.array([[0, 1, 2, 3, 4, 5], \n",
    "              [10, 11, 12, 13, 14, 15], \n",
    "              [20, 21, 22, 23, 24, 25], \n",
    "              [30, 31, 32, 33, 34, 35], \n",
    "              [40, 41, 42, 43, 44, 45], \n",
    "              [50, 51, 52, 53, 54, 55]])\n",
    "print('下面是几个切片索引的例子，不说明切片:\\n',e[0, 3:5],'\\n\\n',e[4:, 4:],'\\n\\n',e[:, 2],'\\n\\n',e[2::2, ::2])"
   ]
  },
  {
   "cell_type": "markdown",
   "metadata": {
    "heading_collapsed": true,
    "hidden": true
   },
   "source": [
    "##### 切片实现行行交换与列列交换"
   ]
  },
  {
   "cell_type": "code",
   "execution_count": 44,
   "metadata": {
    "hidden": true,
    "scrolled": true
   },
   "outputs": [
    {
     "name": "stdout",
     "output_type": "stream",
     "text": [
      "[[12 13 14 15]\n",
      " [16 17 18 19]\n",
      " [20 21 22 23]]\n",
      "[[12 13 14 15]\n",
      " [20 21 22 23]\n",
      " [16 17 18 19]]\n",
      "[[14 13 12 15]\n",
      " [22 21 20 23]\n",
      " [18 17 16 19]]\n"
     ]
    }
   ],
   "source": [
    "t_2 = np.arange(12,24).reshape(3,4)\n",
    "print(t_2)\n",
    "t_2[[1,2],:] = t_2[[2,1],:]\n",
    "print(t_2)\n",
    "t_2[:,[0,2]] = t_2[:,[2,0]]\n",
    "print(t_2)"
   ]
  },
  {
   "cell_type": "markdown",
   "metadata": {
    "heading_collapsed": true,
    "hidden": true
   },
   "source": [
    "##### 切片常用方法"
   ]
  },
  {
   "cell_type": "code",
   "execution_count": 45,
   "metadata": {
    "hidden": true
   },
   "outputs": [],
   "source": [
    "# 取几个指定位置的数据，（0,0），（2,1），（3,0）\n",
    "# test_data0[[0,2,3],[0,1,0]]"
   ]
  },
  {
   "cell_type": "markdown",
   "metadata": {
    "heading_collapsed": true,
    "hidden": true
   },
   "source": [
    "#### 花式索引(fancy indexing)"
   ]
  },
  {
   "cell_type": "code",
   "execution_count": 145,
   "metadata": {
    "hidden": true
   },
   "outputs": [
    {
     "name": "stdout",
     "output_type": "stream",
     "text": [
      "[ 0 10 20 30 40 50 60 70]\n"
     ]
    },
    {
     "data": {
      "text/plain": [
       "array([10, 20, 50])"
      ]
     },
     "execution_count": 145,
     "metadata": {},
     "output_type": "execute_result"
    }
   ],
   "source": [
    "g = np.arange(0, 80, 10)\n",
    "print(g)\n",
    "test_g0 = [1, 2, -3]\n",
    "g[test_g0]                # 可以使用列表作为索引来实现一些调用数据的操作"
   ]
  },
  {
   "cell_type": "code",
   "execution_count": 142,
   "metadata": {
    "hidden": true
   },
   "outputs": [
    {
     "name": "stdout",
     "output_type": "stream",
     "text": [
      "[[ 0  1  2  3]\n",
      " [ 4  5  6  7]\n",
      " [ 8  9 10 11]\n",
      " [12 13 14 15]\n",
      " [16 17 18 19]\n",
      " [20 21 22 23]\n",
      " [24 25 26 27]] \n",
      "\n",
      "[[16 17 18 19]\n",
      " [ 0  1  2  3]\n",
      " [ 4  5  6  7]\n",
      " [20 21 22 23]] \n",
      "\n",
      "[[16 17 18 19]\n",
      " [ 8  9 10 11]\n",
      " [ 0  1  2  3]] \n",
      "\n",
      "[ 4 10 15] \n",
      "\n"
     ]
    }
   ],
   "source": [
    "test_12 = np.arange(7*4).reshape(7, 4)\n",
    "print(test_12,'\\n')\n",
    "print(test_12[[4, 0, 1, 5]],'\\n')\n",
    "print(test_12[[-3, -5, -7]],'\\n')\n",
    "print(test_12[[1, 2, 3], [0, 2, 3]],'\\n')"
   ]
  },
  {
   "cell_type": "markdown",
   "metadata": {
    "heading_collapsed": true,
    "hidden": true
   },
   "source": [
    "### array 数组的运算"
   ]
  },
  {
   "cell_type": "markdown",
   "metadata": {
    "heading_collapsed": true,
    "hidden": true
   },
   "source": [
    "#### 位运算"
   ]
  },
  {
   "cell_type": "markdown",
   "metadata": {
    "hidden": true
   },
   "source": [
    "1. &(and)\n",
    "1. |(or)\n",
    "1. ~(not)\n",
    "1. ^(xor)(亦或)"
   ]
  },
  {
   "cell_type": "code",
   "execution_count": 46,
   "metadata": {
    "hidden": true
   },
   "outputs": [
    {
     "data": {
      "text/plain": [
       "False"
      ]
     },
     "execution_count": 46,
     "metadata": {},
     "output_type": "execute_result"
    }
   ],
   "source": [
    "g = np.arange(0, 80, 10)\n",
    "(g < 80).any()          # any()方法输出一个布尔值，只要数组中有一个真值，就输出True\n",
    "(g > 30).all()          # all()方法输出一个布尔值，只有数组中全为真值时，才输出True"
   ]
  },
  {
   "cell_type": "code",
   "execution_count": 47,
   "metadata": {
    "hidden": true
   },
   "outputs": [
    {
     "data": {
      "text/plain": [
       "array([False, False, False, False,  True,  True,  True, False])"
      ]
     },
     "execution_count": 47,
     "metadata": {},
     "output_type": "execute_result"
    }
   ],
   "source": [
    "(g < 70) & (g > 30) "
   ]
  },
  {
   "cell_type": "markdown",
   "metadata": {
    "heading_collapsed": true,
    "hidden": true
   },
   "source": [
    "#### 基本算术运算"
   ]
  },
  {
   "cell_type": "markdown",
   "metadata": {
    "hidden": true
   },
   "source": [
    "数组与标量之间的运算：作用于数组的每一个元素"
   ]
  },
  {
   "cell_type": "markdown",
   "metadata": {
    "hidden": true
   },
   "source": [
    "一元运算符："
   ]
  },
  {
   "cell_type": "code",
   "execution_count": 152,
   "metadata": {
    "hidden": true
   },
   "outputs": [
    {
     "name": "stdout",
     "output_type": "stream",
     "text": [
      "-x     =  [-1 -2 -6 -9  0]\n"
     ]
    }
   ],
   "source": [
    "x = np.array([1,2,6,9,0])\n",
    "print(\"-x     = \", -x)"
   ]
  },
  {
   "cell_type": "markdown",
   "metadata": {
    "hidden": true
   },
   "source": [
    "二元运算符："
   ]
  },
  {
   "cell_type": "code",
   "execution_count": 153,
   "metadata": {
    "hidden": true
   },
   "outputs": [
    {
     "name": "stdout",
     "output_type": "stream",
     "text": [
      "x     = [0 1 2 3]\n",
      "x + 5 = [5 6 7 8]\n",
      "x - 5 = [-5 -4 -3 -2]\n",
      "x * 2 = [0 2 4 6]\n",
      "x / 2 = [0.  0.5 1.  1.5]\n",
      "x // 2 = [0 0 1 1]\n",
      "x % 2  = [0 1 0 1]\n",
      "x ** 2 =  [0 1 4 9]\n"
     ]
    }
   ],
   "source": [
    "x = np.arange(4)\n",
    "print(\"x     =\", x)\n",
    "print(\"x + 5 =\", x + 5)\n",
    "print(\"x - 5 =\", x - 5)\n",
    "print(\"x * 2 =\", x * 2)\n",
    "print(\"x / 2 =\", x / 2)\n",
    "print(\"x // 2 =\", x // 2)  # floor division\n",
    "print(\"x % 2  =\", x % 2)\n",
    "print(\"x ** 2 = \", x ** 2)"
   ]
  },
  {
   "cell_type": "markdown",
   "metadata": {
    "hidden": true
   },
   "source": [
    "**注意：** 上面的**运算符**都有对应的**通用函数**，本质上它们是相应**通用函数**的简写形式。\n",
    "下面是这些**运算符**与**通用函数**的对应关系：\n",
    "\n",
    "| 运算符\t      | 等价的通用函数         | 描述                         |\n",
    "|---------------|---------------------|---------------------------------------|\n",
    "|``+``          |``np.add``           |加法 (e.g., ``1 + 1 = 2``)         |\n",
    "|``-``          |``np.subtract``      |减法 (e.g., ``3 - 2 = 1``)      |\n",
    "|``-``          |``np.negative``      |取负 (e.g., ``-2``)          |\n",
    "|``*``          |``np.multiply``      |乘法 (e.g., ``2 * 3 = 6``)   |\n",
    "|``/``          |``np.divide``        |除法 (e.g., ``3 / 2 = 1.5``)       |\n",
    "|``//``         |``np.floor_divide``  |求商 (e.g., ``3 // 2 = 1``)  |\n",
    "|``**``         |``np.power``         |幂次 (e.g., ``2 ** 3 = 8``)  |\n",
    "|``%``          |``np.mod``           |求余 (e.g., ``9 % 4 = 1``)|"
   ]
  },
  {
   "cell_type": "markdown",
   "metadata": {
    "heading_collapsed": true,
    "hidden": true
   },
   "source": [
    "#### 调用函数的运算"
   ]
  },
  {
   "cell_type": "markdown",
   "metadata": {
    "hidden": true
   },
   "source": [
    "\n",
    "NumPy 一元函数 对ndarray中的数据执行元素级运算的函数：\n",
    "\n",
    "\n",
    "| 函数| 说明(运算后不改变原数组，生成一个新数组)|\n",
    "| :----------------:|:----------------:|\n",
    "| np.abs(x) <br>np.fabs(x)<br>np.absolute(x) | 计算数组各元素的绝对值，如果是复数元素则返回模|\n",
    "| np.sqrt(x)| 计算数组各元素的平方根|\n",
    "| np.square(x)| 计算数组各元素的平方|\n",
    "| np.log(x) <br>np.log10(x) <br>np.log2(x)| 计算数组各元素的自然对数、10底对数和2底对数|\n",
    "| np.ceil(x) <br>np.floor(x)| 计算数组各元素的 ceiling 值(不超过参数的整数值)或 floor 值(不超过参数的最大整数值) |\n",
    "| np.rint(x)| 计算数组各元素的四舍五入值|\n",
    "| np.modf(x)| 将数组各元素的小数部分和整数部分以两个独立数组形式返回       |\n",
    "| np.cos(x) np.cosh(x) <br>np.sin(x) np.sinh(x)<br>np.tan(x) np.tanh(x) | 计算数组各元素的普通型和双曲线三角函数值|\n",
    "| np.arcsin(x)<br>np.arccos(x)<br>np.arctan(x)|计算数组各元素的反三角函数值|\n",
    "| np.exp(x)<br>np.exp2(x)| 计算以数组各元素为指数的自然对数、2的幂值|\n",
    "| np.power(n, x)| 计算以数组各元素为指数的n的幂值(n为常数)|\n",
    "| np.sign(x)| 计算数组各元素的符号值，包括1(+), 0, -1(-)|\n",
    "| np.sort(x)| 对数组x进行排序，默认升序，默认每行排序|\n",
    "| np.clip(x,min,max)| 将数组x中小于min的数替换为min，大于max的数替换为max|\n",
    "| np.split(x,n,axis=0)| 将数组x进行分割，n为均分份数，axis指定分割方向，默认为垂直方向（要赋值给n个变量，否则报错；如果x不支持均分n份，也会报错）|\n",
    "| np.array_split(x,n,axis=0)| 可以在x不支持n等均分的情况下对x进行分割，非均等|\n",
    "| np.vsplit(x,n)    np.hsplit(x,n)| 均等分割，利用h与v来区分方向，v为垂直分割，分割线为水平；h为水平分割，分割线为垂直。|\n",
    "| np.min(a,axis=None)<br>np.max(a,axis=None)| 计算数组 a 中元素的最小值、最大值 |\n",
    "| np.argmin(a)  np.argmax(a) | 计算数组 a 中元素最小值、最大值的降一维后下标（即得到扁平化后的下标，如果要使用需要重塑成多维下标） |\n",
    "| np.unravel_index(index, shape) | 根据 shape 将一维下标 index 转换成多维下标|\n",
    "| np.ptp(a,axis=None)| 计算数组 a 中元素最大值与最小值的差，即极差|\n",
    "| np.median(a,axis=None)| 计算数组 a 中元素的中位数（中值）|\n",
    "| np.sum(a, axis=None)| 根据给定轴 axis 计算数组 a 相关元素之和，axis 整数或元组   |\n",
    "| np.mean(a, axis=None)| 根据给定轴 axis 计算数组 a 相关元素的期望，axis 整数或元组 |\n",
    "| np.average(a, axis=None, weights=None) | 根据给定轴 axis 计算数组 a 相关元素的加权平均值            |\n",
    "| np.std(a, axis=None)| 根据给定轴 axis 计算数组 a 相关元素的标准差|\n",
    "| np.var(a, axis=None)| 根据给定轴 axis 计算数组 a 相关元素的方差|\n",
    "| np.gradient(f) | 计算数组 f 中元素的梯度，当 f 为多维时，返回每个维度梯度 |\n",
    "||* 梯度：连续值之间的变化率，即斜率<br>* XY坐标轴连续三个X坐标对应的Y轴值：a, b, c ，其中，b的梯度是：(c-a)/2|"
   ]
  },
  {
   "cell_type": "markdown",
   "metadata": {
    "hidden": true
   },
   "source": [
    "NumPy的random子库\n",
    "\n",
    "| 函数 | 说明 |\n",
    "|:----:|:----:|\n",
    "| np.random.rand(d0,d1,...,dn)| 根据d0-dn（维度信息）创建随机数数组，浮点数，[0,1)，均匀分布 |\n",
    "| np.random.randn(d0,d1,...,dn)| 根据d0-dn创建随机数数组，标准正态分布|\n",
    "| np.random.rangint(low[,high,shape]) | 根据shape创建随机整数或整数数组，范围是[low,high)|\n",
    "| np.random.seed(s)| 随机数种子，s是给定的种子值|\n",
    "| np.random.random(shape)| 根据shape生成随机数数组，所以元素的取值范围都为0到1|\n",
    "| np.random.shuffle(a) | 根据数组a的第一轴进行随排列，改变数组x |\n",
    "| np.random.permutation(a)| 根据数组a的第一轴产生一个新的乱序数组，不改变数组x|\n",
    "| np.random.choice(a [, size, replace, p]) | 从一维数组a中以概率p抽取元素，形成size形状新数组，replace表示是否可以重用元素，默认为False |\n",
    "| np.random.uniform(low, high, size) | 产生具有均匀分布的数组，low起始值，high结束值，size形状 |\n",
    "| np.random.normal(loc, scale, size) | 产生具有正态分布的数组，loc均值，scale标准差，size形状  |\n",
    "| np.random.poisson(lam,size) | 产生具有泊松分布的数组，lam随机事件发生率，size形状|"
   ]
  },
  {
   "cell_type": "code",
   "execution_count": 9,
   "metadata": {
    "hidden": true
   },
   "outputs": [
    {
     "data": {
      "text/plain": [
       "array([5., 6., 7., 8., 9.])"
      ]
     },
     "execution_count": 9,
     "metadata": {},
     "output_type": "execute_result"
    }
   ],
   "source": [
    "import numpy as np\n",
    "x = np.arange(15).reshape(3,5)\n",
    "y = np.median(x,axis=0)\n",
    "y"
   ]
  },
  {
   "cell_type": "code",
   "execution_count": 15,
   "metadata": {
    "hidden": true
   },
   "outputs": [
    {
     "name": "stdout",
     "output_type": "stream",
     "text": [
      "一维数组：\n",
      " [ 7 19  7 10  5]\n",
      "一维数组的梯度：\n",
      " [12.   0.  -4.5 -1.  -5. ]\n",
      "二维数组：\n",
      " [[25 39 22  4 11]\n",
      " [36  8  7 45  9]\n",
      " [ 5 22 32 19 17]]\n",
      "二维数组的梯度：\n",
      " [array([[ 11. , -31. , -15. ,  41. ,  -2. ],\n",
      "       [-10. ,  -8.5,   5. ,   7.5,   3. ],\n",
      "       [-31. ,  14. ,  25. , -26. ,   8. ]]), array([[ 14. ,  -1.5, -17.5,  -5.5,   7. ],\n",
      "       [-28. , -14.5,  18.5,   1. , -36. ],\n",
      "       [ 17. ,  13.5,  -1.5,  -7.5,  -2. ]])]\n"
     ]
    }
   ],
   "source": [
    "x = np.random.randint(0, 20, (5))\n",
    "print('一维数组：\\n',x)\n",
    "print('一维数组的梯度：\\n',np.gradient(x))\n",
    "y = np.random.randint(0, 50, (3, 5))\n",
    "print('二维数组：\\n',y)\n",
    "print('二维数组的梯度：\\n',np.gradient(y))   # 多维数组返回多个维度的梯度值数组"
   ]
  },
  {
   "cell_type": "code",
   "execution_count": 148,
   "metadata": {
    "hidden": true
   },
   "outputs": [
    {
     "name": "stdout",
     "output_type": "stream",
     "text": [
      "x     = [1, 2, 3]\n",
      "e^1   = 2.718281828459045\n",
      "e^x   = [ 2.71828183  7.3890561  20.08553692]\n",
      "2^x   = [2. 4. 8.]\n",
      "3^x   = [ 3  9 27]\n",
      "x        = [1, 2, 4, 10]\n",
      "ln(x)    = [0.         0.69314718 1.38629436 2.30258509]\n",
      "log2(x)  = [0.         1.         2.         3.32192809]\n",
      "log10(x) = [0.         0.30103    0.60205999 1.        ]\n"
     ]
    }
   ],
   "source": [
    "x = [1, 2, 3]\n",
    "print(\"x     =\", x)\n",
    "print(\"e^1   =\", np.exp(1))\n",
    "print(\"e^x   =\", np.exp(x))\n",
    "print(\"2^x   =\", np.exp2(x))\n",
    "print(\"3^x   =\", np.power(3, x))\n",
    "x = [1, 2, 4, 10]\n",
    "print(\"x        =\", x)\n",
    "print(\"ln(x)    =\", np.log(x))\n",
    "print(\"log2(x)  =\", np.log2(x))\n",
    "print(\"log10(x) =\", np.log10(x))"
   ]
  },
  {
   "cell_type": "code",
   "execution_count": 26,
   "metadata": {
    "hidden": true
   },
   "outputs": [
    {
     "name": "stdout",
     "output_type": "stream",
     "text": [
      "[[109 115 164 128]\n",
      " [189 193 129 108]\n",
      " [173 100 140 136]]\n",
      "[[109 115 164 128]\n",
      " [189 193 129 108]\n",
      " [173 100 140 136]]\n"
     ]
    }
   ],
   "source": [
    "np.random.seed(10)\n",
    "print(np.random.randint(100, 200, (3, 4)))\n",
    "np.random.seed(10)        # 种子相同，之后创建的随机数数组与之前该种子时创建的一致\n",
    "print(np.random.randint(100, 200, (3, 4)))"
   ]
  },
  {
   "cell_type": "markdown",
   "metadata": {
    "hidden": true
   },
   "source": [
    "**numpy.array(p_object, dtype=None, ndmin=0)**\n",
    "\n",
    "1. p_object :array_like，数组，对象，其方法返回一个数组或任何(嵌套的)序列。\n",
    "1. dtype：data-type，数据类型，可选，数组所需的数据类型，默认最小类型序列。\n",
    "1. ndmin：int，最小维数，可选，默认0。"
   ]
  },
  {
   "cell_type": "markdown",
   "metadata": {
    "hidden": true
   },
   "source": [
    "**numpy.arange([start, ]stop, [step, ]dtype=None)**\n",
    "\n",
    "1. start：number，可选，开始，默认的起始值是0。\n",
    "1. stop：number，可选，结束。\n",
    "1. step：number，可选，间隔。\n",
    "1. dtype: dtype，可选，输出数组的类型，默认推断类型。"
   ]
  },
  {
   "cell_type": "markdown",
   "metadata": {
    "heading_collapsed": true,
    "hidden": true
   },
   "source": [
    "##### np.random.choice() 随机分布一个数组"
   ]
  },
  {
   "cell_type": "code",
   "execution_count": 151,
   "metadata": {
    "hidden": true
   },
   "outputs": [
    {
     "data": {
      "text/plain": [
       "array([2, 1])"
      ]
     },
     "execution_count": 151,
     "metadata": {},
     "output_type": "execute_result"
    }
   ],
   "source": [
    "import numpy as np\n",
    "# 参数\n",
    "# 是从a中以概率p，随机选择size个, p没有指定的时候相当于是一致的分布\n",
    "# replace 如果是False的话，3个值不一样\n",
    "np.random.choice(a=5, size=3, replace=False, p=None)\n",
    "# [4 1 2]\n",
    "np.random.choice(a=5, size=2, replace=False, p=[0.2, 0.1, 0.3, 0.4, 0.0])\n",
    "# [3 2] 4的概率为0"
   ]
  },
  {
   "cell_type": "markdown",
   "metadata": {
    "heading_collapsed": true,
    "hidden": true
   },
   "source": [
    "##### np.argmax() 返回沿轴axis最大值的索引"
   ]
  },
  {
   "cell_type": "code",
   "execution_count": 154,
   "metadata": {
    "hidden": true
   },
   "outputs": [
    {
     "data": {
      "text/plain": [
       "array([2, 2], dtype=int32)"
      ]
     },
     "execution_count": 154,
     "metadata": {},
     "output_type": "execute_result"
    }
   ],
   "source": [
    "a = [[0, 1, 2], [3, 4, 5]]\n",
    "np.argmax(a)\n",
    "# 5\n",
    "np.argmax(a, axis=0) # 0代表列\n",
    "# array([1, 1, 1])\n",
    "np.argmax(a, axis=1)# 1代表行\n",
    "# array([2, 2])"
   ]
  },
  {
   "cell_type": "markdown",
   "metadata": {
    "heading_collapsed": true,
    "hidden": true
   },
   "source": [
    "##### np.bincount() 返回数组中的值中索引出现的次数"
   ]
  },
  {
   "cell_type": "code",
   "execution_count": 155,
   "metadata": {
    "hidden": true
   },
   "outputs": [
    {
     "data": {
      "text/plain": [
       "array([1, 3, 1, 1, 0, 0, 0, 2], dtype=int32)"
      ]
     },
     "execution_count": 155,
     "metadata": {},
     "output_type": "execute_result"
    }
   ],
   "source": [
    "# x中最大的数为7，那么它的索引值为0-7\n",
    "x = np.array([0, 1, 1, 3, 2, 1, 7, 7])\n",
    "# 索引0出现了1次，索引1出现了3次,索引2出现了1次,索引3出现了1次,索引4出现了0次,索引7出现了2次\n",
    "np.bincount(x)\n",
    "#因此，输出结果为：array([1, 3, 1, 1, 0, 0, 0, 2])"
   ]
  },
  {
   "cell_type": "markdown",
   "metadata": {
    "heading_collapsed": true,
    "hidden": true
   },
   "source": [
    "##### np.gradient() 返回N维数组的梯度"
   ]
  },
  {
   "cell_type": "code",
   "execution_count": 157,
   "metadata": {
    "hidden": true
   },
   "outputs": [
    {
     "data": {
      "text/plain": [
       "array([0.5 , 0.75, 1.25, 1.75, 2.25, 2.5 ])"
      ]
     },
     "execution_count": 157,
     "metadata": {},
     "output_type": "execute_result"
    }
   ],
   "source": [
    "f = np.array([1, 2, 4, 7, 11, 16], dtype=float)\n",
    "np.gradient(f)\n",
    "# array([ 1. ,  1.5,  2.5,  3.5,  4.5,  5. ])\n",
    "np.gradient(f, 2)\n",
    "# array([ 0.5 ,  0.75,  1.25,  1.75,  2.25,  2.5 ])"
   ]
  },
  {
   "cell_type": "markdown",
   "metadata": {
    "heading_collapsed": true,
    "hidden": true
   },
   "source": [
    "##### np.isnan() 测试NaN的元素，并将结果作为布尔数组返回"
   ]
  },
  {
   "cell_type": "code",
   "execution_count": 158,
   "metadata": {
    "hidden": true
   },
   "outputs": [
    {
     "name": "stderr",
     "output_type": "stream",
     "text": [
      "<ipython-input-158-063d71b1843e>:5: RuntimeWarning: invalid value encountered in log\n",
      "  np.isnan([np.log(-1.),1.,np.log(0)])\n",
      "<ipython-input-158-063d71b1843e>:5: RuntimeWarning: divide by zero encountered in log\n",
      "  np.isnan([np.log(-1.),1.,np.log(0)])\n"
     ]
    },
    {
     "data": {
      "text/plain": [
       "array([ True, False, False])"
      ]
     },
     "execution_count": 158,
     "metadata": {},
     "output_type": "execute_result"
    }
   ],
   "source": [
    "np.isnan(np.nan)\n",
    "# True\n",
    "np.isnan(np.inf)\n",
    "# False\n",
    "np.isnan([np.log(-1.),1.,np.log(0)])\n",
    "# array([ True, False, False], dtype=bool)"
   ]
  },
  {
   "cell_type": "markdown",
   "metadata": {
    "heading_collapsed": true,
    "hidden": true
   },
   "source": [
    "##### np.random.randn() 返回一个或一组样本，具有标准正态分布"
   ]
  },
  {
   "cell_type": "code",
   "execution_count": 159,
   "metadata": {
    "hidden": true
   },
   "outputs": [
    {
     "data": {
      "text/plain": [
       "array([[-1.41827148, -0.44785264,  0.53220197, -0.45072336],\n",
       "       [ 1.30883031,  0.06956885, -0.00417898,  0.46886575]])"
      ]
     },
     "execution_count": 159,
     "metadata": {},
     "output_type": "execute_result"
    }
   ],
   "source": [
    "np.random.randn(2,4)\n",
    "# array([[ 0.27795239, -2.57882503,  0.3817649 ,  1.42367345],\n",
    "#        [-1.16724625, -0.22408299,  0.63006614, -0.41714538]])"
   ]
  },
  {
   "cell_type": "markdown",
   "metadata": {
    "hidden": true
   },
   "source": [
    "一些numpy二元函数：\n",
    "\n",
    "\n",
    "| 函数| 说明|\n",
    "|:------:|:-----:|\n",
    "| +  -  *  /  ** | 两个数组各元素进行对应运算 |\n",
    "| np.maximum(x,y)  np.fmax() <br>np.minimum(x,y)  np.fmin() | 元素级的最大/小值|\n",
    "| np.mod(x,y)| 元素级的模运算|\n",
    "| np.copysign(x,y)| 将数组y中各元素值的符号赋值给数组x对应元素|\n",
    "| >  <  >=  <=  ==  != | 算术比较，产生布尔型数组 |\n",
    "| np.dot(a,b,out=None)| 两个数组的点积（一维数组相当于内积，二维数组相当于矩乘积）|\n",
    "| np.vstack((x,y,...))  np.hstack((x,y,...))| 数组合并，前者为垂直合并，后者为水平合并。还可以直接添加多个数组进行合并 |\n",
    "| np.concatenate((x,y,...),axis=0)| 数组合并，默认为垂直纵向合并|"
   ]
  },
  {
   "cell_type": "markdown",
   "metadata": {
    "heading_collapsed": true,
    "hidden": true
   },
   "source": [
    "##### numpy.dot(a, b)"
   ]
  },
  {
   "cell_type": "markdown",
   "metadata": {
    "hidden": true
   },
   "source": [
    "1. a，数组1\n",
    "1. b，数组2"
   ]
  },
  {
   "cell_type": "code",
   "execution_count": null,
   "metadata": {
    "hidden": true
   },
   "outputs": [],
   "source": [
    "import numpy as np\n",
    "a = [[1, 0], [0, 1]]\n",
    "b = [[4, 1], [2, 2]]\n",
    "print(np.dot(a, b))\n",
    "# [[4 1]\n",
    "#  [2 2]]\n",
    "\n",
    "# 4 = 1 * 4 + 0 * 2\n",
    "# 1 = 1 * 1 + 0 * 2\n",
    "# 2 = 0 * 4 + 1 * 2\n",
    "# 2 = 0 * 1 + 1 * 2"
   ]
  },
  {
   "cell_type": "markdown",
   "metadata": {
    "heading_collapsed": true,
    "hidden": true
   },
   "source": [
    "##### np.newaxis  数组增加维度"
   ]
  },
  {
   "cell_type": "markdown",
   "metadata": {
    "hidden": true
   },
   "source": [
    "np.newaxis的作用就是在这一位置增加一个一维，这一位置指的是np.newaxis所在的位置，比较抽象，需要配合例子理解。"
   ]
  },
  {
   "cell_type": "code",
   "execution_count": 27,
   "metadata": {
    "hidden": true
   },
   "outputs": [
    {
     "name": "stdout",
     "output_type": "stream",
     "text": [
      "[1 2 3 4 5]\n",
      "[[1]\n",
      " [2]\n",
      " [3]\n",
      " [4]\n",
      " [5]]\n",
      "[[1 2 3 4 5]]\n"
     ]
    }
   ],
   "source": [
    "x1 = np.array([1, 2, 3, 4, 5])    \n",
    "print(x1)                         # the shape of x1 is (5,)\n",
    "x1_new = x1[:, np.newaxis]      \n",
    "print(x1_new)                     # now, the shape of x1_new is (5, 1)\n",
    "x1_new = x1[np.newaxis,:]        \n",
    "print(x1_new)                     # now, the shape of x1_new is (1, 5)"
   ]
  },
  {
   "cell_type": "code",
   "execution_count": 30,
   "metadata": {
    "collapsed": true,
    "hidden": true
   },
   "outputs": [
    {
     "name": "stdout",
     "output_type": "stream",
     "text": [
      "[[ 0  1  2  3  4]\n",
      " [ 5  6  7  8  9]\n",
      " [10 11 12 13 14]\n",
      " [15 16 17 18 19]\n",
      " [20 21 22 23 24]]\n",
      "(5, 5)\n",
      "[[[[[ 0]]\n",
      "\n",
      "   [[ 1]]\n",
      "\n",
      "   [[ 2]]\n",
      "\n",
      "   [[ 3]]\n",
      "\n",
      "   [[ 4]]]\n",
      "\n",
      "\n",
      "  [[[ 5]]\n",
      "\n",
      "   [[ 6]]\n",
      "\n",
      "   [[ 7]]\n",
      "\n",
      "   [[ 8]]\n",
      "\n",
      "   [[ 9]]]\n",
      "\n",
      "\n",
      "  [[[10]]\n",
      "\n",
      "   [[11]]\n",
      "\n",
      "   [[12]]\n",
      "\n",
      "   [[13]]\n",
      "\n",
      "   [[14]]]\n",
      "\n",
      "\n",
      "  [[[15]]\n",
      "\n",
      "   [[16]]\n",
      "\n",
      "   [[17]]\n",
      "\n",
      "   [[18]]\n",
      "\n",
      "   [[19]]]\n",
      "\n",
      "\n",
      "  [[[20]]\n",
      "\n",
      "   [[21]]\n",
      "\n",
      "   [[22]]\n",
      "\n",
      "   [[23]]\n",
      "\n",
      "   [[24]]]]]\n",
      "(1, 5, 5, 1, 1)\n"
     ]
    }
   ],
   "source": [
    "arr = np.arange(5*5).reshape(5,5)\n",
    "print(arr)\n",
    "print(arr.shape)\n",
    "arr_5D = arr[np.newaxis, ..., np.newaxis, np.newaxis]   # promoting 2D array to a 5D array\n",
    "print(arr_5D)\n",
    "print(arr_5D.shape)"
   ]
  },
  {
   "cell_type": "markdown",
   "metadata": {
    "heading_collapsed": true,
    "hidden": true
   },
   "source": [
    "##### 数组拼接"
   ]
  },
  {
   "cell_type": "code",
   "execution_count": 43,
   "metadata": {
    "hidden": true
   },
   "outputs": [
    {
     "name": "stdout",
     "output_type": "stream",
     "text": [
      "[[ 0  1  2  3  4  5]\n",
      " [ 6  7  8  9 10 11]]\n",
      "[[12 13 14 15 16 17]\n",
      " [18 19 20 21 22 23]]\n",
      "[[ 0  1  2  3  4  5]\n",
      " [ 6  7  8  9 10 11]\n",
      " [12 13 14 15 16 17]\n",
      " [18 19 20 21 22 23]]\n",
      "[[ 0  1  2  3  4  5 12 13 14 15 16 17]\n",
      " [ 6  7  8  9 10 11 18 19 20 21 22 23]]\n"
     ]
    }
   ],
   "source": [
    "t_0 = np.arange(12).reshape((2,6))\n",
    "print(t_0)\n",
    "t_1 = np.arange(12,24).reshape((2,6))\n",
    "print(t_1)\n",
    "print(np.vstack((t_0,t_1)))\n",
    "# 竖直拼接\n",
    "# 还有一种方法可以做到竖直分割与水平分割，这二者是和拼接互逆的，即竖直分割是水平一刀的分割\n",
    "print(np.hstack((t_0,t_1)))\n",
    "# 水平拼接"
   ]
  },
  {
   "cell_type": "markdown",
   "metadata": {
    "heading_collapsed": true,
    "hidden": true
   },
   "source": [
    "#### np.where"
   ]
  },
  {
   "cell_type": "code",
   "execution_count": 50,
   "metadata": {
    "hidden": true
   },
   "outputs": [],
   "source": [
    "f = np.arange(24).reshape(4,6)"
   ]
  },
  {
   "cell_type": "code",
   "execution_count": 51,
   "metadata": {
    "hidden": true
   },
   "outputs": [
    {
     "data": {
      "text/plain": [
       "array([[ 0., nan, nan,  3., nan, nan],\n",
       "       [ 6., nan, nan,  9., nan, nan],\n",
       "       [12., nan, nan, 15., nan, nan],\n",
       "       [18., nan, nan, 21., nan, nan]])"
      ]
     },
     "execution_count": 51,
     "metadata": {},
     "output_type": "execute_result"
    }
   ],
   "source": [
    "np.where(f%3==0,f,np.nan)           # 一种特殊的方式，三个参数，\n",
    "                                    #                 f%3==0（第一个参数）   是判断条件\n",
    "                                    #                 如果判断正确，值为f（第二个参数）中相应的值，如果错误，就为np.nan（第三个参数）相应的值\n",
    "        "
   ]
  },
  {
   "cell_type": "markdown",
   "metadata": {
    "heading_collapsed": true,
    "hidden": true
   },
   "source": [
    "###  数组的深拷贝与浅拷贝"
   ]
  },
  {
   "cell_type": "markdown",
   "metadata": {
    "hidden": true
   },
   "source": [
    "* copy()\n",
    "* a = b   完全不复制，a与b相互影响\n",
    "* a = b[:] 视图的操作，切片，会创建新的对象a，但是a的数据完全由b保管，他们两个的数据变化是一致的\n",
    "* a = b.copy(), 复制，a与b互不影响"
   ]
  },
  {
   "cell_type": "markdown",
   "metadata": {
    "hidden": true
   },
   "source": [
    "切片一般都是浅拷贝，与原数组共用一片内存，改变其索引值也会直接改变原数组。\n",
    "而numpy的函数一般都是生成一个新的数组，所以对原数组无影响。"
   ]
  },
  {
   "cell_type": "markdown",
   "metadata": {
    "hidden": true
   },
   "source": [
    "花式索引永远给出一个副本，切片永远给出一个视图。"
   ]
  },
  {
   "cell_type": "code",
   "execution_count": 31,
   "metadata": {
    "hidden": true
   },
   "outputs": [
    {
     "name": "stdout",
     "output_type": "stream",
     "text": [
      "[0 1 2 3 4]\n",
      "[0 1 2 3 4]\n",
      "[5 1 2 3 4]\n",
      "[5 1 2 3 4]\n",
      "[0 1 2 3 4]\n",
      "[0 1 2 3 4]\n",
      "[2 1 2 3 4]\n",
      "[0 1 2 3 4]\n"
     ]
    }
   ],
   "source": [
    "a = np.arange(5)\n",
    "print(a)\n",
    "\n",
    "# 浅拷贝\n",
    "b = a            # b 与 a 共用内存，\n",
    "print(b)\n",
    "a[0] = 5\n",
    "print(a)\n",
    "print(b)\n",
    "\n",
    "# 深拷贝\n",
    "a = np.arange(5)\n",
    "print(a)\n",
    "c = a.copy()    # c 为重新开辟的内存\n",
    "print(c)\n",
    "a[0] = 2\n",
    "print(a)\n",
    "print(c)"
   ]
  },
  {
   "cell_type": "markdown",
   "metadata": {
    "heading_collapsed": true
   },
   "source": [
    "## 使用文件存取数据"
   ]
  },
  {
   "cell_type": "markdown",
   "metadata": {
    "hidden": true
   },
   "source": [
    "**CSV**：Comma-Separated Value，逗号分隔值文件<br>\n",
    "显示：表格状态<br>\n",
    "源文件：换行和逗号分隔行列的格式化文本，每一行数据表示一条记录<br>\n",
    "<br>\n",
    "CSV文件便于展示，读取和写入，所以很多地方也是用CSV格式的文件存储和传输中小型的数据，当然操作数据库中的数据也是容易实现的"
   ]
  },
  {
   "cell_type": "markdown",
   "metadata": {
    "heading_collapsed": true,
    "hidden": true
   },
   "source": [
    "### 生成csv文件："
   ]
  },
  {
   "cell_type": "markdown",
   "metadata": {
    "hidden": true
   },
   "source": [
    "* np.savetxt(frame, array, fmt=‘%.18e’, delimiter=None)\n",
    "  * frame：文件、字符串或产生器，可以是 .gz 或 .bz2 的压缩文件\n",
    "  * array：存入文件的数组\n",
    "  * fmt：写入文件的数据的格式，例如：%d  %.2f  %.18e，（就是将数据类型保存为一个字符串）\n",
    "  * delimiter：分割字符串，默认是任何空格"
   ]
  },
  {
   "cell_type": "code",
   "execution_count": 34,
   "metadata": {
    "hidden": true
   },
   "outputs": [],
   "source": [
    "import numpy as np\n",
    "a = np.arange(100).reshape(5,20)\n",
    "np.savetxt('a.csv', a, fmt='%d', delimiter=',')\n",
    "np.savetxt('b.csv', a, fmt='%.1f', delimiter=',')"
   ]
  },
  {
   "cell_type": "markdown",
   "metadata": {
    "heading_collapsed": true,
    "hidden": true
   },
   "source": [
    "### 读取CSV文件："
   ]
  },
  {
   "cell_type": "markdown",
   "metadata": {
    "hidden": true
   },
   "source": [
    "* np.loadtxt(frame,dtype=np.float,delimiter=None,skiprows=0,usecols=None,unpack=False)\n",
    "\n",
    "loadtxt(fname, dtype, comments, delimiter, converters, skiprows, usecols, unpack, ndmin, encoding, max_rows)<br>\n",
    "* frame  文件、字符串或产生器，可以是gz或bz2压缩文件<br>\n",
    "* dtype  数据类型，可选，CSV的字符串以什么类型读入数组中，默认np.float，但对于较大的数据会以科学计数法进行显示<br>\n",
    "* delimiter  分隔字符串，默认是任何空格，一般改为 逗号<br>\n",
    "* skiprows  跳过前x行，一般跳过第一行表头<br>\n",
    "* usecols  读取指定的列，索引，元组类型<br>\n",
    "* unpack  如果True，读入属性将分别写入不同数组变量，Faise读入数据只写入一个数组变量，默认为False。（形同转置）\n",
    "* 由此，文本文件都可以作为本地数据文件作为数据文件"
   ]
  },
  {
   "cell_type": "code",
   "execution_count": 35,
   "metadata": {
    "hidden": true
   },
   "outputs": [
    {
     "name": "stdout",
     "output_type": "stream",
     "text": [
      "[[ 0.  1.  2.  3.  4.  5.  6.  7.  8.  9. 10. 11. 12. 13. 14. 15. 16. 17.\n",
      "  18. 19.]\n",
      " [20. 21. 22. 23. 24. 25. 26. 27. 28. 29. 30. 31. 32. 33. 34. 35. 36. 37.\n",
      "  38. 39.]\n",
      " [40. 41. 42. 43. 44. 45. 46. 47. 48. 49. 50. 51. 52. 53. 54. 55. 56. 57.\n",
      "  58. 59.]\n",
      " [60. 61. 62. 63. 64. 65. 66. 67. 68. 69. 70. 71. 72. 73. 74. 75. 76. 77.\n",
      "  78. 79.]\n",
      " [80. 81. 82. 83. 84. 85. 86. 87. 88. 89. 90. 91. 92. 93. 94. 95. 96. 97.\n",
      "  98. 99.]]\n",
      "[[ 0. 20. 40. 60. 80.]\n",
      " [ 1. 21. 41. 61. 81.]\n",
      " [ 2. 22. 42. 62. 82.]\n",
      " [ 3. 23. 43. 63. 83.]\n",
      " [ 4. 24. 44. 64. 84.]\n",
      " [ 5. 25. 45. 65. 85.]\n",
      " [ 6. 26. 46. 66. 86.]\n",
      " [ 7. 27. 47. 67. 87.]\n",
      " [ 8. 28. 48. 68. 88.]\n",
      " [ 9. 29. 49. 69. 89.]\n",
      " [10. 30. 50. 70. 90.]\n",
      " [11. 31. 51. 71. 91.]\n",
      " [12. 32. 52. 72. 92.]\n",
      " [13. 33. 53. 73. 93.]\n",
      " [14. 34. 54. 74. 94.]\n",
      " [15. 35. 55. 75. 95.]\n",
      " [16. 36. 56. 76. 96.]\n",
      " [17. 37. 57. 77. 97.]\n",
      " [18. 38. 58. 78. 98.]\n",
      " [19. 39. 59. 79. 99.]]\n"
     ]
    }
   ],
   "source": [
    "c = np.loadtxt('a.csv', delimiter=',')\n",
    "print(c)\n",
    "d = np.loadtxt('a.csv', delimiter=',', unpack=True)\n",
    "print(d)"
   ]
  },
  {
   "cell_type": "markdown",
   "metadata": {
    "heading_collapsed": true,
    "hidden": true
   },
   "source": [
    "### CSV的局限性"
   ]
  },
  {
   "cell_type": "markdown",
   "metadata": {
    "hidden": true
   },
   "source": [
    "csv只能有效存储一维和二维数组（np.savetxt() np.loadtxt()只能有效存取一维和二维数组）"
   ]
  },
  {
   "cell_type": "markdown",
   "metadata": {
    "heading_collapsed": true,
    "hidden": true
   },
   "source": [
    "### 多维数据的存取"
   ]
  },
  {
   "cell_type": "markdown",
   "metadata": {
    "hidden": true
   },
   "source": [
    "* a.tofile(frame, sep=‘’, format=‘%s’)\t\t(在存取多维数据的时候维度信息会丢失，需要知道维度信息而后转换)\n",
    "  * frame：文件、字符串\n",
    "  * sep：数据分割字符串，如果是空串，写入文件为二进制\n",
    "  * format：写入数据的格式\n",
    "* np.fromfile(frame, dtype=float, count=-1, sep=‘’)\n",
    "  * frame：文件、字符串\n",
    "  * dtype：读取的数据类型\n",
    "  * count：读入元素的个数，-1表示读入整个文件\n",
    "  * sep：数据分割字符串，如果是空串，写入文件为二进制"
   ]
  },
  {
   "cell_type": "code",
   "execution_count": 36,
   "metadata": {
    "hidden": true
   },
   "outputs": [
    {
     "name": "stdout",
     "output_type": "stream",
     "text": [
      "[ 0  1  2  3  4  5  6  7  8  9 10 11 12 13 14 15 16 17 18 19 20 21 22 23\n",
      " 24 25 26 27 28 29 30 31 32 33 34 35 36 37 38 39 40 41 42 43 44 45 46 47\n",
      " 48 49 50 51 52 53 54 55 56 57 58 59 60 61 62 63 64 65 66 67 68 69 70 71\n",
      " 72 73 74 75 76 77 78 79 80 81 82 83 84 85 86 87 88 89 90 91 92 93 94 95\n",
      " 96 97 98 99]\n",
      "[ 0  1  2  3  4  5  6  7  8  9 10 11 12 13 14 15 16 17 18 19 20 21 22 23\n",
      " 24 25 26 27 28 29 30 31 32 33 34 35 36 37 38 39 40 41 42 43 44 45 46 47\n",
      " 48 49 50 51 52 53 54 55 56 57 58 59 60 61 62 63 64 65 66 67 68 69 70 71\n",
      " 72 73 74 75 76 77 78 79 80 81 82 83 84 85 86 87 88 89 90 91 92 93 94 95\n",
      " 96 97 98 99]\n"
     ]
    },
    {
     "data": {
      "text/plain": [
       "array([[[ 0,  1],\n",
       "        [ 2,  3],\n",
       "        [ 4,  5],\n",
       "        [ 6,  7],\n",
       "        [ 8,  9],\n",
       "        [10, 11],\n",
       "        [12, 13],\n",
       "        [14, 15],\n",
       "        [16, 17],\n",
       "        [18, 19]],\n",
       "\n",
       "       [[20, 21],\n",
       "        [22, 23],\n",
       "        [24, 25],\n",
       "        [26, 27],\n",
       "        [28, 29],\n",
       "        [30, 31],\n",
       "        [32, 33],\n",
       "        [34, 35],\n",
       "        [36, 37],\n",
       "        [38, 39]],\n",
       "\n",
       "       [[40, 41],\n",
       "        [42, 43],\n",
       "        [44, 45],\n",
       "        [46, 47],\n",
       "        [48, 49],\n",
       "        [50, 51],\n",
       "        [52, 53],\n",
       "        [54, 55],\n",
       "        [56, 57],\n",
       "        [58, 59]],\n",
       "\n",
       "       [[60, 61],\n",
       "        [62, 63],\n",
       "        [64, 65],\n",
       "        [66, 67],\n",
       "        [68, 69],\n",
       "        [70, 71],\n",
       "        [72, 73],\n",
       "        [74, 75],\n",
       "        [76, 77],\n",
       "        [78, 79]],\n",
       "\n",
       "       [[80, 81],\n",
       "        [82, 83],\n",
       "        [84, 85],\n",
       "        [86, 87],\n",
       "        [88, 89],\n",
       "        [90, 91],\n",
       "        [92, 93],\n",
       "        [94, 95],\n",
       "        [96, 97],\n",
       "        [98, 99]]])"
      ]
     },
     "execution_count": 36,
     "metadata": {},
     "output_type": "execute_result"
    }
   ],
   "source": [
    "a = np.arange(100).reshape(5, 10, 2)\n",
    "a.tofile(\"b.dat\", sep=',', format='%d')\n",
    "a.tofile(\"c.dat\", format='%d')\n",
    "d = np.fromfile(\"b.dat\", dtype=np.int, sep=\",\")\n",
    "print(d)\n",
    "e = np.fromfile(\"c.dat\", dtype=np.int)\n",
    "print(e)\n",
    "e.reshape(5, 10, 2)"
   ]
  },
  {
   "cell_type": "markdown",
   "metadata": {
    "heading_collapsed": true,
    "hidden": true
   },
   "source": [
    "### 其他的方法：NumPy 的便捷文件存取（指定类型的文件）"
   ]
  },
  {
   "cell_type": "markdown",
   "metadata": {
    "hidden": true
   },
   "source": [
    "* np.save(fname, array) 或 np.savez(fname, array)\n",
    "  * frame：文件名，以 .npy 为扩展名，压缩扩展名为 .npz\n",
    "  * array：数组变量\n",
    "* np.load(fname)\n",
    "  * frame：文件名"
   ]
  },
  {
   "cell_type": "markdown",
   "metadata": {
    "heading_collapsed": true
   },
   "source": [
    "## 小应用"
   ]
  },
  {
   "cell_type": "markdown",
   "metadata": {
    "heading_collapsed": true,
    "hidden": true
   },
   "source": [
    "### 与PIL库连用进行图形的变换"
   ]
  },
  {
   "cell_type": "markdown",
   "metadata": {
    "hidden": true
   },
   "source": [
    "PIL 库  \n",
    "\n",
    "（Python Image Library）\n",
    "\n",
    "`from PIL import Image  # Image是PIL库中代表一个图像的类（对象）`\n",
    "\n",
    "图像是一个由像素组成的二维矩阵，每个元素是一个RGB值。也可以认为是一个三维数组，维度分别是高度、宽度和像素RGB值。所以对其数组进行变换即可得到相应的图形变换的结果。"
   ]
  },
  {
   "cell_type": "code",
   "execution_count": 40,
   "metadata": {
    "hidden": true
   },
   "outputs": [
    {
     "name": "stdout",
     "output_type": "stream",
     "text": [
      "(800, 800, 4) uint8\n"
     ]
    }
   ],
   "source": [
    "from PIL import Image\n",
    "import numpy as np\n",
    "im = np.array(Image.open(\"image_test.png\"))\n",
    "print(im.shape, im.dtype)"
   ]
  },
  {
   "cell_type": "markdown",
   "metadata": {
    "hidden": true
   },
   "source": [
    "![](image_test.png)"
   ]
  },
  {
   "cell_type": "code",
   "execution_count": 42,
   "metadata": {
    "hidden": true
   },
   "outputs": [],
   "source": [
    "a = np.full((800,800,4),255)\n",
    "a = a - im\n",
    "b = Image.fromarray(a.astype('uint8'))\n",
    "b.save(\"image_test_2.png\")"
   ]
  },
  {
   "cell_type": "markdown",
   "metadata": {
    "heading_collapsed": true
   },
   "source": [
    "## 面向数组编程(array-oriented programming)"
   ]
  },
  {
   "cell_type": "markdown",
   "metadata": {
    "hidden": true
   },
   "source": [
    "使用 Numpy 数组, 可以利用**简单的数组表达式**完成多种数据操作的任务, 而无需编写大量的循环. 这种利用简单数组表达式来替代**显式循环**的编程方法, 称为**面向数组编程**."
   ]
  },
  {
   "cell_type": "markdown",
   "metadata": {
    "hidden": true
   },
   "source": [
    "Numpy 避免 Python 循环的编程方式，称为**向量化编程**，或者**面向数组编程**。面向数组编程大部分时候效率都要比用 Python 的 for 循环编程的方式效率要高，这里的效率有两方面的内涵：\n",
    "\n",
    "1. 编写的代码量少，写代码的速度快。\n",
    "1. 代码执行的速度快。\n",
    "\n",
    "所以，只要你在脚本里看到很多 Python 的 for 循环(特别是循环次数很巨大的情形)，你就应该考虑如何用**面向数组编程**的方式替代它。\n",
    "\n",
    "在 Numpy 中， 这种面向数组的运算方式是通过**通用函数(ufunc)** 实现的，所以要想熟练掌握**面向数组的编程**方式，要对常用的**通用函数**比较熟悉。"
   ]
  },
  {
   "cell_type": "markdown",
   "metadata": {
    "heading_collapsed": true
   },
   "source": [
    "## Numpy 设计的一些基本原则"
   ]
  },
  {
   "cell_type": "markdown",
   "metadata": {
    "hidden": true
   },
   "source": [
    "* 尽量避免复制数据\n",
    "* 默认为**行优先(row-major)**存储\n",
    "* 利用**广播(broadcast)**, 避免开辟新的内存\n",
    "* 利用**面向数组编程(array-oriented programming)**方式提高运算效率."
   ]
  },
  {
   "cell_type": "markdown",
   "metadata": {
    "heading_collapsed": true
   },
   "source": [
    "## 便捷查找"
   ]
  },
  {
   "cell_type": "markdown",
   "metadata": {
    "hidden": true
   },
   "source": [
    "    * 切片和索引\n",
    "        * 选择行\n",
    "            - t[2]\n",
    "            - t[3:,:]\n",
    "        * 选择列\n",
    "            - t[:,4:]\n",
    "        * 选择行列\n",
    "            - 连续的多行\n",
    "            - t[2:,:3]\n",
    "        * 不连续的多行\n",
    "            - t[[1,3],[2,4]]\n",
    "            - 选择的是（1,2）（3,4）两个位置的值\n",
    "        * 索引\n",
    "            - t[2,3]\n",
    "    * 赋值\n",
    "        - t[2:,3] = 3\n",
    "    * 布尔索引\n",
    "        - t[t>10] = 10\n",
    "    * 裁剪\n",
    "        - t.clip(10,20)\n",
    "        - 把小于10的替换为10，大于20的替换为20\n",
    "    *  转置\n",
    "        - t.T\n",
    "        - t.transpose()\n",
    "        - t.swapaxes(1,0)\n",
    "    *  三元运算符\n",
    "        - np.where(t>10,20,0)\n",
    "            - 把t中大于10 的替换为20，其他的替换为0\n",
    "    * 常用统计函数\n",
    "        - t.sum(axis=0)\n",
    "        - np.median(t,axis=0)\n",
    "        - t.mean(axis=0)\n",
    "        - t.max()\n",
    "        - t.min()\n",
    "        - np.ptp\n",
    "            - 计算极差\n",
    "        - t.std\n",
    "            - 计算标准差\n",
    "    *  nan和inf\n",
    "        * nan\n",
    "            - 不是一个数字\n",
    "            - np.nan != np.nan\n",
    "            - np.count_nonzero(np.nan != np.nan)\n",
    "            - np.isnan(t)\n",
    "                - 效果与np.nan != np.nan相同\n",
    "        * inf\n",
    "            - 无穷\n",
    "    * 读取本地文件\n",
    "        - np.loadtxt(file_path,delimiter,dtype)"
   ]
  }
 ],
 "metadata": {
  "kernelspec": {
   "display_name": "Python 3",
   "language": "python",
   "name": "python3"
  },
  "language_info": {
   "codemirror_mode": {
    "name": "ipython",
    "version": 3
   },
   "file_extension": ".py",
   "mimetype": "text/x-python",
   "name": "python",
   "nbconvert_exporter": "python",
   "pygments_lexer": "ipython3",
   "version": "3.8.3"
  },
  "toc": {
   "base_numbering": 1,
   "nav_menu": {
    "height": "591px",
    "width": "743px"
   },
   "number_sections": false,
   "sideBar": true,
   "skip_h1_title": false,
   "title_cell": "Table of Contents",
   "title_sidebar": "Contents",
   "toc_cell": false,
   "toc_position": {},
   "toc_section_display": true,
   "toc_window_display": false
  }
 },
 "nbformat": 4,
 "nbformat_minor": 4
}
