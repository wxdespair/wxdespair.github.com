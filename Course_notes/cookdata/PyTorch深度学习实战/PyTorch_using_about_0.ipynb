{
 "cells": [
  {
   "cell_type": "markdown",
   "metadata": {},
   "source": [
    "## Tensor 模块"
   ]
  },
  {
   "cell_type": "markdown",
   "metadata": {},
   "source": [
    "PyTorch中最常用的模块包括：\n",
    "\n",
    "|模块|描述|\n",
    "|:-:|:-:|\n",
    "|torch|类似Numpy，但支持GPU加速|\n",
    "|torch.autograd|自动求导模块|\n",
    "|torch.nn|神经网络模块，定义了大量搭建神经网络所需的layer和loss|\n",
    "|torch.optim|优化算法模块，实现了常用的优化算法，如SGD，Adam，L-BFGS等等|\n",
    "|torch.utils|定义了一些常用的接口，如数据加载（DataLoader）|"
   ]
  },
  {
   "cell_type": "markdown",
   "metadata": {},
   "source": [
    "什么情况下可以使用PyTorch：\n",
    "\n",
    "* 需要大量的矩阵运算，使用GPU来进行加速。复杂的矩阵运算，如求特征值并不适用PyTorch\n",
    "* 构建深度学习模型"
   ]
  },
  {
   "cell_type": "code",
   "execution_count": 1,
   "metadata": {},
   "outputs": [],
   "source": [
    "import torch"
   ]
  },
  {
   "cell_type": "code",
   "execution_count": 2,
   "metadata": {},
   "outputs": [
    {
     "name": "stdout",
     "output_type": "stream",
     "text": [
      "tensor([[1, 2],\n",
      "        [3, 4]]) <built-in method type of Tensor object at 0x000002707EB32780>\n"
     ]
    }
   ],
   "source": [
    "x = [[1, 2], [3, 4]]\n",
    "y = torch.tensor(x)\n",
    "print(y,y.type)"
   ]
  },
  {
   "cell_type": "code",
   "execution_count": 3,
   "metadata": {},
   "outputs": [
    {
     "name": "stdout",
     "output_type": "stream",
     "text": [
      "tensor([[0., 0., 0.],\n",
      "        [0., 0., 0.]])\n",
      "tensor([[1., 1., 1.],\n",
      "        [1., 1., 1.]])\n"
     ]
    }
   ],
   "source": [
    "print(torch.zeros(2,3))\n",
    "print(torch.ones(2,3))"
   ]
  },
  {
   "cell_type": "code",
   "execution_count": 4,
   "metadata": {},
   "outputs": [
    {
     "name": "stdout",
     "output_type": "stream",
     "text": [
      "torch.LongTensor torch.int64\n",
      "tensor([[-1, -1, -1],\n",
      "        [-1, -1, -1]])\n",
      "torch.int32 torch.float32\n"
     ]
    }
   ],
   "source": [
    "x = torch.LongTensor(2, 3)\n",
    "x.fill_(-1)\n",
    "print(x.type(), x.dtype)\n",
    "print(x)\n",
    "y = x.int()\n",
    "z = x.float()\n",
    "print(y.dtype, z.dtype)"
   ]
  },
  {
   "cell_type": "code",
   "execution_count": 5,
   "metadata": {},
   "outputs": [
    {
     "ename": "AssertionError",
     "evalue": "Torch not compiled with CUDA enabled",
     "output_type": "error",
     "traceback": [
      "\u001b[1;31m---------------------------------------------------------------------------\u001b[0m",
      "\u001b[1;31mAssertionError\u001b[0m                            Traceback (most recent call last)",
      "\u001b[1;32m<ipython-input-5-af08bc85be18>\u001b[0m in \u001b[0;36m<module>\u001b[1;34m\u001b[0m\n\u001b[0;32m      1\u001b[0m \u001b[0mx\u001b[0m \u001b[1;33m=\u001b[0m \u001b[0mtorch\u001b[0m\u001b[1;33m.\u001b[0m\u001b[0mrand\u001b[0m\u001b[1;33m(\u001b[0m\u001b[1;36m3\u001b[0m\u001b[1;33m,\u001b[0m \u001b[1;36m4\u001b[0m\u001b[1;33m)\u001b[0m\u001b[1;33m\u001b[0m\u001b[1;33m\u001b[0m\u001b[0m\n\u001b[1;32m----> 2\u001b[1;33m \u001b[0my\u001b[0m \u001b[1;33m=\u001b[0m \u001b[0mx\u001b[0m\u001b[1;33m.\u001b[0m\u001b[0mcuda\u001b[0m\u001b[1;33m(\u001b[0m\u001b[1;33m)\u001b[0m\u001b[1;33m\u001b[0m\u001b[1;33m\u001b[0m\u001b[0m\n\u001b[0m\u001b[0;32m      3\u001b[0m \u001b[0mprint\u001b[0m\u001b[1;33m(\u001b[0m\u001b[0mx\u001b[0m\u001b[1;33m.\u001b[0m\u001b[0mtype\u001b[0m\u001b[1;33m(\u001b[0m\u001b[1;33m)\u001b[0m\u001b[1;33m,\u001b[0m \u001b[0my\u001b[0m\u001b[1;33m.\u001b[0m\u001b[0mtype\u001b[0m\u001b[1;33m(\u001b[0m\u001b[1;33m)\u001b[0m\u001b[1;33m)\u001b[0m\u001b[1;33m\u001b[0m\u001b[1;33m\u001b[0m\u001b[0m\n",
      "\u001b[1;32mD:\\Python\\python\\lib\\site-packages\\torch\\cuda\\__init__.py\u001b[0m in \u001b[0;36m_lazy_init\u001b[1;34m()\u001b[0m\n\u001b[0;32m    184\u001b[0m             raise RuntimeError(\n\u001b[0;32m    185\u001b[0m                 \"Cannot re-initialize CUDA in forked subprocess. \" + msg)\n\u001b[1;32m--> 186\u001b[1;33m         \u001b[0m_check_driver\u001b[0m\u001b[1;33m(\u001b[0m\u001b[1;33m)\u001b[0m\u001b[1;33m\u001b[0m\u001b[1;33m\u001b[0m\u001b[0m\n\u001b[0m\u001b[0;32m    187\u001b[0m         \u001b[1;32mif\u001b[0m \u001b[0m_cudart\u001b[0m \u001b[1;32mis\u001b[0m \u001b[1;32mNone\u001b[0m\u001b[1;33m:\u001b[0m\u001b[1;33m\u001b[0m\u001b[1;33m\u001b[0m\u001b[0m\n\u001b[0;32m    188\u001b[0m             raise AssertionError(\n",
      "\u001b[1;32mD:\\Python\\python\\lib\\site-packages\\torch\\cuda\\__init__.py\u001b[0m in \u001b[0;36m_check_driver\u001b[1;34m()\u001b[0m\n\u001b[0;32m     59\u001b[0m \u001b[1;32mdef\u001b[0m \u001b[0m_check_driver\u001b[0m\u001b[1;33m(\u001b[0m\u001b[1;33m)\u001b[0m\u001b[1;33m:\u001b[0m\u001b[1;33m\u001b[0m\u001b[1;33m\u001b[0m\u001b[0m\n\u001b[0;32m     60\u001b[0m     \u001b[1;32mif\u001b[0m \u001b[1;32mnot\u001b[0m \u001b[0mhasattr\u001b[0m\u001b[1;33m(\u001b[0m\u001b[0mtorch\u001b[0m\u001b[1;33m.\u001b[0m\u001b[0m_C\u001b[0m\u001b[1;33m,\u001b[0m \u001b[1;34m'_cuda_isDriverSufficient'\u001b[0m\u001b[1;33m)\u001b[0m\u001b[1;33m:\u001b[0m\u001b[1;33m\u001b[0m\u001b[1;33m\u001b[0m\u001b[0m\n\u001b[1;32m---> 61\u001b[1;33m         \u001b[1;32mraise\u001b[0m \u001b[0mAssertionError\u001b[0m\u001b[1;33m(\u001b[0m\u001b[1;34m\"Torch not compiled with CUDA enabled\"\u001b[0m\u001b[1;33m)\u001b[0m\u001b[1;33m\u001b[0m\u001b[1;33m\u001b[0m\u001b[0m\n\u001b[0m\u001b[0;32m     62\u001b[0m     \u001b[1;32mif\u001b[0m \u001b[1;32mnot\u001b[0m \u001b[0mtorch\u001b[0m\u001b[1;33m.\u001b[0m\u001b[0m_C\u001b[0m\u001b[1;33m.\u001b[0m\u001b[0m_cuda_isDriverSufficient\u001b[0m\u001b[1;33m(\u001b[0m\u001b[1;33m)\u001b[0m\u001b[1;33m:\u001b[0m\u001b[1;33m\u001b[0m\u001b[1;33m\u001b[0m\u001b[0m\n\u001b[0;32m     63\u001b[0m         \u001b[1;32mif\u001b[0m \u001b[0mtorch\u001b[0m\u001b[1;33m.\u001b[0m\u001b[0m_C\u001b[0m\u001b[1;33m.\u001b[0m\u001b[0m_cuda_getDriverVersion\u001b[0m\u001b[1;33m(\u001b[0m\u001b[1;33m)\u001b[0m \u001b[1;33m==\u001b[0m \u001b[1;36m0\u001b[0m\u001b[1;33m:\u001b[0m\u001b[1;33m\u001b[0m\u001b[1;33m\u001b[0m\u001b[0m\n",
      "\u001b[1;31mAssertionError\u001b[0m: Torch not compiled with CUDA enabled"
     ]
    }
   ],
   "source": [
    "x = torch.rand(3, 4)\n",
    "y = x.cuda()\n",
    "print(x.type(), y.type())"
   ]
  },
  {
   "cell_type": "code",
   "execution_count": 6,
   "metadata": {},
   "outputs": [
    {
     "name": "stdout",
     "output_type": "stream",
     "text": [
      "torch.Size([3, 4])\n",
      "torch.Size([2, 4])\n",
      "torch.Size([2, 2])\n"
     ]
    }
   ],
   "source": [
    "x = torch.rand(2, 3, 4)\n",
    "print(x[1].shape)\n",
    "\n",
    "y = x[1, 0:2, :]\n",
    "print(y.shape)\n",
    "\n",
    "z = x[:, 0, ::2]\n",
    "print(z.shape)"
   ]
  },
  {
   "cell_type": "code",
   "execution_count": 7,
   "metadata": {},
   "outputs": [
    {
     "data": {
      "text/plain": [
       "tensor([[0.5769, 0.3209],\n",
       "        [0.7213, 0.1923]])"
      ]
     },
     "execution_count": 7,
     "metadata": {},
     "output_type": "execute_result"
    }
   ],
   "source": [
    "z"
   ]
  },
  {
   "cell_type": "code",
   "execution_count": 8,
   "metadata": {},
   "outputs": [
    {
     "name": "stdout",
     "output_type": "stream",
     "text": [
      "torch.Size([3, 1, 2]) torch.Size([2, 3])\n"
     ]
    }
   ],
   "source": [
    "x = torch.rand(3, 1, 2)\n",
    "y = x.view(2, 3)\n",
    "print(x.shape, y.shape)"
   ]
  },
  {
   "cell_type": "code",
   "execution_count": 9,
   "metadata": {},
   "outputs": [
    {
     "name": "stdout",
     "output_type": "stream",
     "text": [
      "tensor([[[0.7497, 0.5946]],\n",
      "\n",
      "        [[0.7770, 0.2355]],\n",
      "\n",
      "        [[0.5024, 0.4001]]])\n",
      "tensor([0.7497, 0.5946, 0.7770, 0.2355])\n",
      "tensor([0.7497, 0.5946, 0.7770, 0.2355, 0.5024, 0.4001])\n",
      "tensor([[ 7.4970e-01,  5.9458e-01,  7.7701e-01],\n",
      "        [ 2.3552e-01,  5.0245e-01,  4.0006e-01],\n",
      "        [ 0.0000e+00,  1.6105e+00, -3.6893e+19]])\n"
     ]
    }
   ],
   "source": [
    "x = torch.rand(3, 1, 2)\n",
    "print(x)\n",
    "print(x.resize_(4))\n",
    "print(x.resize_(6))\n",
    "print(x.resize_(3, 3))"
   ]
  },
  {
   "cell_type": "code",
   "execution_count": 10,
   "metadata": {},
   "outputs": [
    {
     "name": "stdout",
     "output_type": "stream",
     "text": [
      "torch.Size([3, 2, 2]) torch.Size([3, 2, 2]) torch.Size([3, 2, 2, 1]) torch.Size([3, 1, 2, 2])\n"
     ]
    }
   ],
   "source": [
    "x = torch.rand(3, 2, 2)\n",
    "y = x.squeeze()\n",
    "z1 = x.unsqueeze(3) # 在第4维度插入内存\n",
    "z2 = x.unsqueeze(1) # 在第2维度插入内存，原本的第2维度变为第3维\n",
    "print(x.shape, y.shape, z1.shape, z2.shape)"
   ]
  },
  {
   "cell_type": "code",
   "execution_count": 11,
   "metadata": {},
   "outputs": [
    {
     "data": {
      "text/plain": [
       "tensor([[0.5769, 0.3209],\n",
       "        [0.7213, 0.1923]])"
      ]
     },
     "execution_count": 11,
     "metadata": {},
     "output_type": "execute_result"
    }
   ],
   "source": [
    "z"
   ]
  },
  {
   "cell_type": "code",
   "execution_count": 12,
   "metadata": {},
   "outputs": [
    {
     "name": "stdout",
     "output_type": "stream",
     "text": [
      "torch.Size([3, 2, 4]) torch.Size([3, 4, 2])\n"
     ]
    }
   ],
   "source": [
    "x = torch.rand(3, 2, 4)\n",
    "y = x.transpose(1, 2)\n",
    "print(x.shape, y.shape)"
   ]
  },
  {
   "cell_type": "markdown",
   "metadata": {},
   "source": [
    "## 自动求导"
   ]
  },
  {
   "cell_type": "code",
   "execution_count": 13,
   "metadata": {},
   "outputs": [
    {
     "name": "stdout",
     "output_type": "stream",
     "text": [
      "tensor([3.], requires_grad=True)\n",
      "f(x)= tensor(6.)\n",
      "f'(3)= tensor(5.)\n"
     ]
    }
   ],
   "source": [
    "import torch\n",
    "from torch.autograd import Variable\n",
    "\n",
    "# 定义变量 x\n",
    "x = Variable(torch.Tensor([3]), requires_grad=True)\n",
    "\n",
    "# 定义函数\n",
    "f = x*x - x\n",
    "\n",
    "# 求导数\n",
    "f.backward()\n",
    "\n",
    "print(x)\n",
    "print('f(x)=', f.data[0])\n",
    "print('f\\'(3)=', x.grad.data[0])"
   ]
  },
  {
   "cell_type": "code",
   "execution_count": 14,
   "metadata": {},
   "outputs": [
    {
     "name": "stdout",
     "output_type": "stream",
     "text": [
      "False\n"
     ]
    }
   ],
   "source": [
    "value = torch.Tensor([1, 2])\n",
    "x = Variable(value, requires_grad=True)\n",
    "print(x.data is value)"
   ]
  },
  {
   "cell_type": "code",
   "execution_count": 15,
   "metadata": {},
   "outputs": [
    {
     "name": "stdout",
     "output_type": "stream",
     "text": [
      "<AddBackward0 object at 0x000002707EB18E80>\n",
      "<PowBackward0 object at 0x0000027073D45400>\n"
     ]
    }
   ],
   "source": [
    "y = x + x\n",
    "z = x**3\n",
    "print(y.grad_fn)\n",
    "print(z.grad_fn)"
   ]
  },
  {
   "cell_type": "code",
   "execution_count": 16,
   "metadata": {
    "scrolled": true
   },
   "outputs": [
    {
     "name": "stdout",
     "output_type": "stream",
     "text": [
      "True False\n",
      "None <AddBackward0 object at 0x000002707EB34820>\n",
      "((<AccumulateGrad object at 0x000002707EB34640>, 0), (<AccumulateGrad object at 0x000002707EB34640>, 0))\n"
     ]
    }
   ],
   "source": [
    "print(x.is_leaf, y.is_leaf)\n",
    "print(x.grad_fn, y.grad_fn)\n",
    "print(y.grad_fn.next_functions)"
   ]
  },
  {
   "cell_type": "code",
   "execution_count": 17,
   "metadata": {},
   "outputs": [
    {
     "name": "stdout",
     "output_type": "stream",
     "text": [
      "tensor([2.])\n",
      "tensor([5.])\n"
     ]
    }
   ],
   "source": [
    "x = Variable(torch.Tensor([1]), requires_grad=True)\n",
    "y = x + x       # 计算图1\n",
    "z = x**3        # 计算图2\n",
    "\n",
    "# 第一次求导\n",
    "y.backward()\n",
    "print(x.grad.data)\t# dy/dx = 2\n",
    "\n",
    "# 第二次求导\n",
    "z.backward()\n",
    "print(x.grad.data)\t# dy/dx + dz/dx = 2+3 = 5"
   ]
  },
  {
   "cell_type": "code",
   "execution_count": 18,
   "metadata": {},
   "outputs": [
    {
     "name": "stdout",
     "output_type": "stream",
     "text": [
      "tensor([2., 4., 6.], grad_fn=<AddBackward0>)\n"
     ]
    }
   ],
   "source": [
    "x = Variable(torch.Tensor([1, 2, 3]), requires_grad=True)\n",
    "y = x*x\n",
    "f = y.sum()\n",
    "df = torch.autograd.grad(f, x, create_graph=True)\n",
    "\t# create_graph = True 会对反向传播构建计算图，用于计算二阶导数\n",
    "print(df[0])"
   ]
  },
  {
   "cell_type": "code",
   "execution_count": 19,
   "metadata": {},
   "outputs": [],
   "source": [
    "from torch.autograd import Function\n",
    "class MulAdd(Function):\n",
    "    @staticmethod\n",
    "    def forward(self,x,w,b):\n",
    "        self.save_for_backward(w,x)\n",
    "        output = w * x + b\n",
    "        return output\n",
    "    \n",
    "    @staticmethod\n",
    "    def backward(self, grad_output):\n",
    "        w,x = self.saved_variables\n",
    "        grad_x = grad_output * w\n",
    "        grad_w = grad_output * x \n",
    "        grad_b = grad_output * 1\n",
    "        return grad_x, grad_w,grad_b"
   ]
  },
  {
   "cell_type": "code",
   "execution_count": 20,
   "metadata": {},
   "outputs": [
    {
     "name": "stdout",
     "output_type": "stream",
     "text": [
      "None tensor(1.) tensor(1.)\n"
     ]
    },
    {
     "name": "stderr",
     "output_type": "stream",
     "text": [
      "<ipython-input-19-64bc6b482c13>:11: DeprecationWarning: 'saved_variables' is deprecated; use 'saved_tensors'\n",
      "  w,x = self.saved_variables\n"
     ]
    }
   ],
   "source": [
    "x = torch.tensor(1.0)\n",
    "w = torch.tensor(2.0,requires_grad = True)\n",
    "b = torch.tensor(3.0,requires_grad = True)\n",
    "z=MulAdd.apply(x, w, b)\n",
    "z.backward()\n",
    "print(x.grad, w.grad, b.grad)"
   ]
  },
  {
   "cell_type": "markdown",
   "metadata": {},
   "source": [
    "## 优化器"
   ]
  },
  {
   "cell_type": "code",
   "execution_count": 21,
   "metadata": {},
   "outputs": [],
   "source": [
    "import torch\n",
    "from torch.autograd import Variable\n",
    "from torch.autograd import Function\n",
    "\n",
    "import torch\n",
    "import torch.nn as nn\n",
    "from torch.autograd import Variable\n",
    "import matplotlib.pyplot as plt\n",
    "def rosenbrock(x):\n",
    "    y = 100*(x[1]-x[0]*x[0])**2 + (x[0]-1)**2\n",
    "    return y\n",
    "# 随机初始化\n",
    "value = torch.rand(2)\n",
    "# 要优化的变量\n",
    "x = Variable(value,requires_grad=True)\n",
    "y = rosenbrock(x)\n",
    "# 定义优化器，这里选择随机梯度法\n",
    "optimizer = torch.optim.SGD(params=[x],lr=0.001) # params=x 会报错\n",
    "nstep = 10\n",
    "for i in range(nstep):\n",
    "    optimizer.zero_grad()\n",
    "    y = rosenbrock(x)\n",
    "    y.backward()\n",
    "    optimizer.step()\n",
    "    print('iter: %d\\t fun_val: %.2e' % (i,y.data))"
   ]
  },
  {
   "cell_type": "code",
   "execution_count": 23,
   "metadata": {},
   "outputs": [
    {
     "name": "stdout",
     "output_type": "stream",
     "text": [
      "converged solution (7.90e-01,6.14e-01)\n"
     ]
    }
   ],
   "source": [
    "x0 = torch.rand(2)\n",
    "x = Variable(x0.clone(), requires_grad=True)\n",
    "sgd = torch.optim.SGD(params=[x], lr=0.003)\n",
    "\n",
    "y_sgd = []\n",
    "for i in range(500):\n",
    "    sgd.zero_grad()\n",
    "    y = rosenbrock(x)\n",
    "    y.backward()\n",
    "    sgd.step()\n",
    "    y_sgd.append(y.data)\n",
    "\n",
    "print('converged solution (%.2e,%.2e)' % (x.data[0],x.data[1]))   "
   ]
  },
  {
   "cell_type": "code",
   "execution_count": 24,
   "metadata": {},
   "outputs": [
    {
     "name": "stdout",
     "output_type": "stream",
     "text": [
      "converged solution (7.90e-01,6.14e-01)\n"
     ]
    }
   ],
   "source": [
    "x = Variable(x0.clone(), requires_grad=True)\n",
    "adam = torch.optim.SGD(params=[x], lr=0.003)\n",
    "\n",
    "y_adam = []\n",
    "for i in range(500):\n",
    "    adam.zero_grad()\n",
    "    y = rosenbrock(x)\n",
    "    y.backward()\n",
    "    adam.step()\n",
    "    y_adam.append(y.data)\n",
    "\n",
    "print('converged solution (%.2e,%.2e)' % (x.data[0],x.data[1]))"
   ]
  },
  {
   "cell_type": "code",
   "execution_count": 25,
   "metadata": {},
   "outputs": [
    {
     "data": {
      "text/plain": [
       "Text(0.5, 0, 'number of iteration')"
      ]
     },
     "execution_count": 25,
     "metadata": {},
     "output_type": "execute_result"
    },
    {
     "data": {
      "image/png": "[encoded data removed]",
      "text/plain": [
       "<Figure size 432x288 with 1 Axes>"
      ]
     },
     "metadata": {
      "needs_background": "light"
     },
     "output_type": "display_data"
    }
   ],
   "source": [
    "plt.semilogy(y_sgd, '.', label='SGD')\n",
    "plt.semilogy(y_adam, '_', label='Adam')\n",
    "plt.legend()\n",
    "plt.ylabel('F(x)')\n",
    "plt.xlabel('number of iteration')"
   ]
  },
  {
   "cell_type": "code",
   "execution_count": 26,
   "metadata": {},
   "outputs": [
    {
     "data": {
      "text/plain": [
       "tensor([[[[ 0.3924]],\n",
       "\n",
       "         [[ 0.1048]],\n",
       "\n",
       "         [[ 0.0376]],\n",
       "\n",
       "         [[-0.2245]],\n",
       "\n",
       "         [[ 0.0465]],\n",
       "\n",
       "         [[-0.8375]]]], grad_fn=<MkldnnConvolutionBackward>)"
      ]
     },
     "execution_count": 26,
     "metadata": {},
     "output_type": "execute_result"
    }
   ],
   "source": [
    "class Net(nn.Module):\n",
    "    def __init__(self):\n",
    "        super(Net, self).__init__()\n",
    "        self.conv1 = nn.Conv2d(3, 6, 3)\n",
    "        self.conv2 = nn.Conv2d(6, 6, 3)\n",
    "        \n",
    "    def forward(self, x):\n",
    "        out = self.conv2(self.conv1(x))\n",
    "        return out\n",
    "    \n",
    "net = Net()\n",
    "\n",
    "x = Variable(torch.randn(1, 3, 5, 5))\n",
    "net(x)"
   ]
  },
  {
   "cell_type": "code",
   "execution_count": 27,
   "metadata": {},
   "outputs": [],
   "source": [
    "# 设置第一层的学习率为 0.1 ，第二层为 0.01\n",
    "optimizer = torch.optim.SGD([\n",
    "    {'params': net.conv1.parameters()}, # predict 的学习率为 0.1\n",
    "    {'params': net.conv2.parameters(), 'lr': 0.01}\n",
    "], lr=0.1) # hidden 层学习率为 0.01"
   ]
  },
  {
   "cell_type": "markdown",
   "metadata": {},
   "source": [
    "## 神经网络模块"
   ]
  },
  {
   "cell_type": "code",
   "execution_count": 28,
   "metadata": {},
   "outputs": [
    {
     "name": "stdout",
     "output_type": "stream",
     "text": [
      "tensor([[ 1.9596, -3.2064]], grad_fn=<AddmmBackward>)\n",
      "weight Parameter containing:\n",
      "tensor([[ 0.2703,  0.4522],\n",
      "        [-0.4450, -0.3892]], requires_grad=True)\n",
      "bias Parameter containing:\n",
      "tensor([-0.6599, -0.3146], requires_grad=True)\n"
     ]
    }
   ],
   "source": [
    "import torch\n",
    "import torch.nn as nn\n",
    "import torch.nn.functional as F\n",
    "from torch.autograd import Variable\n",
    "# 返回一个函数\n",
    "f = nn.Linear(2, 2)\n",
    "\n",
    "# 输入必须是 VAriable \n",
    "x = Variable(torch.Tensor([[3, 4]]))\n",
    "y = f(x)\n",
    "print(y)\n",
    "\n",
    "# 查看参数 w, b\n",
    "for name, parameters in f.named_parameters():\n",
    "    print(name, parameters)"
   ]
  },
  {
   "cell_type": "code",
   "execution_count": 29,
   "metadata": {},
   "outputs": [
    {
     "name": "stdout",
     "output_type": "stream",
     "text": [
      "type of weight: <class 'torch.nn.parameter.Parameter'> \n",
      "\n",
      "tensor([[1., 2.],\n",
      "        [5., 6.]])\n",
      "tensor([1., 1.])\n",
      "tensor([[12., 40.]], grad_fn=<AddmmBackward>)\n"
     ]
    }
   ],
   "source": [
    "print('type of weight:',type(f.weight),'\\n')\n",
    "\n",
    "f.weight.data = torch.Tensor([[1,2],[5,6]])    # W\n",
    "print(f.weight.data)\n",
    "f.bias.data = torch.Tensor([1,1])              # b\n",
    "print(f.bias.data)\n",
    "y = f(x)                                       # y = Wx+b\n",
    "print(y)"
   ]
  },
  {
   "cell_type": "code",
   "execution_count": 30,
   "metadata": {},
   "outputs": [
    {
     "name": "stdout",
     "output_type": "stream",
     "text": [
      "torch.Size([4, 10, 28, 28])\n",
      "torch.Size([4, 5, 28, 28])\n"
     ]
    }
   ],
   "source": [
    "net = nn.Conv2d(10, 5, kernel_size=3, stride=1, padding=1)\n",
    "x = Variable(torch.rand(4, 10, 28, 28))\n",
    "print(x.shape)\n",
    "y = net(x)\n",
    "print(y.data.shape)"
   ]
  },
  {
   "cell_type": "code",
   "execution_count": 31,
   "metadata": {},
   "outputs": [
    {
     "name": "stdout",
     "output_type": "stream",
     "text": [
      "torch.Size([3, 3, 3, 3])\n",
      "torch.Size([3, 3, 4, 4])\n",
      "torch.Size([3, 3, 3, 3])\n"
     ]
    }
   ],
   "source": [
    "avgpool_1 = nn.AvgPool2d(3)\n",
    "avgpool_2 = nn.AvgPool2d(3,stride=2)\n",
    "maxpool = nn.MaxPool2d(3)\n",
    "x = Variable(torch.rand(3, 3, 9, 9))\n",
    "y1 = avgpool_1(x)\n",
    "y2 = avgpool_2(x)\n",
    "y3 = maxpool(x)\n",
    "\n",
    "print(y1.data.shape)\n",
    "print(y2.data.shape)\n",
    "print(y3.data.shape)"
   ]
  },
  {
   "cell_type": "code",
   "execution_count": 32,
   "metadata": {},
   "outputs": [
    {
     "name": "stdout",
     "output_type": "stream",
     "text": [
      "tensor([[-0.9985,  1.0000,  0.9999],\n",
      "        [ 0.9985, -1.0000, -0.9999]], grad_fn=<NativeBatchNormBackward>)\n"
     ]
    }
   ],
   "source": [
    "# 线性回归\n",
    "x = Variable(torch.randn(2, 2))\n",
    "f = nn.Linear(2, 3)\n",
    "y = f(x)\n",
    "\n",
    "# BatchNorm 3 channel\n",
    "bn = nn.BatchNorm1d(3)\n",
    "bn.weight.data = torch.ones(3)  # 初始化标准差为 1\n",
    "bn.bias.data = torch.zeros(3)   # 均值为 0\n",
    "b_output = bn(y)\n",
    "print(b_output)"
   ]
  },
  {
   "cell_type": "code",
   "execution_count": 33,
   "metadata": {},
   "outputs": [
    {
     "name": "stdout",
     "output_type": "stream",
     "text": [
      "tensor([[-1.9971,  1.9999,  0.0000],\n",
      "        [ 0.0000, -0.0000, -1.9999]], grad_fn=<MulBackward0>)\n"
     ]
    }
   ],
   "source": [
    "# 假设每个元素以 0.5 的概率被舍弃\n",
    "dropout = nn.Dropout(0.5)\n",
    "d_output = dropout(b_output)\n",
    "print(d_output)"
   ]
  },
  {
   "cell_type": "code",
   "execution_count": 34,
   "metadata": {},
   "outputs": [
    {
     "name": "stdout",
     "output_type": "stream",
     "text": [
      "Inplace operation:\n",
      "y= tensor([[1., 0.]]) x= tensor([[1., 0.]])\n"
     ]
    }
   ],
   "source": [
    "# Inplace operation\n",
    "relu1 = nn.ReLU(inplace=True)\n",
    "x = Variable(torch.Tensor([[1, -10]]))\n",
    "y1 = relu1(x)\n",
    "print('Inplace operation:')\n",
    "print('y=',y1.data,'x=',x.data) # y1.data 其实就是 x.data"
   ]
  },
  {
   "cell_type": "code",
   "execution_count": 35,
   "metadata": {},
   "outputs": [
    {
     "name": "stdout",
     "output_type": "stream",
     "text": [
      "non-inplace operation:\n",
      "y= tensor([[1., 0.]]) x= tensor([[  1., -10.]])\n"
     ]
    }
   ],
   "source": [
    "# non-inplace operation\n",
    "relu2 = nn.ReLU(inplace=False)\n",
    "x = Variable(torch.Tensor([[1, -10]]))\n",
    "y2 = relu2(x)\n",
    "print('non-inplace operation:')\n",
    "print('y=',y2.data,'x=',x.data) # y2.data 是新分配的张量"
   ]
  },
  {
   "cell_type": "code",
   "execution_count": 36,
   "metadata": {},
   "outputs": [
    {
     "name": "stdout",
     "output_type": "stream",
     "text": [
      "tensor(4.)\n"
     ]
    },
    {
     "name": "stderr",
     "output_type": "stream",
     "text": [
      "D:\\Python\\python\\lib\\site-packages\\torch\\nn\\_reduction.py:44: UserWarning: size_average and reduce args will be deprecated, please use reduction='mean' instead.\n",
      "  warnings.warn(warning.format(ret))\n"
     ]
    }
   ],
   "source": [
    "loss = nn.MSELoss(size_average=True)\n",
    "B = 10\n",
    "d = 20\n",
    "\n",
    "x1 = Variable(torch.ones(B, d))\n",
    "x2 = Variable(-torch.ones(B, d))\n",
    "\n",
    "error = loss(x1, x2)\n",
    "print(error)"
   ]
  },
  {
   "cell_type": "code",
   "execution_count": 37,
   "metadata": {
    "scrolled": true
   },
   "outputs": [
    {
     "name": "stdout",
     "output_type": "stream",
     "text": [
      "tensor([[1., 1., 1., 1., 1., 1., 1., 1., 1., 1., 1., 1., 1., 1., 1., 1., 1., 1.,\n",
      "         1., 1.],\n",
      "        [1., 1., 1., 1., 1., 1., 1., 1., 1., 1., 1., 1., 1., 1., 1., 1., 1., 1.,\n",
      "         1., 1.],\n",
      "        [1., 1., 1., 1., 1., 1., 1., 1., 1., 1., 1., 1., 1., 1., 1., 1., 1., 1.,\n",
      "         1., 1.],\n",
      "        [1., 1., 1., 1., 1., 1., 1., 1., 1., 1., 1., 1., 1., 1., 1., 1., 1., 1.,\n",
      "         1., 1.],\n",
      "        [1., 1., 1., 1., 1., 1., 1., 1., 1., 1., 1., 1., 1., 1., 1., 1., 1., 1.,\n",
      "         1., 1.],\n",
      "        [1., 1., 1., 1., 1., 1., 1., 1., 1., 1., 1., 1., 1., 1., 1., 1., 1., 1.,\n",
      "         1., 1.],\n",
      "        [1., 1., 1., 1., 1., 1., 1., 1., 1., 1., 1., 1., 1., 1., 1., 1., 1., 1.,\n",
      "         1., 1.],\n",
      "        [1., 1., 1., 1., 1., 1., 1., 1., 1., 1., 1., 1., 1., 1., 1., 1., 1., 1.,\n",
      "         1., 1.],\n",
      "        [1., 1., 1., 1., 1., 1., 1., 1., 1., 1., 1., 1., 1., 1., 1., 1., 1., 1.,\n",
      "         1., 1.],\n",
      "        [1., 1., 1., 1., 1., 1., 1., 1., 1., 1., 1., 1., 1., 1., 1., 1., 1., 1.,\n",
      "         1., 1.]])\n"
     ]
    }
   ],
   "source": [
    "print(x1)"
   ]
  },
  {
   "cell_type": "code",
   "execution_count": 38,
   "metadata": {},
   "outputs": [
    {
     "name": "stdout",
     "output_type": "stream",
     "text": [
      "tensor(800.)\n"
     ]
    },
    {
     "name": "stderr",
     "output_type": "stream",
     "text": [
      "D:\\Python\\python\\lib\\site-packages\\torch\\nn\\_reduction.py:44: UserWarning: size_average and reduce args will be deprecated, please use reduction='sum' instead.\n",
      "  warnings.warn(warning.format(ret))\n"
     ]
    }
   ],
   "source": [
    "loss = nn.MSELoss(size_average=False)\n",
    "B = 10\n",
    "d = 20\n",
    "\n",
    "x1 = Variable(torch.ones(B, d))\n",
    "x2 = Variable(-torch.ones(B, d))\n",
    "\n",
    "error = loss(x1, x2)\n",
    "print(error)"
   ]
  },
  {
   "cell_type": "code",
   "execution_count": 39,
   "metadata": {
    "scrolled": true
   },
   "outputs": [
    {
     "name": "stdout",
     "output_type": "stream",
     "text": [
      "Parameter containing:\n",
      "tensor([[ 0.7032,  0.3665, -0.6144],\n",
      "        [ 0.7639,  0.3077,  0.5412],\n",
      "        [-0.6325, -0.7634,  0.1853],\n",
      "        [-0.6666,  0.2212, -0.8316]], requires_grad=True)\n"
     ]
    },
    {
     "name": "stderr",
     "output_type": "stream",
     "text": [
      "<ipython-input-39-58432eca0c37>:11: UserWarning: nn.init.xavier_normal is now deprecated in favor of nn.init.xavier_normal_.\n",
      "  print(init.xavier_normal(linear.weight))\n"
     ]
    }
   ],
   "source": [
    "import torch\n",
    "import torch.nn as nn\n",
    "import torch.nn.functional as F\n",
    "from torch.autograd import Variable\n",
    "\n",
    "%matplotlib inline\n",
    "import matplotlib.pyplot as plt\n",
    "\n",
    "from torch.nn import init\n",
    "linear = nn.Linear(3, 4)\n",
    "print(init.xavier_normal(linear.weight))"
   ]
  },
  {
   "cell_type": "code",
   "execution_count": 40,
   "metadata": {},
   "outputs": [
    {
     "name": "stdout",
     "output_type": "stream",
     "text": [
      "tensor([[ 2.1356,  1.7108, -0.1343],\n",
      "        [ 0.0705,  0.1797,  0.0643],\n",
      "        [-0.5914,  0.3744, -0.2870],\n",
      "        [-1.1299,  1.1970,  1.1133]])\n"
     ]
    }
   ],
   "source": [
    "import math\n",
    "linear = nn.Linear(3, 4)\n",
    "print(linear.weight.data.normal_(0, 1))"
   ]
  },
  {
   "cell_type": "code",
   "execution_count": 41,
   "metadata": {},
   "outputs": [],
   "source": [
    "class Linear(nn.Module):\n",
    "    def __init__(self,in_features,out_features,bias=True):\n",
    "        super(Linear,self).__init__()\n",
    "        ...\n",
    "        \n",
    "    def forward(self,input):\n",
    "        return F.linear(input,self.weight,self.bias)"
   ]
  },
  {
   "cell_type": "code",
   "execution_count": 43,
   "metadata": {
    "scrolled": true
   },
   "outputs": [
    {
     "data": {
      "text/plain": [
       "Example(\n",
       "  (submodel): Linear(in_features=2, out_features=3, bias=True)\n",
       ")"
      ]
     },
     "execution_count": 43,
     "metadata": {},
     "output_type": "execute_result"
    }
   ],
   "source": [
    "class Example(nn.Module):\n",
    "    def __init__(self):\n",
    "        super(Example,self).__init__()\n",
    "        self.param = nn.Parameter(torch.randn(2, 2))\n",
    "        self.submodel = nn.Linear(2, 3)\n",
    "        \n",
    "    def forward(self,x):\n",
    "        y = self.param.mm(x)\n",
    "        y = self.submodel(y)\n",
    "        return y\n",
    "    \n",
    "example = Example()\n",
    "example"
   ]
  },
  {
   "cell_type": "code",
   "execution_count": 44,
   "metadata": {},
   "outputs": [
    {
     "data": {
      "text/plain": [
       "OrderedDict([('param',\n",
       "              Parameter containing:\n",
       "              tensor([[-0.2597, -0.2195],\n",
       "                      [-0.4554,  0.4051]], requires_grad=True))])"
      ]
     },
     "execution_count": 44,
     "metadata": {},
     "output_type": "execute_result"
    }
   ],
   "source": [
    "example._parameters"
   ]
  },
  {
   "cell_type": "code",
   "execution_count": 45,
   "metadata": {},
   "outputs": [
    {
     "data": {
      "text/plain": [
       "OrderedDict([('submodel', Linear(in_features=2, out_features=3, bias=True))])"
      ]
     },
     "execution_count": 45,
     "metadata": {},
     "output_type": "execute_result"
    }
   ],
   "source": [
    "example._modules"
   ]
  },
  {
   "cell_type": "code",
   "execution_count": 46,
   "metadata": {
    "scrolled": true
   },
   "outputs": [
    {
     "name": "stdout",
     "output_type": "stream",
     "text": [
      "param torch.Size([2, 2])\n",
      "submodel.weight torch.Size([3, 2])\n",
      "submodel.bias torch.Size([3])\n"
     ]
    }
   ],
   "source": [
    "for name, param in example.named_parameters():\n",
    "    print(name, param.size())"
   ]
  },
  {
   "cell_type": "code",
   "execution_count": 49,
   "metadata": {
    "scrolled": true
   },
   "outputs": [
    {
     "name": "stdout",
     "output_type": "stream",
     "text": [
      "True\n",
      "True \n",
      "\n",
      "Parameter containing:\n",
      "tensor([[-0.2597, -0.2195],\n",
      "        [-0.4554,  0.4051]], requires_grad=True)\n",
      "Parameter containing:\n",
      "tensor([[-0.2597, -0.2195],\n",
      "        [-0.4554,  0.4051]], requires_grad=True) \n",
      "\n"
     ]
    }
   ],
   "source": [
    "print(getattr(example,'training'))\n",
    "print(example.training,'\\n')\n",
    "print(getattr(example,'param'))\n",
    "print(example.__getattr__('param'),'\\n')\n",
    "setattr(example,'param1',torch.randn(2, 2))"
   ]
  },
  {
   "cell_type": "code",
   "execution_count": 50,
   "metadata": {},
   "outputs": [
    {
     "data": {
      "text/plain": [
       "tensor([[True, True, True, True],\n",
       "        [True, True, True, True]])"
      ]
     },
     "execution_count": 50,
     "metadata": {},
     "output_type": "execute_result"
    }
   ],
   "source": [
    "x = Variable(torch.randn(2, 3))\n",
    "\n",
    "# torch.nn.Conv2d\n",
    "f = nn.Linear(3, 4)\n",
    "output1 = f(x)\n",
    "\n",
    "# torch.nn.functional.Conv2d\n",
    "output2 = nn.functional.linear(x, f.weight, f.bias)\n",
    "output1 == output2"
   ]
  },
  {
   "cell_type": "code",
   "execution_count": 51,
   "metadata": {},
   "outputs": [
    {
     "name": "stdout",
     "output_type": "stream",
     "text": [
      "tensor([[3., 3., 3., 3.],\n",
      "        [3., 3., 3., 3.],\n",
      "        [3., 3., 3., 3.]])\n",
      "tensor([[4.5000, 4.5000, 4.5000, 4.5000],\n",
      "        [4.5000, 4.5000, 4.5000, 4.5000],\n",
      "        [4.5000, 4.5000, 4.5000, 4.5000]])\n"
     ]
    }
   ],
   "source": [
    "class QuadActiveFunc(nn.Module):\n",
    "    def __init__(self,a=0.5,inplace=True):\n",
    "        super(QuadActiveFunc, self).__init__()\n",
    "        self.a = a\n",
    "        self.inplace = inplace\n",
    "        \n",
    "    def forward(self, x):\n",
    "        if self.inplace:\n",
    "            x = self.a*x*x\n",
    "            return x\n",
    "        else:\n",
    "            return self.a*x*x\n",
    "        \n",
    "acFunc = QuadActiveFunc()\n",
    "x = Variable(torch.ones(3, 4) * 3)\n",
    "y = acFunc(x)\n",
    "\n",
    "print(x)\n",
    "print(y)"
   ]
  },
  {
   "cell_type": "code",
   "execution_count": 52,
   "metadata": {},
   "outputs": [
    {
     "name": "stdout",
     "output_type": "stream",
     "text": [
      "x1*x1 + x2*x2 =  tensor(5.)\n",
      "grad: tensor([2., 4.])\n"
     ]
    }
   ],
   "source": [
    "x = Variable(torch.Tensor([1, 2]),requires_grad=True)\n",
    "acFunc1 = QuadActiveFunc(a=1)\n",
    "y = acFunc1(x)\n",
    "S = y.sum()\n",
    "S.backward()\n",
    "\n",
    "print('x1*x1 + x2*x2 = ',S.data)\n",
    "print('grad:',x.grad.data)"
   ]
  },
  {
   "cell_type": "markdown",
   "metadata": {},
   "source": [
    "## 数据加载与处理"
   ]
  },
  {
   "cell_type": "code",
   "execution_count": 53,
   "metadata": {},
   "outputs": [],
   "source": [
    "import numpy as np\n",
    "%matplotlib inline\n",
    "import matplotlib.pyplot as plt\n",
    "\n",
    "import torch \n",
    "from torch.utils.data import DataLoader\n",
    "\n",
    "import torchvision.datasets as dsets\n",
    "import torchvision.transforms as trans"
   ]
  },
  {
   "cell_type": "code",
   "execution_count": 55,
   "metadata": {},
   "outputs": [
    {
     "name": "stdout",
     "output_type": "stream",
     "text": [
      "Downloading http://yann.lecun.com/exdb/mnist/train-images-idx3-ubyte.gz to ./data/mnist\\MNIST\\raw\\train-images-idx3-ubyte.gz\n"
     ]
    },
    {
     "name": "stderr",
     "output_type": "stream",
     "text": [
      "100.1%"
     ]
    },
    {
     "name": "stdout",
     "output_type": "stream",
     "text": [
      "Extracting ./data/mnist\\MNIST\\raw\\train-images-idx3-ubyte.gz to ./data/mnist\\MNIST\\raw\n",
      "Downloading http://yann.lecun.com/exdb/mnist/train-labels-idx1-ubyte.gz to ./data/mnist\\MNIST\\raw\\train-labels-idx1-ubyte.gz\n"
     ]
    },
    {
     "name": "stderr",
     "output_type": "stream",
     "text": [
      "113.5%"
     ]
    },
    {
     "name": "stdout",
     "output_type": "stream",
     "text": [
      "Extracting ./data/mnist\\MNIST\\raw\\train-labels-idx1-ubyte.gz to ./data/mnist\\MNIST\\raw\n",
      "Downloading http://yann.lecun.com/exdb/mnist/t10k-images-idx3-ubyte.gz to ./data/mnist\\MNIST\\raw\\t10k-images-idx3-ubyte.gz\n"
     ]
    },
    {
     "name": "stderr",
     "output_type": "stream",
     "text": [
      "100.4%"
     ]
    },
    {
     "name": "stdout",
     "output_type": "stream",
     "text": [
      "Extracting ./data/mnist\\MNIST\\raw\\t10k-images-idx3-ubyte.gz to ./data/mnist\\MNIST\\raw\n",
      "Downloading http://yann.lecun.com/exdb/mnist/t10k-labels-idx1-ubyte.gz to ./data/mnist\\MNIST\\raw\\t10k-labels-idx1-ubyte.gz\n"
     ]
    },
    {
     "name": "stderr",
     "output_type": "stream",
     "text": [
      "180.4%"
     ]
    },
    {
     "name": "stdout",
     "output_type": "stream",
     "text": [
      "Extracting ./data/mnist\\MNIST\\raw\\t10k-labels-idx1-ubyte.gz to ./data/mnist\\MNIST\\raw\n",
      "Processing...\n",
      "Done!\n"
     ]
    }
   ],
   "source": [
    "# 加载MNIST数据\n",
    "\n",
    "# 参数 train=True，加载训练数据，否则加载的是测试数据\n",
    "train_set = dsets.MNIST(root='./data/mnist',train=True,\n",
    "                        transform=trans.ToTensor(),download=True)\n",
    "test_set = dsets.MNIST(root='./data/mnist',train=False,\n",
    "                       transform=trans.ToTensor(),download=True)\n",
    "\n",
    "# 用迭代器封装数据\n",
    "# 第三个参数: shuffle = True 表示每个epoch开始前都会打乱数据的顺序\n",
    "train_loader = DataLoader(train_set,batch_size=10,shuffle=True)\n",
    "test_set = DataLoader(test_set,batch_size=10,shuffle=False)"
   ]
  },
  {
   "cell_type": "code",
   "execution_count": 56,
   "metadata": {},
   "outputs": [
    {
     "name": "stdout",
     "output_type": "stream",
     "text": [
      "batch data shape: torch.Size([10, 1, 28, 28])\n",
      "visualize the data\n"
     ]
    },
    {
     "data": {
      "image/png": "[encoded data removed]",
      "text/plain": [
       "<Figure size 1080x144 with 10 Axes>"
      ]
     },
     "metadata": {
      "needs_background": "light"
     },
     "output_type": "display_data"
    }
   ],
   "source": [
    "for batch_x,batch_y in train_loader:\n",
    "    break\n",
    "\n",
    "# 输出的维数为 NxCxWxH 第二个维度是channel数量，这和Numpy里面正常\n",
    "# 的channel的位置不太一样\n",
    "print('batch data shape:',batch_x.shape)\n",
    "\n",
    "print('visualize the data')\n",
    "plt.figure(figsize=(15,2))\n",
    "for i in range(10):\n",
    "    plt.subplot(1,10,i+1)\n",
    "    plt.imshow(batch_x[i][0].numpy(),cmap='gray');\n",
    "    plt.axis('off')"
   ]
  },
  {
   "cell_type": "code",
   "execution_count": null,
   "metadata": {},
   "outputs": [
    {
     "name": "stdout",
     "output_type": "stream",
     "text": [
      "Downloading https://www.cs.toronto.edu/~kriz/cifar-10-python.tar.gz to ./data/cifar10\\cifar-10-python.tar.gz\n"
     ]
    },
    {
     "name": "stderr",
     "output_type": "stream",
     "text": [
      "1.2%"
     ]
    }
   ],
   "source": [
    "train_set = dsets.CIFAR10(root='./data/cifar10',train=True,\n",
    "                        transform=trans.ToTensor(),download=True)\n",
    "test_set = dsets.CIFAR10(root='../data/cifar10',train=False,\n",
    "                       transform=trans.ToTensor(),download=True)\n",
    "\n",
    "train_loader = DataLoader(train_set,batch_size=100,shuffle=True)\n",
    "test_loader = DataLoader(test_set,batch_size=100,shuffle=False)"
   ]
  },
  {
   "cell_type": "code",
   "execution_count": null,
   "metadata": {},
   "outputs": [],
   "source": [
    "batch_x,batch_y = iter(train_loader).next()\n",
    "print('batch data shape:',batch_x.shape)\n",
    "idx2class = ['airplane','automobile','bird','cat','deer',\n",
    "             'dog','frog','horse','ship','truck']\n",
    "\n",
    "print('visualize the data')\n",
    "indices = torch.rand(10).fill_(-1).long()\n",
    "cnt = 0\n",
    "for i in range(100):\n",
    "    label = batch_y[i]\n",
    "    if indices[label] == -1:\n",
    "        indices[label]=i\n",
    "        cnt += 1\n",
    "    if cnt == 10:\n",
    "        break\n",
    "\n",
    "plt.figure(figsize=(15,4))\n",
    "for i in range(10):\n",
    "    plt.subplot(2,5,i+1)\n",
    "    img = batch_x[indices[i]].numpy().transpose([1,2,0])\n",
    "    plt.imshow(img)\n",
    "    plt.title('%d:%s'%(i,idx2class[i]))\n",
    "    plt.axis('off')"
   ]
  },
  {
   "cell_type": "code",
   "execution_count": 1,
   "metadata": {},
   "outputs": [],
   "source": [
    "import numpy as np\n",
    "%matplotlib inline\n",
    "import matplotlib.pyplot as plt\n",
    "\n",
    "import torch \n",
    "from torch.utils.data import DataLoader\n",
    "\n",
    "import torchvision.datasets as dsets\n",
    "import torchvision.transforms as trans"
   ]
  },
  {
   "cell_type": "code",
   "execution_count": 2,
   "metadata": {},
   "outputs": [
    {
     "name": "stdout",
     "output_type": "stream",
     "text": [
      "1 torch.Size([10, 2, 30, 30]) torch.Size([10])\n",
      "2 torch.Size([10, 2, 30, 30]) torch.Size([10])\n",
      "3 torch.Size([10, 2, 30, 30]) torch.Size([10])\n",
      "4 torch.Size([10, 2, 30, 30]) torch.Size([10])\n",
      "5 torch.Size([10, 2, 30, 30]) torch.Size([10])\n",
      "6 torch.Size([10, 2, 30, 30]) torch.Size([10])\n",
      "7 torch.Size([10, 2, 30, 30]) torch.Size([10])\n",
      "8 torch.Size([10, 2, 30, 30]) torch.Size([10])\n",
      "9 torch.Size([10, 2, 30, 30]) torch.Size([10])\n",
      "10 torch.Size([10, 2, 30, 30]) torch.Size([10])\n"
     ]
    }
   ],
   "source": [
    "class MyDataset:\n",
    "    def __init__(self,X,y):\n",
    "        assert X.size(0) == y.size(0)\n",
    "        self.X = X\n",
    "        self.y = y\n",
    "\n",
    "    def __getitem__(self,idx):\n",
    "        # 这个部分的数据也可以是从硬盘中读\n",
    "        # 出来的\n",
    "        bx = self.X[idx]\n",
    "        by = self.y[idx]\n",
    "        # 这里个在对 bx 和 by 做一些处理，\n",
    "        # 譬如标准化，图片变换等等。从而实\n",
    "        # 现数据增强\n",
    "\n",
    "        return bx, by\n",
    "\n",
    "    def __len__(self):\n",
    "        return self.X.size(0)\n",
    "\n",
    "X = torch.rand(100,2,30,30)\n",
    "y = torch.rand(100)\n",
    "\n",
    "dataset = MyDataset(X,y)\n",
    "dataloader = torch.utils.data.DataLoader(\n",
    "                            dataset=dataset,\n",
    "                            batch_size = 10,\n",
    "                            shuffle = False)\n",
    "\n",
    "for i,(bx,by) in enumerate(dataloader):\n",
    "    print(i+1,bx.size(),by.size())"
   ]
  },
  {
   "cell_type": "code",
   "execution_count": 3,
   "metadata": {},
   "outputs": [],
   "source": [
    "# 删除损坏样本\n",
    "class DelDataset(MyDataset):\n",
    "    def __getitem__(self, idx):\n",
    "        try:\n",
    "            # 调用之前的获取函数，即 MyDataset.__getitem__(self, index)\n",
    "            return super(DelDataset,self).__getitem__(idx)\n",
    "\n",
    "        except:\n",
    "            return None, None\n",
    "\n",
    "# 导入默认的拼接方式\n",
    "from torch.utils.data.dataloader import default_collate\n",
    "def new_collate_fn(batch):\n",
    "    # 删除为None的数据\n",
    "    batch = list(filter(lambda x:x[0] is not None, batch))\n",
    "    if len(batch) == 0:\n",
    "        return t.Tensor()\n",
    "    else:\n",
    "        # 用默认方式拼接过滤后的batch数据\n",
    "        return default_collate(batch)"
   ]
  },
  {
   "cell_type": "code",
   "execution_count": 4,
   "metadata": {},
   "outputs": [],
   "source": [
    "# 代替损坏样本\n",
    "class ReplaceDataset(MyDataset):\n",
    "    def __getitem__(self, idx):\n",
    "        try:\n",
    "            return super(ReplaceDataset, self).__getitem__(idx)\n",
    "        except:\n",
    "            new_idx = random.randint(0,len(self)-1)\n",
    "            return self[new_idx]"
   ]
  },
  {
   "cell_type": "markdown",
   "metadata": {},
   "source": [
    "## 线性回归模型"
   ]
  },
  {
   "cell_type": "code",
   "execution_count": 6,
   "metadata": {},
   "outputs": [],
   "source": [
    "# 加载包\n",
    "import numpy as np\n",
    "%matplotlib inline\n",
    "import matplotlib.pyplot as plt\n",
    "\n",
    "import torch\n",
    "import torch.nn as nn\n",
    "import torch.nn.functional as F\n",
    "from torch.optim import lr_scheduler\n",
    "from torch.autograd import Variable\n",
    "\n",
    "import torchvision.datasets as dsets\n",
    "import torchvision.transforms as trans\n",
    "\n",
    "# 加载数据\n",
    "batch_size = 1000\n",
    "\n",
    "train_set = dsets.MNIST(root='./data/',transform=trans.ToTensor(),train=True,download=True)\n",
    "test_set = dsets.MNIST(root='./data/',transform=trans.ToTensor(),train=False,download=True)\n",
    "train_dl = torch.utils.data.DataLoader(train_set,batch_size=batch_size,shuffle=True)\n",
    "test_dl = torch.utils.data.DataLoader(test_set,batch_size=batch_size)\n",
    "\n",
    "INPUT_DIM = 28*28 \n",
    "N_CLASSES = 10 \n",
    "nsample = 60000\n",
    "GAMMA = 1e-5\n",
    "lr = 1e-2\n",
    "nepochs = 30\n",
    "\n",
    "# 模型参数\n",
    "W = Variable(\n",
    "    torch.Tensor(INPUT_DIM,N_CLASSES).normal_(0,0.01),\n",
    "    requires_grad=True\n",
    ")\n",
    "b = Variable(\n",
    "    torch.Tensor(1,N_CLASSES).zero_(),\n",
    "    requires_grad = True\n",
    ")\n",
    "\n",
    "# 定义优化算法 Optimizer\n",
    "optimizer = torch.optim.SGD([W,b],lr=lr,momentum=0)\n",
    "\n",
    "# 选择学习率下降策略\n",
    "scheduler = lr_scheduler.MultiStepLR(optimizer,milestones=[10,15,25])\n",
    "\n",
    "# Cost 函数\n",
    "def J(x,y):\n",
    "    pred = x.matmul(W) + b\n",
    "    cost = (pred-y).pow(2).mean() + GAMMA * W.pow(2).sum()\n",
    "    return cost\n",
    "\n",
    "# index的shape需要与x的shape对应，以保证index中每个元素都能指定x中的一个位置进行填充。\n",
    "# dim=0表示按行填充，例如：index中第0行第1列的index=2，表示x中(2,1)的位置填充1。\n",
    "x = torch.zeros(3, 5)\n",
    "x.scatter_(0, torch.LongTensor([[1,2,0,0,1],[2,1,0,2,1]]), 1)\n",
    "\n",
    "def create_variable(x,y):\n",
    "    n = x.size(0)\n",
    "    x = x.view(n,INPUT_DIM)\n",
    "    y_onehot = torch.Tensor(n,N_CLASSES)\n",
    "    y_onehot.zero_()\n",
    "    y_onehot.scatter_(1,y.view(-1,1),1)\n",
    "\n",
    "    x = Variable(x)\n",
    "    y = Variable(y_onehot)\n",
    "    return x,y\n",
    "\n",
    "# 预测函数\n",
    "def pred(x):\n",
    "    x = x.view(x.size(0),-1)\n",
    "    o = x.matmul(W.data)+b.data\n",
    "    probs,labels = o.max(dim=1)\n",
    "    return probs,labels\n",
    "\n",
    "# 评价函数：根据准确率对模型进行评价\n",
    "def evaluate(dl):\n",
    "    correct = 0\n",
    "    total = 0\n",
    "    for batch_x,batch_y in dl:\n",
    "        _,batch_pred = pred(batch_x)\n",
    "        correct += (batch_pred==batch_y).sum()\n",
    "        total += batch_y.size(0)\n",
    "    accuracy = 100.0*correct/total\n",
    "    return accuracy\n",
    "\n",
    "# 训练函数： 训练优化模型参数\n",
    "def train_epoch(dl):\n",
    "    error = 0\n",
    "    for batch_x,batch_y in dl:\n",
    "        x,y = create_variable(batch_x,batch_y)\n",
    "        # 前向传播，计算损失\n",
    "        loss = J(x,y)\n",
    "        # 后向传播，计算导数\n",
    "        loss.backward()\n",
    "        # 参数更新\n",
    "        optimizer.step()\n",
    "\n",
    "        error += loss.data\n",
    "    error /= len(dl)\n",
    "    return error\n",
    "\n",
    "for epoch in range(nepochs):\n",
    "    # 返回当前的学习率\n",
    "    current_lr = scheduler.get_lr()[0]\n",
    "    scheduler.step()\n",
    "    \n",
    "    err = train_epoch(train_dl)\n",
    "    acc_test = evaluate(test_dl)\n",
    "    acc_train = evaluate(train_dl)\n",
    "\n",
    "    print('%d/%d, lr=%.2e, train loss: %.2e, train acc: %.2f, test acc: %.2f'%(\n",
    "                epoch+1,nepochs,current_lr,err,acc_train,acc_test))"
   ]
  },
  {
   "cell_type": "code",
   "execution_count": 26,
   "metadata": {},
   "outputs": [
    {
     "name": "stdout",
     "output_type": "stream",
     "text": [
      "网络结构如下：\n",
      " LinearRegression(\n",
      "  (linear): Linear(in_features=784, out_features=10, bias=True)\n",
      ")\n"
     ]
    }
   ],
   "source": [
    "# 加载包与数据\n",
    "import torch \n",
    "import torch.nn as nn\n",
    "from torch.autograd import Variable\n",
    "import torchvision.datasets as dsets\n",
    "import torchvision.transforms as trans\n",
    "import numpy as np\n",
    "\n",
    "batch_size = 1000\n",
    "\n",
    "train_set = dsets.MNIST(root='./data/',transform=trans.ToTensor(),train=True,download=True)\n",
    "test_set = dsets.MNIST(root='./data/',transform=trans.ToTensor(),train=False,download=True)\n",
    "train_dl = torch.utils.data.DataLoader(train_set,batch_size=batch_size,shuffle=True)\n",
    "test_dl = torch.utils.data.DataLoader(test_set,batch_size=batch_size)\n",
    "\n",
    "# 设置参数\n",
    "INPUT_DIM = 28*28\n",
    "N_CLASSES = 10\n",
    "nepochs = 30\n",
    "lr = 1e-2\n",
    "\n",
    "# 线性回归模型\n",
    "class LinearRegression(nn.Module):\n",
    "    def __init__(self,input_size, num_classes):\n",
    "        super(LinearRegression, self).__init__()\n",
    "        self.linear = nn.Linear(input_size, num_classes)\n",
    "\n",
    "    def forward(self, x):\n",
    "        out = self.linear(x)\n",
    "        return out\n",
    "\n",
    "# 显示网络结构\n",
    "model = LinearRegression(INPUT_DIM, N_CLASSES)\n",
    "print('网络结构如下：\\n', model)\n",
    "\n",
    "# 损失函数与优化器\n",
    "criterion = nn.CrossEntropyLoss() # 交叉熵损失函数\n",
    "optimizer = torch.optim.SGD(model.parameters(), lr = lr)\n",
    "\n",
    "# 评价函数\n",
    "def eval(model,criterion,dataloader):\n",
    "    loss = 0\n",
    "    accuracy = 0\n",
    "    #利用enumerate取出一个可迭代对象的内容\n",
    "    for i, (batch_x, batch_y) in enumerate(dataloader):\n",
    "        batch_x = Variable(batch_x.view(-1, 28 * 28))\n",
    "        batch_y = Variable(batch_y)\n",
    "\n",
    "        outputs = model(batch_x)\n",
    "        error = criterion(outputs,batch_y)\n",
    "        loss += error.data\n",
    "\n",
    "        probs,pred_y = outputs.data.max(dim=1)\n",
    "        # accuracy += (pred_y==batch_y.data).sum()/batch_y.size(0)\n",
    "        # accuracy += torch.floor_divide((pred_y==batch_y.data).sum(), batch_y.size(0))\n",
    "        accuracy += torch.true_divide((pred_y==batch_y.data).sum(), batch_y.size(0))\n",
    "\n",
    "    loss /= len(dataloader)\n",
    "    accuracy = accuracy*100.0/len(dataloader)\n",
    "    return loss, accuracy\n",
    "\n",
    "# 训练模型\n",
    "for epoch in range(nepochs):\n",
    "    for i, (batch_x, batch_y) in enumerate(train_dl):\n",
    "        batch_x = Variable(batch_x.view(-1, 28 * 28))\n",
    "        batch_y = Variable(batch_y)\n",
    "\n",
    "        optimizer.zero_grad()\n",
    "        outputs = model(batch_x)\n",
    "        loss = criterion(outputs, batch_y)\n",
    "        loss.backward()\n",
    "        optimizer.step()\n",
    "        \n",
    "    tr_loss, tr_acc = eval(model,criterion,train_dl)\n",
    "    te_loss, te_acc = eval(model,criterion,test_dl)\n",
    "\n",
    "\n",
    "    print('%d/%d, train loss: %.2e, train acc: %.2f, test loss: %.2e, test acc: %.2f'%(\n",
    "                epoch+1,nepochs,tr_loss,tr_acc,te_loss,te_acc))"
   ]
  },
  {
   "cell_type": "markdown",
   "metadata": {},
   "source": [
    "## 全连接神经网络"
   ]
  },
  {
   "cell_type": "code",
   "execution_count": 8,
   "metadata": {},
   "outputs": [],
   "source": [
    "# 加载模块\n",
    "import time\n",
    "\n",
    "import torch\n",
    "import torch.nn as nn\n",
    "import torch.nn.functional as F\n",
    "from torch.autograd import Variable\n",
    "\n",
    "import torchvision.datasets as dsets\n",
    "import torchvision.transforms as trans\n",
    "\n",
    "    # USE_CUDA = True # 然鹅运行时的电脑是 A 卡，用不上……\n",
    "USE_CUDA = False\n",
    "\n",
    "# 加载数据\n",
    "batch_size = 100\n",
    "\n",
    "train_set = dsets.MNIST(root='./data/',transform=trans.ToTensor(),train=True,download=True)\n",
    "test_set = dsets.MNIST(root='./data/',transform=trans.ToTensor(),train=False,download=True)\n",
    "train_dl = torch.utils.data.DataLoader(train_set,batch_size=batch_size,shuffle=True,num_workers=6)\n",
    "test_dl = torch.utils.data.DataLoader(test_set,batch_size=batch_size,num_workers=6)"
   ]
  },
  {
   "cell_type": "code",
   "execution_count": 9,
   "metadata": {},
   "outputs": [],
   "source": [
    "class FNN(nn.Module):\n",
    "    def __init__(self,input_size=784,num_classes=10):\n",
    "        super(FNN,self).__init__()\n",
    "        self.input_size = input_size\n",
    "        self.output_size = num_classes\n",
    "        self.fc1 = nn.Linear(784,500)\n",
    "        self.fc2 = nn.Linear(500,300)\n",
    "        self.fc3 = nn.Linear(300,10)\n",
    "\n",
    "    def forward(self,x):\n",
    "        o = x.view(-1,784)\n",
    "        o = self.fc1(o)\n",
    "        o = F.relu(o)\n",
    "\n",
    "        o = self.fc2(o)\n",
    "        o = F.relu(o)\n",
    "\n",
    "        o = self.fc3(o)\n",
    "        return o"
   ]
  },
  {
   "cell_type": "code",
   "execution_count": 10,
   "metadata": {},
   "outputs": [],
   "source": [
    "net2 = nn.Sequential(nn.Linear(784,500),\n",
    "                     nn.ReLU(),\n",
    "                     nn.Linear(500,300),\n",
    "                     nn.ReLU(),\n",
    "                     nn.Linear(300,10))"
   ]
  },
  {
   "cell_type": "code",
   "execution_count": 22,
   "metadata": {},
   "outputs": [
    {
     "name": "stdout",
     "output_type": "stream",
     "text": [
      "[1/30, 6 seconds], train error: 1.7e-01, train acc: 94.83\t test error: 2.0e-01, test acc: 94.21\n",
      "[2/30, 6 seconds], train error: 1.3e-01, train acc: 96.25\t test error: 1.8e-01, test acc: 95.24\n",
      "[3/30, 6 seconds], train error: 9.2e-02, train acc: 97.34\t test error: 1.5e-01, test acc: 96.09\n",
      "[4/30, 6 seconds], train error: 8.4e-02, train acc: 97.60\t test error: 1.5e-01, test acc: 96.48\n",
      "[5/30, 6 seconds], train error: 1.0e-01, train acc: 97.32\t test error: 1.7e-01, test acc: 96.44\n",
      "[6/30, 6 seconds], train error: 8.5e-02, train acc: 97.59\t test error: 1.7e-01, test acc: 96.15\n",
      "[7/30, 6 seconds], train error: 8.8e-02, train acc: 97.72\t test error: 1.8e-01, test acc: 96.42\n",
      "[8/30, 6 seconds], train error: 5.5e-02, train acc: 98.37\t test error: 1.6e-01, test acc: 97.02\n",
      "[9/30, 6 seconds], train error: 1.0e-01, train acc: 97.74\t test error: 1.8e-01, test acc: 96.49\n",
      "[10/30, 6 seconds], train error: 7.8e-02, train acc: 97.80\t test error: 1.9e-01, test acc: 96.20\n",
      "[11/30, 6 seconds], train error: 4.1e-02, train acc: 98.96\t test error: 1.6e-01, test acc: 97.34\n",
      "[12/30, 6 seconds], train error: 5.9e-02, train acc: 98.45\t test error: 1.7e-01, test acc: 96.98\n",
      "[13/30, 6 seconds], train error: 7.1e-02, train acc: 98.22\t test error: 2.2e-01, test acc: 96.52\n",
      "[14/30, 6 seconds], train error: 7.5e-02, train acc: 98.08\t test error: 2.2e-01, test acc: 96.25\n",
      "[15/30, 6 seconds], train error: 4.3e-02, train acc: 98.82\t test error: 1.6e-01, test acc: 97.27\n",
      "[16/30, 6 seconds], train error: 4.4e-02, train acc: 98.86\t test error: 1.8e-01, test acc: 97.40\n",
      "[17/30, 6 seconds], train error: 5.9e-02, train acc: 98.63\t test error: 1.9e-01, test acc: 97.08\n",
      "[18/30, 6 seconds], train error: 4.9e-02, train acc: 98.86\t test error: 2.2e-01, test acc: 96.79\n",
      "[19/30, 6 seconds], train error: 3.2e-02, train acc: 99.15\t test error: 1.5e-01, test acc: 97.66\n",
      "[20/30, 6 seconds], train error: 5.0e-02, train acc: 98.93\t test error: 2.5e-01, test acc: 97.53\n",
      "[21/30, 6 seconds], train error: 8.2e-02, train acc: 98.28\t test error: 2.5e-01, test acc: 96.57\n",
      "[22/30, 6 seconds], train error: 3.3e-02, train acc: 99.17\t test error: 2.2e-01, test acc: 97.39\n",
      "[23/30, 6 seconds], train error: 6.0e-02, train acc: 98.55\t test error: 2.4e-01, test acc: 97.02\n",
      "[24/30, 6 seconds], train error: 3.5e-02, train acc: 99.13\t test error: 2.1e-01, test acc: 97.45\n",
      "[25/30, 7 seconds], train error: 4.5e-02, train acc: 98.99\t test error: 2.5e-01, test acc: 97.20\n",
      "[26/30, 7 seconds], train error: 3.6e-02, train acc: 99.14\t test error: 2.1e-01, test acc: 97.21\n",
      "[27/30, 7 seconds], train error: 3.8e-02, train acc: 99.13\t test error: 2.4e-01, test acc: 97.12\n",
      "[28/30, 7 seconds], train error: 6.2e-02, train acc: 98.97\t test error: 2.9e-01, test acc: 97.21\n",
      "[29/30, 7 seconds], train error: 4.1e-02, train acc: 99.07\t test error: 2.5e-01, test acc: 97.40\n",
      "[30/30, 6 seconds], train error: 3.4e-02, train acc: 99.13\t test error: 2.5e-01, test acc: 97.23\n"
     ]
    }
   ],
   "source": [
    "def eval(model,criterion,dataloader):\n",
    "    loss = 0\n",
    "    accuracy = 0\n",
    "    for batch_x, batch_y in dataloader:\n",
    "        batch_x = Variable(batch_x)\n",
    "        batch_y = Variable(batch_y)\n",
    "        if USE_CUDA:\n",
    "            batch_x = batch_x.cuda()\n",
    "            batch_y = batch_y.cuda()\n",
    "\n",
    "        logits = model(batch_x)\n",
    "        error = criterion(logits,batch_y)\n",
    "        loss += error.data\n",
    "        # 这里存在版本更新\n",
    "\n",
    "        probs,pred_y = logits.data.max(dim=1)\n",
    "        # accuracy += (pred_y==batch_y.data).sum()/batch_y.size(0)\n",
    "        # accuracy += (pred_y==batch_y.data).sum()/batch_y.size(0)\n",
    "        accuracy += torch.true_divide((pred_y==batch_y.data).sum(), batch_y.size(0))\n",
    "\n",
    "    loss /= len(dataloader)\n",
    "    accuracy = accuracy*100.0/len(dataloader)\n",
    "    return loss, accuracy\n",
    "\n",
    "net = FNN(784,10)\n",
    "optimizer = torch.optim.Adam(net.parameters(),lr=0.01) \n",
    "criterion = torch.nn.CrossEntropyLoss()\n",
    "nepochs = 30\n",
    "\n",
    "# if USE_CUDA:\n",
    "#     net = net.cuda()\n",
    "\n",
    "for epoch in range(nepochs):\n",
    "    since = time.time()\n",
    "    for batch_x,batch_y in train_dl:\n",
    "        batch_x = Variable(batch_x)\n",
    "        batch_y = Variable(batch_y)\n",
    "        if USE_CUDA:\n",
    "            batch_x = batch_x.cuda()\n",
    "            batch_y = batch_y.cuda()\n",
    "\n",
    "        optimizer.zero_grad()\n",
    "        logits = net(batch_x) \n",
    "        error = criterion(logits,batch_y)\n",
    "        error.backward()\n",
    "        optimizer.step()\n",
    "\n",
    "    now = time.time()\n",
    "    tr_loss, tr_acc = eval(net,criterion,train_dl)\n",
    "    te_loss, te_acc = eval(net,criterion,test_dl)\n",
    "    print('[%d/%d, %.0f seconds], train error: %.1e, train acc: %.2f\\t test error: %.1e, test acc: %.2f'%(\n",
    "                epoch+1,nepochs,now-since,tr_loss,tr_acc,te_loss,te_acc))"
   ]
  },
  {
   "cell_type": "markdown",
   "metadata": {},
   "source": [
    "## 卷积神经网络"
   ]
  },
  {
   "cell_type": "code",
   "execution_count": 1,
   "metadata": {},
   "outputs": [],
   "source": [
    "import time\n",
    "\n",
    "import torch\n",
    "import torch.nn as nn\n",
    "import torch.nn.functional as F\n",
    "from torch.autograd import Variable\n",
    "\n",
    "import torchvision.datasets as dsets\n",
    "import torchvision.transforms as trans\n",
    "\n",
    "# USE_CUDA = True\n",
    "def conv5x5(in_channels,out_channels,stride=1):\n",
    "    return nn.Conv2d(in_channels,out_channels,kernel_size=5,\n",
    "                    stride=stride,padding=2,bias=True)"
   ]
  },
  {
   "cell_type": "code",
   "execution_count": 3,
   "metadata": {},
   "outputs": [
    {
     "name": "stdout",
     "output_type": "stream",
     "text": [
      "网络结构如下\n",
      "\n",
      "LeNet(\n",
      "  (conv1): Conv2d(1, 20, kernel_size=(5, 5), stride=(1, 1), padding=(2, 2))\n",
      "  (pool1): AvgPool2d(kernel_size=2, stride=2, padding=0)\n",
      "  (conv2): Conv2d(20, 10, kernel_size=(5, 5), stride=(1, 1), padding=(2, 2))\n",
      "  (pool2): AvgPool2d(kernel_size=2, stride=2, padding=0)\n",
      "  (fc1): Linear(in_features=490, out_features=500, bias=True)\n",
      "  (fc2): Linear(in_features=500, out_features=10, bias=True)\n",
      ")\n"
     ]
    }
   ],
   "source": [
    "class LeNet(nn.Module):\n",
    "    def __init__(self):\n",
    "        super(LeNet,self).__init__()\n",
    "        self.conv1 = conv5x5(1,20)\n",
    "        self.pool1 = nn.AvgPool2d(2)\n",
    "        self.conv2 = conv5x5(20,10)\n",
    "        self.pool2 = nn.AvgPool2d(2)\n",
    "        self.fc1 = nn.Linear(7*7*10,500)\n",
    "        self.fc2 = nn.Linear(500,10)\n",
    "\n",
    "    def forward(self,x):\n",
    "        # 1x28x28\n",
    "        o = self.conv1(x)   \n",
    "        o = F.relu(o)\n",
    "        o = self.pool1(o)\n",
    "\n",
    "        # 5x14x14\n",
    "        o = self.conv2(o)\n",
    "        o = F.relu(o)\n",
    "        o = self.pool2(o)\n",
    "\n",
    "        o = o.view(-1,7*7*10)\n",
    "        o = self.fc1(o)\n",
    "        o = F.relu(o)\n",
    "        o = self.fc2(o)\n",
    "\n",
    "        return o\n",
    "\n",
    "net = LeNet()\n",
    "# if USE_CUDA:\n",
    "#     net = net.cuda()\n",
    "\n",
    "print('网络结构如下\\n')\n",
    "print(net)"
   ]
  },
  {
   "cell_type": "code",
   "execution_count": 6,
   "metadata": {},
   "outputs": [
    {
     "name": "stdout",
     "output_type": "stream",
     "text": [
      "[ 1/30, 20 seconds]|\t train error: 8.8e-02, train acc: 97.37 |\t test error: 7.7e-02, test acc: 97.47\n",
      "[ 2/30, 21 seconds]|\t train error: 5.6e-02, train acc: 98.27 |\t test error: 5.0e-02, test acc: 98.35\n",
      "[ 3/30, 21 seconds]|\t train error: 3.6e-02, train acc: 98.89 |\t test error: 4.1e-02, test acc: 98.62\n",
      "[ 4/30, 21 seconds]|\t train error: 2.6e-02, train acc: 99.21 |\t test error: 3.0e-02, test acc: 98.87\n",
      "[ 5/30, 21 seconds]|\t train error: 2.3e-02, train acc: 99.28 |\t test error: 3.4e-02, test acc: 98.84\n",
      "[ 6/30, 20 seconds]|\t train error: 1.6e-02, train acc: 99.52 |\t test error: 3.2e-02, test acc: 98.89\n",
      "[ 7/30, 20 seconds]|\t train error: 1.6e-02, train acc: 99.46 |\t test error: 3.1e-02, test acc: 99.00\n",
      "[ 8/30, 21 seconds]|\t train error: 1.5e-02, train acc: 99.54 |\t test error: 3.9e-02, test acc: 98.82\n",
      "[ 9/30, 21 seconds]|\t train error: 1.2e-02, train acc: 99.59 |\t test error: 3.6e-02, test acc: 99.01\n",
      "[10/30, 22 seconds]|\t train error: 8.2e-03, train acc: 99.76 |\t test error: 3.3e-02, test acc: 99.08\n",
      "[11/30, 22 seconds]|\t train error: 1.0e-02, train acc: 99.66 |\t test error: 3.6e-02, test acc: 99.07\n",
      "[12/30, 21 seconds]|\t train error: 8.2e-03, train acc: 99.74 |\t test error: 3.4e-02, test acc: 99.02\n",
      "[13/30, 21 seconds]|\t train error: 8.1e-03, train acc: 99.77 |\t test error: 4.1e-02, test acc: 98.97\n",
      "[14/30, 21 seconds]|\t train error: 5.5e-03, train acc: 99.83 |\t test error: 3.4e-02, test acc: 99.07\n",
      "[15/30, 21 seconds]|\t train error: 7.0e-03, train acc: 99.76 |\t test error: 3.4e-02, test acc: 99.06\n",
      "[16/30, 21 seconds]|\t train error: 8.7e-03, train acc: 99.71 |\t test error: 4.5e-02, test acc: 98.89\n",
      "[17/30, 21 seconds]|\t train error: 1.0e-02, train acc: 99.63 |\t test error: 5.2e-02, test acc: 98.75\n",
      "[18/30, 21 seconds]|\t train error: 1.5e-02, train acc: 99.51 |\t test error: 4.9e-02, test acc: 98.84\n",
      "[19/30, 21 seconds]|\t train error: 7.1e-03, train acc: 99.75 |\t test error: 4.3e-02, test acc: 99.06\n",
      "[20/30, 21 seconds]|\t train error: 4.6e-03, train acc: 99.86 |\t test error: 3.7e-02, test acc: 99.14\n",
      "[21/30, 21 seconds]|\t train error: 2.8e-03, train acc: 99.90 |\t test error: 4.6e-02, test acc: 98.98\n",
      "[22/30, 21 seconds]|\t train error: 2.8e-03, train acc: 99.90 |\t test error: 4.8e-02, test acc: 98.88\n",
      "[23/30, 21 seconds]|\t train error: 8.5e-03, train acc: 99.74 |\t test error: 4.8e-02, test acc: 99.00\n",
      "[24/30, 21 seconds]|\t train error: 4.0e-03, train acc: 99.88 |\t test error: 4.6e-02, test acc: 98.92\n",
      "[25/30, 21 seconds]|\t train error: 3.1e-03, train acc: 99.89 |\t test error: 4.8e-02, test acc: 99.02\n",
      "[26/30, 21 seconds]|\t train error: 4.3e-03, train acc: 99.86 |\t test error: 4.8e-02, test acc: 99.01\n",
      "[27/30, 21 seconds]|\t train error: 6.6e-03, train acc: 99.80 |\t test error: 4.8e-02, test acc: 98.91\n",
      "[28/30, 21 seconds]|\t train error: 5.7e-03, train acc: 99.81 |\t test error: 4.8e-02, test acc: 98.91\n",
      "[29/30, 21 seconds]|\t train error: 2.9e-03, train acc: 99.89 |\t test error: 4.6e-02, test acc: 99.01\n",
      "[30/30, 21 seconds]|\t train error: 2.4e-03, train acc: 99.93 |\t test error: 4.6e-02, test acc: 99.06\n"
     ]
    }
   ],
   "source": [
    "batch_size = 1000\n",
    "\n",
    "train_set = dsets.MNIST(root='./data/',transform=trans.ToTensor(),train=True,download=True)\n",
    "test_set = dsets.MNIST(root='./data/',transform=trans.ToTensor(),train=False,download=True)\n",
    "train_dl = torch.utils.data.DataLoader(train_set,batch_size=batch_size,shuffle=True,num_workers=6)\n",
    "test_dl = torch.utils.data.DataLoader(test_set,batch_size=batch_size,num_workers=6)\n",
    "\n",
    "# 定义优化器\n",
    "optimizer=torch.optim.Adam(net.parameters(),lr=0.01)\n",
    "criterion = nn.CrossEntropyLoss()\n",
    "nepochs = 30\n",
    "\n",
    "# 辅助函数\n",
    "def eval(model,criterion,dataloader):\n",
    "    loss = 0\n",
    "    accuracy = 0\n",
    "    for batch_x, batch_y in dataloader:\n",
    "        batch_x = Variable(batch_x)\n",
    "        batch_y = Variable(batch_y)\n",
    "#         if USE_CUDA:\n",
    "#             batch_x = batch_x.cuda()\n",
    "#             batch_y = batch_y.cuda()\n",
    "\n",
    "        logits = model(batch_x)\n",
    "        error = criterion(logits,batch_y)\n",
    "        loss += error.data\n",
    "\n",
    "        probs,pred_y = logits.data.max(dim=1)\n",
    "        # accuracy += (pred_y==batch_y.data).sum()/batch_y.size(0)\n",
    "        accuracy += torch.true_divide((pred_y==batch_y.data).sum(), batch_y.size(0))\n",
    "\n",
    "    loss /= len(dataloader)\n",
    "    accuracy = accuracy*100.0/len(dataloader)\n",
    "    return loss, accuracy\n",
    "\n",
    "for epoch in range(nepochs):\n",
    "    since = time.time()\n",
    "    for batch_x,batch_y in train_dl:\n",
    "        batch_x = Variable(batch_x)\n",
    "        batch_y = Variable(batch_y)\n",
    "#         if USE_CUDA:\n",
    "#             batch_x = batch_x.cuda()\n",
    "#             batch_y = batch_y.cuda()\n",
    "\n",
    "        optimizer.zero_grad()\n",
    "        logits = net(batch_x)\n",
    "        error = criterion(logits,batch_y)\n",
    "        error.backward()\n",
    "        optimizer.step()\n",
    "\n",
    "    now = time.time()\n",
    "    tr_loss, tr_acc = eval(net,criterion,train_dl)\n",
    "    te_loss, te_acc = eval(net,criterion,test_dl)\n",
    "    print('[%2d/%d, %.0f seconds]|\\t train error: %.1e, train acc: %.2f |\\t test error: %.1e, test acc: %.2f'%(\n",
    "                epoch+1,nepochs,now-since,tr_loss,tr_acc,te_loss,te_acc))"
   ]
  },
  {
   "cell_type": "markdown",
   "metadata": {},
   "source": [
    "## 递归神经网络"
   ]
  },
  {
   "cell_type": "code",
   "execution_count": 8,
   "metadata": {},
   "outputs": [
    {
     "name": "stdout",
     "output_type": "stream",
     "text": [
      "[1/30, 73 seconds], train error: 5.7e-01, train acc: 81.99\t test error: 5.6e-01, test acc: 82.76\n",
      "[2/30, 78 seconds], train error: 2.8e-01, train acc: 91.59\t test error: 2.8e-01, test acc: 91.55\n",
      "[3/30, 81 seconds], train error: 1.8e-01, train acc: 94.65\t test error: 1.9e-01, test acc: 94.44\n",
      "[4/30, 74 seconds], train error: 1.4e-01, train acc: 95.93\t test error: 1.4e-01, test acc: 95.75\n",
      "[5/30, 74 seconds], train error: 1.0e-01, train acc: 96.91\t test error: 1.1e-01, test acc: 96.77\n",
      "[6/30, 74 seconds], train error: 9.2e-02, train acc: 97.26\t test error: 9.8e-02, test acc: 96.94\n",
      "[7/30, 74 seconds], train error: 7.2e-02, train acc: 97.86\t test error: 8.0e-02, test acc: 97.55\n",
      "[8/30, 75 seconds], train error: 5.6e-02, train acc: 98.29\t test error: 6.5e-02, test acc: 98.11\n",
      "[9/30, 76 seconds], train error: 5.5e-02, train acc: 98.27\t test error: 6.5e-02, test acc: 98.04\n",
      "[10/30, 74 seconds], train error: 4.7e-02, train acc: 98.54\t test error: 5.8e-02, test acc: 98.09\n",
      "[11/30, 73 seconds], train error: 4.3e-02, train acc: 98.68\t test error: 5.9e-02, test acc: 98.26\n",
      "[12/30, 73 seconds], train error: 3.9e-02, train acc: 98.78\t test error: 4.8e-02, test acc: 98.55\n",
      "[13/30, 74 seconds], train error: 3.5e-02, train acc: 98.90\t test error: 5.1e-02, test acc: 98.45\n",
      "[14/30, 73 seconds], train error: 2.8e-02, train acc: 99.16\t test error: 4.3e-02, test acc: 98.60\n",
      "[15/30, 1989 seconds], train error: 2.3e-02, train acc: 99.30\t test error: 4.0e-02, test acc: 98.65\n",
      "[16/30, 70 seconds], train error: 2.2e-02, train acc: 99.33\t test error: 4.4e-02, test acc: 98.69\n",
      "[17/30, 70 seconds], train error: 2.2e-02, train acc: 99.27\t test error: 4.3e-02, test acc: 98.76\n",
      "[18/30, 70 seconds], train error: 2.0e-02, train acc: 99.39\t test error: 3.9e-02, test acc: 98.88\n",
      "[19/30, 71 seconds], train error: 1.9e-02, train acc: 99.42\t test error: 4.4e-02, test acc: 98.82\n",
      "[20/30, 73 seconds], train error: 1.4e-02, train acc: 99.61\t test error: 3.9e-02, test acc: 98.77\n",
      "[21/30, 71 seconds], train error: 1.2e-02, train acc: 99.66\t test error: 4.0e-02, test acc: 98.85\n",
      "[22/30, 71 seconds], train error: 1.2e-02, train acc: 99.65\t test error: 4.1e-02, test acc: 98.81\n",
      "[23/30, 74 seconds], train error: 1.5e-02, train acc: 99.52\t test error: 4.6e-02, test acc: 98.73\n",
      "[24/30, 71 seconds], train error: 1.6e-02, train acc: 99.55\t test error: 4.7e-02, test acc: 98.65\n",
      "[25/30, 73 seconds], train error: 1.2e-02, train acc: 99.62\t test error: 4.8e-02, test acc: 98.72\n",
      "[26/30, 74 seconds], train error: 8.8e-03, train acc: 99.76\t test error: 4.3e-02, test acc: 98.76\n",
      "[27/30, 72 seconds], train error: 8.2e-03, train acc: 99.77\t test error: 4.2e-02, test acc: 98.87\n",
      "[28/30, 73 seconds], train error: 8.9e-03, train acc: 99.74\t test error: 4.2e-02, test acc: 98.82\n",
      "[29/30, 72 seconds], train error: 9.8e-03, train acc: 99.73\t test error: 4.7e-02, test acc: 98.61\n",
      "[30/30, 72 seconds], train error: 7.9e-03, train acc: 99.77\t test error: 4.8e-02, test acc: 98.63\n"
     ]
    }
   ],
   "source": [
    "import time\n",
    "\n",
    "import torch\n",
    "import torch.nn as nn\n",
    "import torch.nn.functional as F\n",
    "from torch.autograd import Variable\n",
    "\n",
    "import torchvision.datasets as dsets\n",
    "import torchvision.transforms as trans\n",
    "\n",
    "# USE_CUDA = True\n",
    "\n",
    "batch_size = 1000\n",
    "\n",
    "train_set = dsets.MNIST(root='./data/',transform=trans.ToTensor(),train=True)\n",
    "test_set = dsets.MNIST(root='./data/',transform=trans.ToTensor(),train=False)\n",
    "train_dl = torch.utils.data.DataLoader(train_set,batch_size=batch_size,shuffle=True,num_workers=6)\n",
    "test_dl = torch.utils.data.DataLoader(test_set,batch_size=batch_size,num_workers=6)\n",
    "\n",
    "class GRU(nn.Module):\n",
    "    def __init__(self, input_size, hidden_size, num_layers, num_classes):\n",
    "        super(GRU, self).__init__()\n",
    "        self.hidden_size = hidden_size\n",
    "        self.num_layers = num_layers\n",
    "        self.gru = nn.GRU(input_size, hidden_size, num_layers, batch_first=True)\n",
    "        self.fc = nn.Linear(hidden_size, num_classes)\n",
    "\n",
    "    def forward(self, x):\n",
    "        # 隐藏层输入初始化为零\n",
    "        h0 = Variable(torch.zeros(self.num_layers, x.size(0), self.hidden_size))\n",
    "#         if USE_CUDA:\n",
    "#             h0 = h0.cuda()\n",
    "        o, _ = self.gru(x,h0)  \n",
    "        # 获取最后一个输出\n",
    "        o = o[:,-1,:]\n",
    "        o = self.fc(o)  \n",
    "        return o\n",
    "\n",
    "# 设置参数     \n",
    "input_size = 28\n",
    "seq_len = 28\n",
    "num_classes = 10\n",
    "num_layers = 2\n",
    "hidden_size = 200\n",
    "lr = 0.001\n",
    "nepochs = 30\n",
    "\n",
    "net = GRU(input_size, hidden_size,num_layers, num_classes)\n",
    "# if USE_CUDA:\n",
    "#     net = net.cuda()\n",
    "\n",
    "# 定义优化器\n",
    "criterion = nn.CrossEntropyLoss()\n",
    "optimizer = torch.optim.Adam(net.parameters(), lr=lr)\n",
    "\n",
    "# 辅助函数\n",
    "def eval(model,criterion,dataloader):\n",
    "    loss = 0\n",
    "    accuracy = 0\n",
    "    for batch_x, batch_y in dataloader:\n",
    "        batch_x = Variable(batch_x.view(-1,seq_len,input_size))\n",
    "        batch_y = Variable(batch_y)\n",
    "#         if USE_CUDA:\n",
    "#             batch_x = batch_x.cuda()\n",
    "#             batch_y = batch_y.cuda()\n",
    "\n",
    "        logits = model(batch_x)\n",
    "        error = criterion(logits,batch_y)\n",
    "        loss += error.data\n",
    "\n",
    "        probs,pred_y = logits.data.max(dim=1)\n",
    "        # accuracy += (pred_y==batch_y.data).sum()/batch_y.size(0)\n",
    "        accuracy += torch.true_divide((pred_y==batch_y.data).sum(), batch_y.size(0))\n",
    "\n",
    "    loss /= len(dataloader)\n",
    "    accuracy = accuracy*100.0/len(dataloader)\n",
    "    return loss, accuracy\n",
    "\n",
    "# 训练\n",
    "for epoch in range(nepochs):\n",
    "    since = time.time()\n",
    "    for batch_x,batch_y in train_dl:\n",
    "        batch_x = Variable(batch_x.view(-1,seq_len,input_size))\n",
    "        batch_y = Variable(batch_y)\n",
    "#         if USE_CUDA:\n",
    "#             batch_x = batch_x.cuda()\n",
    "#             batch_y = batch_y.cuda()\n",
    "\n",
    "        optimizer.zero_grad()\n",
    "        logits = net(batch_x)\n",
    "        error = criterion(logits,batch_y)\n",
    "        error.backward()\n",
    "        optimizer.step()\n",
    "\n",
    "    now = time.time()\n",
    "    tr_loss, tr_acc = eval(net,criterion,train_dl)\n",
    "    te_loss, te_acc = eval(net,criterion,test_dl)\n",
    "    print('[%d/%d, %.0f seconds], train error: %.1e, train acc: %.2f\\t test error: %.1e, test acc: %.2f'%(\n",
    "                epoch+1,nepochs,now-since,tr_loss,tr_acc,te_loss,te_acc))"
   ]
  },
  {
   "cell_type": "markdown",
   "metadata": {},
   "source": [
    "## 优化算法"
   ]
  },
  {
   "cell_type": "markdown",
   "metadata": {
    "heading_collapsed": true
   },
   "source": [
    "### SGD"
   ]
  },
  {
   "cell_type": "code",
   "execution_count": 9,
   "metadata": {
    "hidden": true
   },
   "outputs": [
    {
     "name": "stdout",
     "output_type": "stream",
     "text": [
      "<class 'generator'>\n",
      "torch.Size([100, 500])\n",
      "torch.Size([100])\n"
     ]
    }
   ],
   "source": [
    "import time\n",
    "import torch\n",
    "import torch.nn as nn\n",
    "import torch.nn.functional as F\n",
    "import torchvision.datasets as dsets\n",
    "import torchvision.transforms as trans\n",
    "\n",
    "# 为了实现算法，需要对一个模型的参数进行操作，因此需要使用类 nn.Module 的 parameters()这个成员函数。\n",
    "net = nn.Linear(500,100)\n",
    "paras = net.parameters()\n",
    "# paras 是一个 generator\n",
    "print(type(paras))\n",
    "# 输出 net 的两个参数，weght 和 bias\n",
    "for para in paras:\n",
    "    print(para.shape)"
   ]
  },
  {
   "cell_type": "code",
   "execution_count": 10,
   "metadata": {
    "hidden": true
   },
   "outputs": [
    {
     "name": "stderr",
     "output_type": "stream",
     "text": [
      "<ipython-input-10-e3d09bd5e9b3>:27: UserWarning: This overload of add_ is deprecated:\n",
      "\tadd_(Number alpha, Tensor other)\n",
      "Consider using one of the following signatures instead:\n",
      "\tadd_(Tensor other, *, Number alpha) (Triggered internally at  ..\\torch\\csrc\\utils\\python_arg_parser.cpp:766.)\n",
      "  theta.data.add_(-self.lr,m)\n"
     ]
    },
    {
     "name": "stdout",
     "output_type": "stream",
     "text": [
      "[  1/30, 5 seconds] |\t train error: 2.6e-01, train acc: 92.29 |\t test error: 2.6e-01, test acc: 92.35\n",
      "[  2/30, 5 seconds] |\t train error: 1.8e-01, train acc: 94.78 |\t test error: 1.8e-01, test acc: 94.57\n",
      "[  3/30, 6 seconds] |\t train error: 1.3e-01, train acc: 96.33 |\t test error: 1.3e-01, test acc: 96.10\n",
      "[  4/30, 6 seconds] |\t train error: 1.2e-01, train acc: 96.51 |\t test error: 1.2e-01, test acc: 96.02\n",
      "[  5/30, 6 seconds] |\t train error: 7.8e-02, train acc: 97.78 |\t test error: 9.3e-02, test acc: 97.20\n",
      "[  6/30, 6 seconds] |\t train error: 6.8e-02, train acc: 98.09 |\t test error: 9.0e-02, test acc: 97.34\n",
      "[  7/30, 6 seconds] |\t train error: 5.5e-02, train acc: 98.43 |\t test error: 7.9e-02, test acc: 97.59\n",
      "[  8/30, 6 seconds] |\t train error: 4.8e-02, train acc: 98.73 |\t test error: 7.6e-02, test acc: 97.66\n",
      "[  9/30, 6 seconds] |\t train error: 3.8e-02, train acc: 98.99 |\t test error: 7.0e-02, test acc: 97.79\n",
      "[ 10/30, 6 seconds] |\t train error: 3.2e-02, train acc: 99.21 |\t test error: 6.7e-02, test acc: 97.85\n",
      "[ 11/30, 6 seconds] |\t train error: 2.9e-02, train acc: 99.25 |\t test error: 6.6e-02, test acc: 98.03\n",
      "[ 12/30, 6 seconds] |\t train error: 2.6e-02, train acc: 99.36 |\t test error: 6.6e-02, test acc: 98.08\n",
      "[ 13/30, 5 seconds] |\t train error: 2.0e-02, train acc: 99.60 |\t test error: 6.3e-02, test acc: 98.02\n",
      "[ 14/30, 5 seconds] |\t train error: 2.1e-02, train acc: 99.53 |\t test error: 6.7e-02, test acc: 97.87\n",
      "[ 15/30, 5 seconds] |\t train error: 1.6e-02, train acc: 99.65 |\t test error: 6.3e-02, test acc: 98.08\n",
      "[ 16/30, 6 seconds] |\t train error: 1.7e-02, train acc: 99.62 |\t test error: 6.6e-02, test acc: 97.95\n",
      "[ 17/30, 6 seconds] |\t train error: 1.1e-02, train acc: 99.82 |\t test error: 6.2e-02, test acc: 98.14\n",
      "[ 18/30, 6 seconds] |\t train error: 1.2e-02, train acc: 99.78 |\t test error: 6.6e-02, test acc: 97.87\n",
      "[ 19/30, 6 seconds] |\t train error: 7.6e-03, train acc: 99.92 |\t test error: 6.0e-02, test acc: 98.20\n",
      "[ 20/30, 6 seconds] |\t train error: 6.6e-03, train acc: 99.94 |\t test error: 6.1e-02, test acc: 98.21\n",
      "[ 21/30, 6 seconds] |\t train error: 6.7e-03, train acc: 99.94 |\t test error: 6.3e-02, test acc: 98.10\n",
      "[ 22/30, 6 seconds] |\t train error: 5.1e-03, train acc: 99.97 |\t test error: 6.3e-02, test acc: 98.17\n",
      "[ 23/30, 6 seconds] |\t train error: 4.8e-03, train acc: 99.97 |\t test error: 6.2e-02, test acc: 98.18\n",
      "[ 24/30, 6 seconds] |\t train error: 3.8e-03, train acc: 99.98 |\t test error: 6.3e-02, test acc: 98.16\n",
      "[ 25/30, 6 seconds] |\t train error: 3.7e-03, train acc: 99.99 |\t test error: 6.3e-02, test acc: 98.12\n",
      "[ 26/30, 6 seconds] |\t train error: 3.0e-03, train acc: 99.99 |\t test error: 6.3e-02, test acc: 98.12\n",
      "[ 27/30, 6 seconds] |\t train error: 2.9e-03, train acc: 99.99 |\t test error: 6.2e-02, test acc: 98.23\n",
      "[ 28/30, 6 seconds] |\t train error: 2.6e-03, train acc: 100.00 |\t test error: 6.4e-02, test acc: 98.14\n",
      "[ 29/30, 6 seconds] |\t train error: 2.7e-03, train acc: 99.99 |\t test error: 6.6e-02, test acc: 98.18\n",
      "[ 30/30, 6 seconds] |\t train error: 2.1e-03, train acc: 100.00 |\t test error: 6.5e-02, test acc: 98.19\n"
     ]
    }
   ],
   "source": [
    "# SGD 实现\n",
    "class SGD:\n",
    "    def __init__(self,paras,lr=0.1,momentum=0.0):\n",
    "        \"\"\"\n",
    "        这里我们实现了经典动量加速的随机梯度法\n",
    "        \"\"\"\n",
    "        self.lr = lr\n",
    "        self.momentum = 0.0\n",
    "        # 将generator转化成list\n",
    "        self.theta_state = list(paras) \n",
    "        # 存储动量\n",
    "        self.m_state = [t.data.clone().zero_() for t in self.theta_state]\n",
    "\n",
    "    def zero_grad(self):\n",
    "        for theta in self.theta_state:\n",
    "            if theta.grad is not None:\n",
    "                theta.grad.zero_()\n",
    "\n",
    "    def step(self):\n",
    "        \"\"\"\n",
    "        调用这步之前，系统关于每个参数的导数要计算完成。\n",
    "        \"\"\"\n",
    "        for m,theta in zip(self.m_state,self.theta_state):\n",
    "            # 计算本次权值更新量\n",
    "            g = theta.grad.data\n",
    "            m.mul_(self.momentum).add_(g)\n",
    "            theta.data.add_(-self.lr,m)\n",
    "\n",
    "# 加载数据\n",
    "BATCH_SIZE = 100\n",
    "train_set = dsets.MNIST(root='./data/mnist/',transform=trans.ToTensor(),train=True)\n",
    "test_set = dsets.MNIST(root='./data/mnist/',transform=trans.ToTensor(),train=False)\n",
    "train_dl = torch.utils.data.DataLoader(train_set,batch_size=BATCH_SIZE,shuffle=True,num_workers=6)\n",
    "test_dl = torch.utils.data.DataLoader(test_set,batch_size=BATCH_SIZE,num_workers=6)\n",
    "\n",
    "# 定义模型\n",
    "device = torch.device('cuda' if torch.cuda.is_available() else 'cpu')\n",
    "\n",
    "model = nn.Sequential(nn.Linear(784,500),nn.ReLU(),nn.Linear(500,300),nn.ReLU(),nn.Linear(300,10)).to(device)\n",
    "criterion = nn.CrossEntropyLoss()\n",
    "\n",
    "# 辅助函数\n",
    "def eval(model,criterion,dataloader):\n",
    "    loss, accuracy = 0, 0\n",
    "    for batch_x, batch_y in dataloader:\n",
    "        batch_x = batch_x.view(-1,784)\n",
    "        batch_x, batch_y = batch_x.to(device), batch_y.to(device)\n",
    "\n",
    "        logits = model(batch_x)\n",
    "        error = criterion(logits,batch_y)\n",
    "        loss += error.item()\n",
    "\n",
    "        probs,pred_y = logits.data.max(dim=1)\n",
    "        # accuracy += (pred_y==batch_y.data).sum().double()/batch_y.size(0)\n",
    "        accuracy += torch.true_divide((pred_y==batch_y.data).sum(), batch_y.size(0))\n",
    "\n",
    "    loss /= len(dataloader)\n",
    "    accuracy = accuracy*100.0/len(dataloader)\n",
    "    return loss, accuracy\n",
    "\n",
    "# 运行优化算法\n",
    "sgd = SGD(model.parameters(),lr=0.1,momentum=0.9)\n",
    "nepochs = 30\n",
    "\n",
    "# 记录学习过程\n",
    "learn_history = []\n",
    "\n",
    "# 训练\n",
    "for epoch in range(nepochs):\n",
    "    since = time.time()\n",
    "    total = 0\n",
    "    for batch_x,batch_y in train_dl:\n",
    "        batch_x = batch_x.view(-1,784)\n",
    "        batch_x, batch_y = batch_x.to(device), batch_y.to(device)\n",
    "\n",
    "        sgd.zero_grad()\n",
    "        logits = model(batch_x)\n",
    "        error = criterion(logits,batch_y)\n",
    "        error.backward()\n",
    "        sgd.step()\n",
    "\n",
    "    now = time.time()\n",
    "    tr_loss, tr_acc = eval(model,criterion,train_dl)\n",
    "    te_loss, te_acc = eval(model,criterion,test_dl)\n",
    "    print('[%3d/%d, %.0f seconds] |\\t train error: %.1e, train acc: %.2f |\\t test error: %.1e, test acc: %.2f'%(\n",
    "                epoch+1,nepochs,now-since,tr_loss,tr_acc,te_loss,te_acc))\n",
    "    learn_history.append((tr_loss,tr_acc,te_loss,te_acc))"
   ]
  },
  {
   "cell_type": "code",
   "execution_count": 11,
   "metadata": {
    "hidden": true
   },
   "outputs": [
    {
     "data": {
      "image/png": "[encoded data removed]",
      "text/plain": [
       "<Figure size 432x288 with 1 Axes>"
      ]
     },
     "metadata": {
      "needs_background": "light"
     },
     "output_type": "display_data"
    }
   ],
   "source": [
    "import matplotlib.pyplot as plt\n",
    "\n",
    "plt.plot([t[0] for t in learn_history],'r',label='Training')\n",
    "plt.plot([t[2] for t in learn_history],'b',label='Test')\n",
    "plt.xlabel('Epoch')\n",
    "plt.ylabel('Cross Entropy')\n",
    "plt.legend()\n",
    "plt.show()"
   ]
  },
  {
   "cell_type": "markdown",
   "metadata": {},
   "source": [
    "### Adam"
   ]
  },
  {
   "cell_type": "code",
   "execution_count": 1,
   "metadata": {},
   "outputs": [
    {
     "name": "stderr",
     "output_type": "stream",
     "text": [
      "<ipython-input-1-b0f4458ed81c>:38: UserWarning: This overload of add_ is deprecated:\n",
      "\tadd_(Number alpha, Tensor other)\n",
      "Consider using one of the following signatures instead:\n",
      "\tadd_(Tensor other, *, Number alpha) (Triggered internally at  ..\\torch\\csrc\\utils\\python_arg_parser.cpp:766.)\n",
      "  m.mul_(self.beta1).add_(1-self.beta1,g) # 更新梯度的一阶矩\n"
     ]
    },
    {
     "name": "stdout",
     "output_type": "stream",
     "text": [
      "[  1/30, 6 seconds]| train error: 1.0e-01, train acc: 97.04 |\t test error: 1.1e-01, test acc: 96.61\n",
      "[  2/30, 7 seconds]| train error: 5.9e-02, train acc: 98.21 |\t test error: 8.3e-02, test acc: 97.33\n",
      "[  3/30, 7 seconds]| train error: 4.0e-02, train acc: 98.73 |\t test error: 7.6e-02, test acc: 97.51\n",
      "[  4/30, 7 seconds]| train error: 3.2e-02, train acc: 98.99 |\t test error: 7.1e-02, test acc: 97.72\n",
      "[  5/30, 7 seconds]| train error: 2.2e-02, train acc: 99.36 |\t test error: 6.9e-02, test acc: 98.01\n",
      "[  6/30, 6 seconds]| train error: 1.2e-02, train acc: 99.66 |\t test error: 6.8e-02, test acc: 98.10\n",
      "[  7/30, 6 seconds]| train error: 1.3e-02, train acc: 99.58 |\t test error: 6.4e-02, test acc: 98.26\n",
      "[  8/30, 7 seconds]| train error: 1.3e-02, train acc: 99.60 |\t test error: 8.0e-02, test acc: 98.13\n",
      "[  9/30, 7 seconds]| train error: 2.6e-02, train acc: 99.16 |\t test error: 1.0e-01, test acc: 97.69\n",
      "[ 10/30, 7 seconds]| train error: 8.8e-03, train acc: 99.73 |\t test error: 8.3e-02, test acc: 98.05\n",
      "[ 11/30, 6 seconds]| train error: 1.0e-02, train acc: 99.67 |\t test error: 9.1e-02, test acc: 98.04\n",
      "[ 12/30, 6 seconds]| train error: 9.9e-03, train acc: 99.64 |\t test error: 8.5e-02, test acc: 98.22\n",
      "[ 13/30, 6 seconds]| train error: 1.3e-02, train acc: 99.55 |\t test error: 1.1e-01, test acc: 97.54\n",
      "[ 14/30, 6 seconds]| train error: 4.4e-03, train acc: 99.85 |\t test error: 9.7e-02, test acc: 98.02\n",
      "[ 15/30, 6 seconds]| train error: 1.8e-02, train acc: 99.41 |\t test error: 1.2e-01, test acc: 97.79\n",
      "[ 16/30, 6 seconds]| train error: 5.4e-03, train acc: 99.83 |\t test error: 1.0e-01, test acc: 98.07\n",
      "[ 17/30, 6 seconds]| train error: 2.5e-03, train acc: 99.92 |\t test error: 8.8e-02, test acc: 98.25\n",
      "[ 18/30, 7 seconds]| train error: 6.4e-03, train acc: 99.78 |\t test error: 1.1e-01, test acc: 98.05\n",
      "[ 19/30, 7 seconds]| train error: 2.6e-03, train acc: 99.90 |\t test error: 9.3e-02, test acc: 98.38\n",
      "[ 20/30, 7 seconds]| train error: 5.9e-03, train acc: 99.81 |\t test error: 1.1e-01, test acc: 98.17\n",
      "[ 21/30, 7 seconds]| train error: 5.1e-03, train acc: 99.86 |\t test error: 1.1e-01, test acc: 98.20\n",
      "[ 22/30, 7 seconds]| train error: 5.2e-03, train acc: 99.84 |\t test error: 1.0e-01, test acc: 98.22\n",
      "[ 23/30, 7 seconds]| train error: 1.4e-03, train acc: 99.96 |\t test error: 1.0e-01, test acc: 98.34\n",
      "[ 24/30, 7 seconds]| train error: 8.0e-03, train acc: 99.71 |\t test error: 1.1e-01, test acc: 98.12\n",
      "[ 25/30, 7 seconds]| train error: 1.2e-02, train acc: 99.62 |\t test error: 1.3e-01, test acc: 97.86\n",
      "[ 26/30, 7 seconds]| train error: 1.0e-02, train acc: 99.72 |\t test error: 1.4e-01, test acc: 97.74\n",
      "[ 27/30, 7 seconds]| train error: 3.1e-03, train acc: 99.91 |\t test error: 1.2e-01, test acc: 98.07\n",
      "[ 28/30, 7 seconds]| train error: 1.1e-02, train acc: 99.68 |\t test error: 1.4e-01, test acc: 98.10\n",
      "[ 29/30, 7 seconds]| train error: 1.1e-02, train acc: 99.70 |\t test error: 1.2e-01, test acc: 97.97\n",
      "[ 30/30, 7 seconds]| train error: 7.7e-03, train acc: 99.80 |\t test error: 1.3e-01, test acc: 98.14\n"
     ]
    }
   ],
   "source": [
    "import time\n",
    "import math\n",
    "\n",
    "import torch\n",
    "import torch.nn as nn\n",
    "import torch.nn.functional as F\n",
    "\n",
    "import torchvision.datasets as dsets\n",
    "import torchvision.transforms as trans\n",
    "\n",
    "class Adam:\n",
    "    def __init__(self,paras,lr=0.1,beta1=0.9,beta2=0.999,eps=1e-8):\n",
    "        self.lr = lr\n",
    "        self.beta1 = beta1\n",
    "        self.beta2 = beta2\n",
    "        self.eps = eps\n",
    "        self.theta_state = list(paras)\n",
    "        self.m_state = []\n",
    "        self.v_state = []\n",
    "        self.num_iters = 0\n",
    "\n",
    "    def zero_grad(self):\n",
    "        for theta in self.theta_state:\n",
    "            if theta.grad is not None:\n",
    "                theta.grad.zero_()\n",
    "\n",
    "    def step(self):\n",
    "        r\"\"\"\n",
    "        调用这步之前，系统关于每个参数的导数要计算完成。\n",
    "        \"\"\"\n",
    "        self.num_iters += 1\n",
    "        if len(self.m_state)==0:\n",
    "            self.m_state = [t.data.clone().zero_() for t in self.theta_state]\n",
    "            self.v_state = [t.data.clone().zero_() for t in self.theta_state]\n",
    "\n",
    "        for m,v,theta in zip(self.m_state,self.v_state,self.theta_state):\n",
    "            g = theta.grad.data\n",
    "            m.mul_(self.beta1).add_(1-self.beta1,g) # 更新梯度的一阶矩\n",
    "            v.mul_(self.beta2).addcmul_(1-self.beta2,g,g) # 更新梯度的二阶矩\n",
    "\n",
    "            # 偏差较正\n",
    "            bias_corr1 = 1 - self.beta1**self.num_iters\n",
    "            bias_corr2 = 1 - self.beta2**self.num_iters\n",
    "\n",
    "            # 因为在初期 bias_corr2非常小，直接做下面的运算会导致溢出\n",
    "            # 一个较为稳定的做法是等价的更新学习率\n",
    "            # m.div_(bias_corr1)  \n",
    "            # v.div_(bias_corr2)\n",
    "\n",
    "            lr = self.lr* math.sqrt(bias_corr2)/bias_corr1 # 自适应学习率\n",
    "\n",
    "            theta.data.addcdiv_(-lr,m,v.sqrt().add(self.eps))\n",
    "            \n",
    "device = torch.device('cuda' if torch.cuda.is_available() else 'cpu')\n",
    "\n",
    "BATCH_SIZE = 100\n",
    "\n",
    "train_set = dsets.MNIST(root='./data/mnist/',\n",
    "                        transform=trans.ToTensor(),\n",
    "                        train=True)\n",
    "test_set = dsets.MNIST(root='./data/mnist/',\n",
    "                       transform=trans.ToTensor(),\n",
    "                       train=False)\n",
    "train_dl = torch.utils.data.DataLoader(train_set,\n",
    "                                       batch_size = BATCH_SIZE,\n",
    "                                       shuffle=True,\n",
    "                                      num_workers=6)\n",
    "test_dl = torch.utils.data.DataLoader(test_set,\n",
    "                                      batch_size= BATCH_SIZE,\n",
    "                                     num_workers=6)\n",
    "\n",
    "model = nn.Sequential(nn.Linear(784,500),\n",
    "                     nn.ReLU(),\n",
    "                     nn.Linear(500,300),\n",
    "                     nn.ReLU(),\n",
    "                     nn.Linear(300,10)).to(device)\n",
    "criterion = nn.CrossEntropyLoss()\n",
    "\n",
    "def eval(model,criterion,dataloader):\n",
    "    loss = 0\n",
    "    accuracy = 0\n",
    "    for batch_x, batch_y in dataloader:\n",
    "        batch_x = batch_x.view(-1,784)\n",
    "\n",
    "        logits = model(batch_x)\n",
    "        error = criterion(logits,batch_y)\n",
    "        loss += error.item()\n",
    "\n",
    "        probs,pred_y = logits.data.max(dim=1)\n",
    "        accuracy += (pred_y==batch_y.data).sum().double()/batch_y.size(0)\n",
    "\n",
    "    loss /= len(dataloader)\n",
    "    accuracy = accuracy*100.0/len(dataloader)\n",
    "    return loss, accuracy\n",
    "\n",
    "\n",
    "optimizer = Adam(model.parameters(),lr=0.001)\n",
    "nepochs = 30\n",
    "\n",
    "# 记录学习过程\n",
    "learn_history = []\n",
    "\n",
    "# 训练\n",
    "for epoch in range(nepochs):\n",
    "    since = time.time()\n",
    "    for batch_x,batch_y in train_dl:\n",
    "        batch_x = batch_x.view(-1,784)\n",
    "\n",
    "        optimizer.zero_grad()\n",
    "        logits = model(batch_x)\n",
    "        error = criterion(logits,batch_y)\n",
    "        error.backward()\n",
    "        optimizer.step()\n",
    "\n",
    "    now = time.time()\n",
    "    tr_loss, tr_acc = eval(model,criterion,train_dl)\n",
    "    te_loss, te_acc = eval(model,criterion,test_dl)\n",
    "    print('[%3d/%d, %.0f seconds]| train error: %.1e, train acc: %.2f |\\t test error: %.1e, test acc: %.2f'%(\n",
    "                epoch+1,nepochs,now-since,tr_loss,tr_acc,te_loss,te_acc))\n",
    "    learn_history.append((tr_loss,tr_acc,te_loss,te_acc))"
   ]
  },
  {
   "cell_type": "code",
   "execution_count": 2,
   "metadata": {},
   "outputs": [
    {
     "data": {
      "image/png": "[encoded data removed]",
      "text/plain": [
       "<Figure size 432x288 with 1 Axes>"
      ]
     },
     "metadata": {
      "needs_background": "light"
     },
     "output_type": "display_data"
    }
   ],
   "source": [
    "%matplotlib inline\n",
    "import matplotlib.pyplot as plt\n",
    "\n",
    "plt.plot([t[0] for t in learn_history],'r',label='Training')\n",
    "plt.plot([t[2] for t in learn_history],'b',label='Test')\n",
    "plt.xlabel('Epoch')\n",
    "plt.ylabel('Cross Entropy')\n",
    "plt.legend();"
   ]
  },
  {
   "cell_type": "markdown",
   "metadata": {},
   "source": [
    "### 正则化"
   ]
  },
  {
   "cell_type": "code",
   "execution_count": 4,
   "metadata": {},
   "outputs": [
    {
     "name": "stdout",
     "output_type": "stream",
     "text": [
      "开始训练使用普通网络.....\n",
      "[  1/15, 8 seconds]| train error: 9.9e-02, train acc: 97.06 |\t test error: 1.1e-01, test acc: 96.59\n",
      "[  2/15, 8 seconds]| train error: 7.5e-02, train acc: 97.72 |\t test error: 9.5e-02, test acc: 97.24\n",
      "[  3/15, 8 seconds]| train error: 4.6e-02, train acc: 98.56 |\t test error: 8.2e-02, test acc: 97.66\n",
      "[  4/15, 8 seconds]| train error: 4.3e-02, train acc: 98.69 |\t test error: 8.3e-02, test acc: 97.61\n",
      "[  5/15, 8 seconds]| train error: 2.6e-02, train acc: 99.24 |\t test error: 7.1e-02, test acc: 97.87\n",
      "[  6/15, 8 seconds]| train error: 3.0e-02, train acc: 99.00 |\t test error: 8.5e-02, test acc: 97.71\n",
      "[  7/15, 8 seconds]| train error: 1.5e-02, train acc: 99.51 |\t test error: 6.2e-02, test acc: 98.28\n",
      "[  8/15, 8 seconds]| train error: 1.5e-02, train acc: 99.51 |\t test error: 7.3e-02, test acc: 98.10\n",
      "[  9/15, 8 seconds]| train error: 1.0e-02, train acc: 99.67 |\t test error: 7.2e-02, test acc: 98.25\n",
      "[ 10/15, 8 seconds]| train error: 1.3e-02, train acc: 99.57 |\t test error: 7.6e-02, test acc: 98.12\n",
      "[ 11/15, 8 seconds]| train error: 1.5e-02, train acc: 99.48 |\t test error: 8.4e-02, test acc: 98.07\n",
      "[ 12/15, 8 seconds]| train error: 1.5e-02, train acc: 99.54 |\t test error: 9.2e-02, test acc: 97.93\n",
      "[ 13/15, 8 seconds]| train error: 9.3e-03, train acc: 99.69 |\t test error: 8.1e-02, test acc: 98.14\n",
      "[ 14/15, 8 seconds]| train error: 9.1e-03, train acc: 99.70 |\t test error: 8.2e-02, test acc: 98.17\n",
      "[ 15/15, 8 seconds]| train error: 7.8e-03, train acc: 99.75 |\t test error: 9.6e-02, test acc: 98.25\n",
      "\n",
      "开始训练使用Batch Normalization的网络....\n",
      "[  1/15, 13 seconds]| train error: 1.2e-01, train acc: 96.36 |\t test error: 1.4e-01, test acc: 95.73\n",
      "[  2/15, 11 seconds]| train error: 8.8e-02, train acc: 97.16 |\t test error: 1.1e-01, test acc: 96.42\n",
      "[  3/15, 11 seconds]| train error: 8.5e-02, train acc: 97.70 |\t test error: 1.3e-01, test acc: 96.60\n",
      "[  4/15, 11 seconds]| train error: 3.8e-02, train acc: 98.72 |\t test error: 8.5e-02, test acc: 97.52\n",
      "[  5/15, 11 seconds]| train error: 3.0e-02, train acc: 98.98 |\t test error: 7.8e-02, test acc: 97.79\n",
      "[  6/15, 11 seconds]| train error: 1.8e-02, train acc: 99.38 |\t test error: 6.7e-02, test acc: 98.28\n",
      "[  7/15, 11 seconds]| train error: 1.7e-02, train acc: 99.45 |\t test error: 8.3e-02, test acc: 97.89\n",
      "[  8/15, 11 seconds]| train error: 1.6e-02, train acc: 99.45 |\t test error: 8.5e-02, test acc: 97.95\n",
      "[  9/15, 11 seconds]| train error: 1.2e-02, train acc: 99.60 |\t test error: 7.3e-02, test acc: 98.18\n",
      "[ 10/15, 11 seconds]| train error: 1.6e-02, train acc: 99.48 |\t test error: 7.1e-02, test acc: 98.26\n",
      "[ 11/15, 11 seconds]| train error: 7.1e-03, train acc: 99.75 |\t test error: 6.7e-02, test acc: 98.42\n",
      "[ 12/15, 11 seconds]| train error: 8.7e-03, train acc: 99.75 |\t test error: 8.0e-02, test acc: 98.23\n",
      "[ 13/15, 11 seconds]| train error: 3.4e-03, train acc: 99.89 |\t test error: 6.8e-02, test acc: 98.51\n",
      "[ 14/15, 11 seconds]| train error: 1.5e-02, train acc: 99.54 |\t test error: 1.0e-01, test acc: 97.70\n",
      "[ 15/15, 11 seconds]| train error: 1.3e-02, train acc: 99.60 |\t test error: 9.2e-02, test acc: 98.17\n"
     ]
    },
    {
     "data": {
      "text/plain": [
       "' 运行结果：\\n\\n'"
      ]
     },
     "execution_count": 4,
     "metadata": {},
     "output_type": "execute_result"
    }
   ],
   "source": [
    "import time\n",
    "\n",
    "import torch\n",
    "import torch.nn as nn\n",
    "import torch.nn.functional as F\n",
    "\n",
    "import torchvision.datasets as dsets\n",
    "import torchvision.transforms as trans\n",
    "\n",
    "device = torch.device('cuda' if torch.cuda.is_available() else 'cpu')\n",
    "\n",
    "# Cross-Entropy作为损失函数\n",
    "criterion = nn.CrossEntropyLoss()\n",
    "\n",
    "# 加载数据\n",
    "batch_size = 100\n",
    "train_set = dsets.MNIST(root='./data/mnist/',transform=trans.ToTensor(),train=True)\n",
    "test_set = dsets.MNIST(root='./data/mnist/',transform=trans.ToTensor(),train=False)\n",
    "\n",
    "## 为了突出正则化的效果，我们这里减少训练集的大小 # 运行错误……\n",
    "# train_set.train_data = train_set.train_data[0:1000]\n",
    "# train_set.train_labels = train_set.train_labels[0:1000]\n",
    "\n",
    "train_dl = torch.utils.data.DataLoader(train_set,batch_size=batch_size,shuffle=True,num_workers=6)\n",
    "test_dl = torch.utils.data.DataLoader(test_set,batch_size=batch_size,num_workers=6)\n",
    "\n",
    "\n",
    "# 定义训练的辅助函数\n",
    "def eval(model,criterion,dataloader):\n",
    "    model.eval()\n",
    "    loss, accuracy = 0,0\n",
    "    for batch_x, batch_y in dataloader:\n",
    "        batch_x = batch_x.view(-1,784).to(device)\n",
    "        batch_y = batch_y.to(device)\n",
    "\n",
    "        logits = model(batch_x)\n",
    "        error = criterion(logits,batch_y)\n",
    "        loss += error.item()\n",
    "\n",
    "        probs,pred_y = logits.data.max(dim=1)\n",
    "        accuracy += (pred_y==batch_y.data).sum().double()/batch_y.size(0)\n",
    "\n",
    "    loss /= len(dataloader)\n",
    "    accuracy = accuracy*100.0/len(dataloader)\n",
    "    return loss, accuracy\n",
    "\n",
    "def train_epoch(net,criterion,optimizer,dataloader):\n",
    "    for batch_x,batch_y in dataloader:\n",
    "        batch_x = batch_x.view(-1,784).to(device)\n",
    "        batch_y = batch_y.to(device)\n",
    "\n",
    "        optimizer.zero_grad()\n",
    "        logits = net(batch_x)\n",
    "        error = criterion(logits,batch_y)\n",
    "        error.backward()\n",
    "        optimizer.step()\n",
    "        \n",
    "        \n",
    "net = nn.Linear(100,2).to(device)\n",
    "optimizer = torch.optim.SGD(net.parameters(),\n",
    "                           lr=0.1,\n",
    "                           weight_decay=1e-4)\n",
    "\n",
    "# 全连接， 不使用Batch Normalization\n",
    "net1 = nn.Sequential(nn.Linear(784,500),\n",
    "                       nn.ReLU(),\n",
    "                       nn.Linear(500,500),\n",
    "                       nn.ReLU(),\n",
    "                       nn.Linear(500,500),\n",
    "                       nn.ReLU(),\n",
    "                       nn.Linear(500,10)).to(device)\n",
    "\n",
    "# 网络结构同上，但是使用 Batch Normalization\n",
    "net2 = nn.Sequential(nn.Linear(784,500),\n",
    "                       nn.ReLU(),\n",
    "                       nn.BatchNorm1d(500),\n",
    "                       nn.Linear(500,500),\n",
    "                       nn.ReLU(),\n",
    "                       nn.BatchNorm1d(500),\n",
    "                       nn.Linear(500,500),\n",
    "                       nn.ReLU(),\n",
    "                       nn.BatchNorm1d(500),\n",
    "                       nn.Linear(500,10)).to(device)\n",
    "\n",
    "optimizer1 = torch.optim.SGD(net1.parameters(),lr=0.1,momentum=0.9)\n",
    "optimizer2 = torch.optim.SGD(net2.parameters(),lr=0.1,momentum=0.9)\n",
    "learn_hist1 = []\n",
    "learn_hist2 = []\n",
    "nepochs = 15\n",
    "\n",
    "# 训练网络1\n",
    "print('开始训练使用普通网络.....')\n",
    "for epoch in range(nepochs):\n",
    "    since = time.time()\n",
    "    train_epoch(net1,criterion,optimizer1,train_dl)\n",
    "    now = time.time()\n",
    "    tr_loss, tr_acc = eval(net1,criterion,train_dl)\n",
    "    te_loss, te_acc = eval(net1,criterion,test_dl)\n",
    "    learn_hist1.append((tr_loss,tr_acc,te_loss,te_acc))\n",
    "    print('[%3d/%d, %.0f seconds]| train error: %.1e, train acc: %.2f |\\t test error: %.1e, test acc: %.2f'%(\n",
    "                epoch+1,nepochs,now-since,tr_loss,tr_acc,te_loss,te_acc))\n",
    "\n",
    "print('\\n开始训练使用Batch Normalization的网络....')\n",
    "for epoch in range(nepochs):\n",
    "    since = time.time()\n",
    "    train_epoch(net2,criterion,optimizer2,train_dl)\n",
    "    now = time.time()\n",
    "    tr_loss, tr_acc = eval(net2,criterion,train_dl)\n",
    "    te_loss, te_acc = eval(net2,criterion,test_dl)\n",
    "    learn_hist2.append((tr_loss,tr_acc,te_loss,te_acc))\n",
    "    print('[%3d/%d, %.0f seconds]| train error: %.1e, train acc: %.2f |\\t test error: %.1e, test acc: %.2f'%(\n",
    "                epoch+1,nepochs,now-since,tr_loss,tr_acc,te_loss,te_acc))\n",
    "\"\"\" 运行结果：\n",
    "\n",
    "\"\"\""
   ]
  },
  {
   "cell_type": "code",
   "execution_count": 8,
   "metadata": {},
   "outputs": [
    {
     "data": {
      "text/plain": [
       "Text(0, 0.5, 'Accuracy')"
      ]
     },
     "execution_count": 8,
     "metadata": {},
     "output_type": "execute_result"
    },
    {
     "data": {
      "image/png": "[encoded data removed]",
      "text/plain": [
       "<Figure size 432x288 with 1 Axes>"
      ]
     },
     "metadata": {
      "needs_background": "light"
     },
     "output_type": "display_data"
    }
   ],
   "source": [
    "%matplotlib inline\n",
    "import matplotlib.pyplot as plt\n",
    "\n",
    "plt.plot([t[1] for t in learn_hist1],'r',label='Train without BN')\n",
    "plt.plot([t[3] for t in learn_hist1],'r--',label='Test without BN')\n",
    "\n",
    "plt.plot([t[1] for t in learn_hist2],'b',label='Train with BN')\n",
    "plt.plot([t[3] for t in learn_hist2],'b--',label='Test with BN')\n",
    "\n",
    "plt.ylim([95,100])\n",
    "plt.legend()\n",
    "plt.xlabel('Epoch')\n",
    "plt.ylabel('Accuracy')"
   ]
  },
  {
   "cell_type": "code",
   "execution_count": null,
   "metadata": {},
   "outputs": [],
   "source": [
    "Width = 10000\n",
    "p = 0.85\n",
    "net3 = nn.Sequential(nn.Linear(784,Width),\n",
    "                        nn.Dropout(p),\n",
    "                       nn.ReLU(),\n",
    "                       nn.Linear(Width,Width),\n",
    "                       nn.Dropout(p),\n",
    "                       nn.ReLU(),\n",
    "                       nn.Linear(Width,10)).to(device)\n",
    "\n",
    "optimizer3 = torch.optim.SGD(net3.parameters(),lr=0.1,momentum=0.9)\n",
    "learn_hist3 = []\n",
    "nepochs = 20\n",
    "\n",
    "# 训练网络\n",
    "print('开始训练使用使用Dropout的普通网络.....')\n",
    "for epoch in range(nepochs):\n",
    "    since = time.time()\n",
    "    train_epoch(net3,criterion,optimizer3,train_dl)\n",
    "    now = time.time()\n",
    "    tr_loss, tr_acc = eval(net3,criterion,train_dl)\n",
    "    te_loss, te_acc = eval(net3,criterion,test_dl)\n",
    "    learn_hist3.append((tr_loss,tr_acc,te_loss,te_acc))\n",
    "    print('[%3d/%d, %.0f seconds]| train error: %.1e, train acc: %.2f |\\t test error: %.1e, test acc: %.2f'%(\n",
    "                epoch+1,nepochs,now-since,tr_loss,tr_acc,te_loss,te_acc))\n",
    "net3.zero_grad()"
   ]
  },
  {
   "cell_type": "code",
   "execution_count": null,
   "metadata": {},
   "outputs": [],
   "source": [
    "net4 = nn.Sequential(nn.Linear(784,Width),\n",
    "                       nn.ReLU(),\n",
    "                       nn.Linear(Width,Width),\n",
    "                       nn.ReLU(),\n",
    "                       nn.Linear(Width,10)).to(device)\n",
    "\n",
    "optimizer4 = torch.optim.SGD(net4.parameters(),lr=0.1,momentum=0.9)\n",
    "learn_hist4 = []\n",
    "nepochs = 20\n",
    "\n",
    "# 训练网络\n",
    "print('开始训练使用普通网络.....')\n",
    "for epoch in range(nepochs):\n",
    "    since = time.time()\n",
    "    train_epoch(net4,criterion,optimizer4,train_dl)\n",
    "    now = time.time()\n",
    "    tr_loss, tr_acc = eval(net4,criterion,train_dl)\n",
    "    te_loss, te_acc = eval(net4,criterion,test_dl)\n",
    "    learn_hist4.append((tr_loss,tr_acc,te_loss,te_acc))\n",
    "    print('[%3d/%d, %.0f seconds]| train error: %.1e, train acc: %.2f |\\t test error: %.1e, test acc: %.2f'%(\n",
    "                epoch+1,nepochs,now-since,tr_loss,tr_acc,te_loss,te_acc))"
   ]
  },
  {
   "cell_type": "code",
   "execution_count": null,
   "metadata": {},
   "outputs": [],
   "source": []
  },
  {
   "cell_type": "code",
   "execution_count": null,
   "metadata": {},
   "outputs": [],
   "source": [
    "%matplotlib inline\n",
    "import matplotlib.pyplot as plt\n",
    "\n",
    "plt.plot([t[1] for t in learn_hist3],'r',label='Train w/ dropout')\n",
    "plt.plot([t[3] for t in learn_hist3],'r--',label='Test w/ dropout')\n",
    "\n",
    "plt.plot([t[1] for t in learn_hist4],'b',label='Train w/o dropout')\n",
    "plt.plot([t[3] for t in learn_hist4],'b--',label='Test w/o dropout')\n",
    "\n",
    "plt.ylim([80,101])\n",
    "plt.legend()\n",
    "plt.xlabel('Epoch')\n",
    "plt.ylabel('Accuracy')"
   ]
  },
  {
   "cell_type": "code",
   "execution_count": null,
   "metadata": {},
   "outputs": [],
   "source": []
  },
  {
   "cell_type": "code",
   "execution_count": null,
   "metadata": {},
   "outputs": [],
   "source": []
  },
  {
   "cell_type": "code",
   "execution_count": null,
   "metadata": {},
   "outputs": [],
   "source": []
  },
  {
   "cell_type": "code",
   "execution_count": null,
   "metadata": {},
   "outputs": [],
   "source": []
  },
  {
   "cell_type": "code",
   "execution_count": null,
   "metadata": {},
   "outputs": [],
   "source": []
  },
  {
   "cell_type": "code",
   "execution_count": null,
   "metadata": {},
   "outputs": [],
   "source": []
  },
  {
   "cell_type": "code",
   "execution_count": null,
   "metadata": {},
   "outputs": [],
   "source": []
  },
  {
   "cell_type": "code",
   "execution_count": null,
   "metadata": {},
   "outputs": [],
   "source": []
  },
  {
   "cell_type": "code",
   "execution_count": null,
   "metadata": {},
   "outputs": [],
   "source": []
  }
 ],
 "metadata": {
  "kernelspec": {
   "display_name": "Python 3.8.3 32-bit",
   "language": "python",
   "name": "python38332bit8cb975e397b84c83aa2557df177673d4"
  },
  "language_info": {
   "codemirror_mode": {
    "name": "ipython",
    "version": 3
   },
   "file_extension": ".py",
   "mimetype": "text/x-python",
   "name": "python",
   "nbconvert_exporter": "python",
   "pygments_lexer": "ipython3",
   "version": "3.8.6"
  },
  "toc": {
   "base_numbering": 1,
   "nav_menu": {},
   "number_sections": true,
   "sideBar": true,
   "skip_h1_title": false,
   "title_cell": "Table of Contents",
   "title_sidebar": "Contents",
   "toc_cell": false,
   "toc_position": {},
   "toc_section_display": true,
   "toc_window_display": true
  }
 },
 "nbformat": 4,
 "nbformat_minor": 4
}
